{
  "nbformat": 4,
  "nbformat_minor": 0,
  "metadata": {
    "colab": {
      "provenance": []
    },
    "kernelspec": {
      "name": "python3",
      "display_name": "Python 3"
    },
    "language_info": {
      "name": "python"
    }
  },
  "cells": [
    {
      "cell_type": "markdown",
      "source": [
        "# **CREDIT CARD DEFAULT PREDICTION**\n",
        "---\n",
        "\n"
      ],
      "metadata": {
        "id": "FR3-cnXeMgG4"
      }
    },
    {
      "cell_type": "markdown",
      "source": [
        "**SUMMARY:**\n",
        "\n",
        "The dataset contains information on credit card applicants received by a bank over a period of time. The collected application data includes demographic, employment, income, and other relevant information about the applicants.\n",
        "\n",
        "In order to improve its credit risk management, the bank is seeking a better understanding of its customer base and identifying key drivers of credit risk. These attributes will be evaluated to develop a credit scoring model, enabling better decision-making on applications and mitigating future losses.\n"
      ],
      "metadata": {
        "id": "lS5g9DjZkOhZ"
      }
    },
    {
      "cell_type": "markdown",
      "source": [
        "## ***SECTION-1***"
      ],
      "metadata": {
        "id": "IwvgQ47CNkGb"
      }
    },
    {
      "cell_type": "markdown",
      "source": [
        "**QUE1. Why is your proposal important in today’s world? How predicting a good client is worthy for a bank?**"
      ],
      "metadata": {
        "id": "jRGvm8F2PCSi"
      }
    },
    {
      "cell_type": "markdown",
      "source": [
        "In today's world, where financial transactions are increasingly digital and complex, predicting the likelihood of a customer defaulting on a credit card is crucial for banks. The proposal holds significance for several reasons:\n",
        "\n",
        "*  Risk management.\n",
        "*  Predicting customer behaviour.\n",
        "*  Minimizes legal & administrative expenses.\n",
        "* Attracting responsible customers and establishing trust in the financial marketplace.\n",
        "\n",
        "By using predictive models, banks can customize financial solutions for customers based on their credit risk. This personalized approach not only helps keep reliable clients but also strengthens the overall relationship between the bank and its customers. It ensures that individuals receive financial services that match their needs and capabilities, fostering trust and satisfaction.\n"
      ],
      "metadata": {
        "id": "5CoAI05EO9YC"
      }
    },
    {
      "cell_type": "markdown",
      "source": [
        "**QUE 2. How is it going to impact the banking sector?**"
      ],
      "metadata": {
        "id": "tKJsHSpARcqW"
      }
    },
    {
      "cell_type": "markdown",
      "source": [
        "**Points that will impact the Banking Sector:**\n",
        "\n",
        "\n",
        "\n",
        "1.Predictive models help banks identify potential defaulters in advance.\n",
        "\n",
        "2.This can include adjusting credit limits, offering financial counseling, or even denying credit to high-risk individuals.\n",
        "\n",
        "3.Predictive models assist banks in following regulations by showing their dedication to responsible lending practices\n",
        "\n"
      ],
      "metadata": {
        "id": "brvpNZtZuZfv"
      }
    },
    {
      "cell_type": "markdown",
      "source": [
        "**QUE 3. If any, what is the gap in the knowledge or how your proposed method can be helpful if required in future for any bank in India.**"
      ],
      "metadata": {
        "id": "8bUWnCMHz4_A"
      }
    },
    {
      "cell_type": "markdown",
      "source": [
        "One potential gap in the knowledge is the specific interpretation and understanding of the features' importance in the context of the Indian banking system. While the model identifies income, age, years of work, family size, and education as important features, their exact implications and correlations with credit card approval may vary in the Indian banking landscape due to cultural, economic, and regulatory differences.\n",
        "\n",
        "my proposed model cana help the bank to understand the behaviour of customer by going into thr depth of his/her life and expenditure, one should also consider the relation a customer maintain with his/her family."
      ],
      "metadata": {
        "id": "wJ8YApLJ0ign"
      }
    },
    {
      "cell_type": "markdown",
      "source": [
        "# **Initial Hypothesis**\n",
        "\n"
      ],
      "metadata": {
        "id": "Ec8nprWashtX"
      }
    },
    {
      "cell_type": "markdown",
      "source": [
        "Logistic Regression works better than any other alogorithms.\n",
        "we can remove ind_id column as it will be not useful.\n",
        "\n",
        "* Age can be an important factor for the approval."
      ],
      "metadata": {
        "id": "FA3ECzm83m2n"
      }
    },
    {
      "cell_type": "markdown",
      "source": [
        "**PROJECT SUMMARY**"
      ],
      "metadata": {
        "id": "vKYrsHkgaLbt"
      }
    },
    {
      "cell_type": "markdown",
      "source": [
        "**Data Preprocessing:**\n",
        "1. Getting the dataset.\n",
        "2. Importing libraries.\n",
        "3. Importing datasets.\n",
        "4. Finding Missing Data.\n",
        "5. Encoding Categorical Data.\n",
        "6. Data Cleaning and Feature Engineering.\n",
        "\n",
        "\n",
        "---\n",
        "\n"
      ],
      "metadata": {
        "id": "M-WuXg7GaV4a"
      }
    },
    {
      "cell_type": "markdown",
      "source": [
        "**EXPLORATORY DATA ANALYSIS(EDA)**"
      ],
      "metadata": {
        "id": "RQr3tBBIcNfa"
      }
    },
    {
      "cell_type": "markdown",
      "source": [
        "1. Checking distribution of dependent and independent variables.\n",
        "2. Checking categorical features.\n",
        "3. Feature Extraction\n",
        "\n"
      ],
      "metadata": {
        "id": "AlzZa0ELcWP4"
      }
    },
    {
      "cell_type": "markdown",
      "source": [
        "**IMPORTING LIBRARIES AND READING THE DATA**"
      ],
      "metadata": {
        "id": "yzjbfog6kty9"
      }
    },
    {
      "cell_type": "code",
      "source": [
        "import pandas as pd\n",
        "import numpy as np\n",
        "import seaborn as sns\n",
        "import matplotlib.pyplot as plt\n",
        "from sklearn.model_selection import train_test_split,GridSearchCV\n",
        "from sklearn.preprocessing import StandardScaler, OneHotEncoder\n",
        "from sklearn.compose import ColumnTransformer\n",
        "from sklearn.preprocessing import StandardScaler\n",
        "from sklearn.utils import resample\n",
        "from sklearn.linear_model import LogisticRegression\n",
        "from sklearn.ensemble import RandomForestClassifier\n",
        "import xgboost as xgb\n",
        "from sklearn.metrics import classification_report"
      ],
      "metadata": {
        "id": "T4JbxN88MoMF"
      },
      "execution_count": null,
      "outputs": []
    },
    {
      "cell_type": "code",
      "source": [
        "# Read the CSV files into DataFrames\n",
        "df1 = pd.read_csv('/content/Credit_card.csv')\n",
        "df2 = pd.read_csv('/content/Credit_card_label.csv')"
      ],
      "metadata": {
        "id": "Ew1-2IwzaIEf"
      },
      "execution_count": null,
      "outputs": []
    },
    {
      "cell_type": "code",
      "source": [
        "# Merge the DataFrames\n",
        "df = pd.merge(df1, df2)"
      ],
      "metadata": {
        "id": "zR889PXnoAJA"
      },
      "execution_count": null,
      "outputs": []
    },
    {
      "cell_type": "code",
      "source": [
        "df.head()"
      ],
      "metadata": {
        "colab": {
          "base_uri": "https://localhost:8080/",
          "height": 313
        },
        "id": "sjkxNtPoh53D",
        "outputId": "cefdf739-e342-4518-c4ca-f9e371549a71"
      },
      "execution_count": null,
      "outputs": [
        {
          "output_type": "execute_result",
          "data": {
            "text/plain": [
              "    Ind_ID GENDER Car_Owner Propert_Owner  CHILDREN  Annual_income  \\\n",
              "0  5008827      M         Y             Y         0       180000.0   \n",
              "1  5009744      F         Y             N         0       315000.0   \n",
              "2  5009746      F         Y             N         0       315000.0   \n",
              "3  5009749      F         Y             N         0            NaN   \n",
              "4  5009752      F         Y             N         0       315000.0   \n",
              "\n",
              "            Type_Income         EDUCATION Marital_status       Housing_type  \\\n",
              "0             Pensioner  Higher education        Married  House / apartment   \n",
              "1  Commercial associate  Higher education        Married  House / apartment   \n",
              "2  Commercial associate  Higher education        Married  House / apartment   \n",
              "3  Commercial associate  Higher education        Married  House / apartment   \n",
              "4  Commercial associate  Higher education        Married  House / apartment   \n",
              "\n",
              "   Birthday_count  Employed_days  Mobile_phone  Work_Phone  Phone  EMAIL_ID  \\\n",
              "0        -18772.0         365243             1           0      0         0   \n",
              "1        -13557.0           -586             1           1      1         0   \n",
              "2             NaN           -586             1           1      1         0   \n",
              "3        -13557.0           -586             1           1      1         0   \n",
              "4        -13557.0           -586             1           1      1         0   \n",
              "\n",
              "  Type_Occupation  Family_Members  label  \n",
              "0             NaN               2      1  \n",
              "1             NaN               2      1  \n",
              "2             NaN               2      1  \n",
              "3             NaN               2      1  \n",
              "4             NaN               2      1  "
            ],
            "text/html": [
              "\n",
              "  <div id=\"df-3591eaac-4c40-448c-8ff3-f5f0fb8b04ed\" class=\"colab-df-container\">\n",
              "    <div>\n",
              "<style scoped>\n",
              "    .dataframe tbody tr th:only-of-type {\n",
              "        vertical-align: middle;\n",
              "    }\n",
              "\n",
              "    .dataframe tbody tr th {\n",
              "        vertical-align: top;\n",
              "    }\n",
              "\n",
              "    .dataframe thead th {\n",
              "        text-align: right;\n",
              "    }\n",
              "</style>\n",
              "<table border=\"1\" class=\"dataframe\">\n",
              "  <thead>\n",
              "    <tr style=\"text-align: right;\">\n",
              "      <th></th>\n",
              "      <th>Ind_ID</th>\n",
              "      <th>GENDER</th>\n",
              "      <th>Car_Owner</th>\n",
              "      <th>Propert_Owner</th>\n",
              "      <th>CHILDREN</th>\n",
              "      <th>Annual_income</th>\n",
              "      <th>Type_Income</th>\n",
              "      <th>EDUCATION</th>\n",
              "      <th>Marital_status</th>\n",
              "      <th>Housing_type</th>\n",
              "      <th>Birthday_count</th>\n",
              "      <th>Employed_days</th>\n",
              "      <th>Mobile_phone</th>\n",
              "      <th>Work_Phone</th>\n",
              "      <th>Phone</th>\n",
              "      <th>EMAIL_ID</th>\n",
              "      <th>Type_Occupation</th>\n",
              "      <th>Family_Members</th>\n",
              "      <th>label</th>\n",
              "    </tr>\n",
              "  </thead>\n",
              "  <tbody>\n",
              "    <tr>\n",
              "      <th>0</th>\n",
              "      <td>5008827</td>\n",
              "      <td>M</td>\n",
              "      <td>Y</td>\n",
              "      <td>Y</td>\n",
              "      <td>0</td>\n",
              "      <td>180000.0</td>\n",
              "      <td>Pensioner</td>\n",
              "      <td>Higher education</td>\n",
              "      <td>Married</td>\n",
              "      <td>House / apartment</td>\n",
              "      <td>-18772.0</td>\n",
              "      <td>365243</td>\n",
              "      <td>1</td>\n",
              "      <td>0</td>\n",
              "      <td>0</td>\n",
              "      <td>0</td>\n",
              "      <td>NaN</td>\n",
              "      <td>2</td>\n",
              "      <td>1</td>\n",
              "    </tr>\n",
              "    <tr>\n",
              "      <th>1</th>\n",
              "      <td>5009744</td>\n",
              "      <td>F</td>\n",
              "      <td>Y</td>\n",
              "      <td>N</td>\n",
              "      <td>0</td>\n",
              "      <td>315000.0</td>\n",
              "      <td>Commercial associate</td>\n",
              "      <td>Higher education</td>\n",
              "      <td>Married</td>\n",
              "      <td>House / apartment</td>\n",
              "      <td>-13557.0</td>\n",
              "      <td>-586</td>\n",
              "      <td>1</td>\n",
              "      <td>1</td>\n",
              "      <td>1</td>\n",
              "      <td>0</td>\n",
              "      <td>NaN</td>\n",
              "      <td>2</td>\n",
              "      <td>1</td>\n",
              "    </tr>\n",
              "    <tr>\n",
              "      <th>2</th>\n",
              "      <td>5009746</td>\n",
              "      <td>F</td>\n",
              "      <td>Y</td>\n",
              "      <td>N</td>\n",
              "      <td>0</td>\n",
              "      <td>315000.0</td>\n",
              "      <td>Commercial associate</td>\n",
              "      <td>Higher education</td>\n",
              "      <td>Married</td>\n",
              "      <td>House / apartment</td>\n",
              "      <td>NaN</td>\n",
              "      <td>-586</td>\n",
              "      <td>1</td>\n",
              "      <td>1</td>\n",
              "      <td>1</td>\n",
              "      <td>0</td>\n",
              "      <td>NaN</td>\n",
              "      <td>2</td>\n",
              "      <td>1</td>\n",
              "    </tr>\n",
              "    <tr>\n",
              "      <th>3</th>\n",
              "      <td>5009749</td>\n",
              "      <td>F</td>\n",
              "      <td>Y</td>\n",
              "      <td>N</td>\n",
              "      <td>0</td>\n",
              "      <td>NaN</td>\n",
              "      <td>Commercial associate</td>\n",
              "      <td>Higher education</td>\n",
              "      <td>Married</td>\n",
              "      <td>House / apartment</td>\n",
              "      <td>-13557.0</td>\n",
              "      <td>-586</td>\n",
              "      <td>1</td>\n",
              "      <td>1</td>\n",
              "      <td>1</td>\n",
              "      <td>0</td>\n",
              "      <td>NaN</td>\n",
              "      <td>2</td>\n",
              "      <td>1</td>\n",
              "    </tr>\n",
              "    <tr>\n",
              "      <th>4</th>\n",
              "      <td>5009752</td>\n",
              "      <td>F</td>\n",
              "      <td>Y</td>\n",
              "      <td>N</td>\n",
              "      <td>0</td>\n",
              "      <td>315000.0</td>\n",
              "      <td>Commercial associate</td>\n",
              "      <td>Higher education</td>\n",
              "      <td>Married</td>\n",
              "      <td>House / apartment</td>\n",
              "      <td>-13557.0</td>\n",
              "      <td>-586</td>\n",
              "      <td>1</td>\n",
              "      <td>1</td>\n",
              "      <td>1</td>\n",
              "      <td>0</td>\n",
              "      <td>NaN</td>\n",
              "      <td>2</td>\n",
              "      <td>1</td>\n",
              "    </tr>\n",
              "  </tbody>\n",
              "</table>\n",
              "</div>\n",
              "    <div class=\"colab-df-buttons\">\n",
              "\n",
              "  <div class=\"colab-df-container\">\n",
              "    <button class=\"colab-df-convert\" onclick=\"convertToInteractive('df-3591eaac-4c40-448c-8ff3-f5f0fb8b04ed')\"\n",
              "            title=\"Convert this dataframe to an interactive table.\"\n",
              "            style=\"display:none;\">\n",
              "\n",
              "  <svg xmlns=\"http://www.w3.org/2000/svg\" height=\"24px\" viewBox=\"0 -960 960 960\">\n",
              "    <path d=\"M120-120v-720h720v720H120Zm60-500h600v-160H180v160Zm220 220h160v-160H400v160Zm0 220h160v-160H400v160ZM180-400h160v-160H180v160Zm440 0h160v-160H620v160ZM180-180h160v-160H180v160Zm440 0h160v-160H620v160Z\"/>\n",
              "  </svg>\n",
              "    </button>\n",
              "\n",
              "  <style>\n",
              "    .colab-df-container {\n",
              "      display:flex;\n",
              "      gap: 12px;\n",
              "    }\n",
              "\n",
              "    .colab-df-convert {\n",
              "      background-color: #E8F0FE;\n",
              "      border: none;\n",
              "      border-radius: 50%;\n",
              "      cursor: pointer;\n",
              "      display: none;\n",
              "      fill: #1967D2;\n",
              "      height: 32px;\n",
              "      padding: 0 0 0 0;\n",
              "      width: 32px;\n",
              "    }\n",
              "\n",
              "    .colab-df-convert:hover {\n",
              "      background-color: #E2EBFA;\n",
              "      box-shadow: 0px 1px 2px rgba(60, 64, 67, 0.3), 0px 1px 3px 1px rgba(60, 64, 67, 0.15);\n",
              "      fill: #174EA6;\n",
              "    }\n",
              "\n",
              "    .colab-df-buttons div {\n",
              "      margin-bottom: 4px;\n",
              "    }\n",
              "\n",
              "    [theme=dark] .colab-df-convert {\n",
              "      background-color: #3B4455;\n",
              "      fill: #D2E3FC;\n",
              "    }\n",
              "\n",
              "    [theme=dark] .colab-df-convert:hover {\n",
              "      background-color: #434B5C;\n",
              "      box-shadow: 0px 1px 3px 1px rgba(0, 0, 0, 0.15);\n",
              "      filter: drop-shadow(0px 1px 2px rgba(0, 0, 0, 0.3));\n",
              "      fill: #FFFFFF;\n",
              "    }\n",
              "  </style>\n",
              "\n",
              "    <script>\n",
              "      const buttonEl =\n",
              "        document.querySelector('#df-3591eaac-4c40-448c-8ff3-f5f0fb8b04ed button.colab-df-convert');\n",
              "      buttonEl.style.display =\n",
              "        google.colab.kernel.accessAllowed ? 'block' : 'none';\n",
              "\n",
              "      async function convertToInteractive(key) {\n",
              "        const element = document.querySelector('#df-3591eaac-4c40-448c-8ff3-f5f0fb8b04ed');\n",
              "        const dataTable =\n",
              "          await google.colab.kernel.invokeFunction('convertToInteractive',\n",
              "                                                    [key], {});\n",
              "        if (!dataTable) return;\n",
              "\n",
              "        const docLinkHtml = 'Like what you see? Visit the ' +\n",
              "          '<a target=\"_blank\" href=https://colab.research.google.com/notebooks/data_table.ipynb>data table notebook</a>'\n",
              "          + ' to learn more about interactive tables.';\n",
              "        element.innerHTML = '';\n",
              "        dataTable['output_type'] = 'display_data';\n",
              "        await google.colab.output.renderOutput(dataTable, element);\n",
              "        const docLink = document.createElement('div');\n",
              "        docLink.innerHTML = docLinkHtml;\n",
              "        element.appendChild(docLink);\n",
              "      }\n",
              "    </script>\n",
              "  </div>\n",
              "\n",
              "\n",
              "<div id=\"df-26d349eb-692f-4df5-aa36-94ef2a9b0bb8\">\n",
              "  <button class=\"colab-df-quickchart\" onclick=\"quickchart('df-26d349eb-692f-4df5-aa36-94ef2a9b0bb8')\"\n",
              "            title=\"Suggest charts\"\n",
              "            style=\"display:none;\">\n",
              "\n",
              "<svg xmlns=\"http://www.w3.org/2000/svg\" height=\"24px\"viewBox=\"0 0 24 24\"\n",
              "     width=\"24px\">\n",
              "    <g>\n",
              "        <path d=\"M19 3H5c-1.1 0-2 .9-2 2v14c0 1.1.9 2 2 2h14c1.1 0 2-.9 2-2V5c0-1.1-.9-2-2-2zM9 17H7v-7h2v7zm4 0h-2V7h2v10zm4 0h-2v-4h2v4z\"/>\n",
              "    </g>\n",
              "</svg>\n",
              "  </button>\n",
              "\n",
              "<style>\n",
              "  .colab-df-quickchart {\n",
              "      --bg-color: #E8F0FE;\n",
              "      --fill-color: #1967D2;\n",
              "      --hover-bg-color: #E2EBFA;\n",
              "      --hover-fill-color: #174EA6;\n",
              "      --disabled-fill-color: #AAA;\n",
              "      --disabled-bg-color: #DDD;\n",
              "  }\n",
              "\n",
              "  [theme=dark] .colab-df-quickchart {\n",
              "      --bg-color: #3B4455;\n",
              "      --fill-color: #D2E3FC;\n",
              "      --hover-bg-color: #434B5C;\n",
              "      --hover-fill-color: #FFFFFF;\n",
              "      --disabled-bg-color: #3B4455;\n",
              "      --disabled-fill-color: #666;\n",
              "  }\n",
              "\n",
              "  .colab-df-quickchart {\n",
              "    background-color: var(--bg-color);\n",
              "    border: none;\n",
              "    border-radius: 50%;\n",
              "    cursor: pointer;\n",
              "    display: none;\n",
              "    fill: var(--fill-color);\n",
              "    height: 32px;\n",
              "    padding: 0;\n",
              "    width: 32px;\n",
              "  }\n",
              "\n",
              "  .colab-df-quickchart:hover {\n",
              "    background-color: var(--hover-bg-color);\n",
              "    box-shadow: 0 1px 2px rgba(60, 64, 67, 0.3), 0 1px 3px 1px rgba(60, 64, 67, 0.15);\n",
              "    fill: var(--button-hover-fill-color);\n",
              "  }\n",
              "\n",
              "  .colab-df-quickchart-complete:disabled,\n",
              "  .colab-df-quickchart-complete:disabled:hover {\n",
              "    background-color: var(--disabled-bg-color);\n",
              "    fill: var(--disabled-fill-color);\n",
              "    box-shadow: none;\n",
              "  }\n",
              "\n",
              "  .colab-df-spinner {\n",
              "    border: 2px solid var(--fill-color);\n",
              "    border-color: transparent;\n",
              "    border-bottom-color: var(--fill-color);\n",
              "    animation:\n",
              "      spin 1s steps(1) infinite;\n",
              "  }\n",
              "\n",
              "  @keyframes spin {\n",
              "    0% {\n",
              "      border-color: transparent;\n",
              "      border-bottom-color: var(--fill-color);\n",
              "      border-left-color: var(--fill-color);\n",
              "    }\n",
              "    20% {\n",
              "      border-color: transparent;\n",
              "      border-left-color: var(--fill-color);\n",
              "      border-top-color: var(--fill-color);\n",
              "    }\n",
              "    30% {\n",
              "      border-color: transparent;\n",
              "      border-left-color: var(--fill-color);\n",
              "      border-top-color: var(--fill-color);\n",
              "      border-right-color: var(--fill-color);\n",
              "    }\n",
              "    40% {\n",
              "      border-color: transparent;\n",
              "      border-right-color: var(--fill-color);\n",
              "      border-top-color: var(--fill-color);\n",
              "    }\n",
              "    60% {\n",
              "      border-color: transparent;\n",
              "      border-right-color: var(--fill-color);\n",
              "    }\n",
              "    80% {\n",
              "      border-color: transparent;\n",
              "      border-right-color: var(--fill-color);\n",
              "      border-bottom-color: var(--fill-color);\n",
              "    }\n",
              "    90% {\n",
              "      border-color: transparent;\n",
              "      border-bottom-color: var(--fill-color);\n",
              "    }\n",
              "  }\n",
              "</style>\n",
              "\n",
              "  <script>\n",
              "    async function quickchart(key) {\n",
              "      const quickchartButtonEl =\n",
              "        document.querySelector('#' + key + ' button');\n",
              "      quickchartButtonEl.disabled = true;  // To prevent multiple clicks.\n",
              "      quickchartButtonEl.classList.add('colab-df-spinner');\n",
              "      try {\n",
              "        const charts = await google.colab.kernel.invokeFunction(\n",
              "            'suggestCharts', [key], {});\n",
              "      } catch (error) {\n",
              "        console.error('Error during call to suggestCharts:', error);\n",
              "      }\n",
              "      quickchartButtonEl.classList.remove('colab-df-spinner');\n",
              "      quickchartButtonEl.classList.add('colab-df-quickchart-complete');\n",
              "    }\n",
              "    (() => {\n",
              "      let quickchartButtonEl =\n",
              "        document.querySelector('#df-26d349eb-692f-4df5-aa36-94ef2a9b0bb8 button');\n",
              "      quickchartButtonEl.style.display =\n",
              "        google.colab.kernel.accessAllowed ? 'block' : 'none';\n",
              "    })();\n",
              "  </script>\n",
              "</div>\n",
              "\n",
              "    </div>\n",
              "  </div>\n"
            ]
          },
          "metadata": {},
          "execution_count": 6
        }
      ]
    },
    {
      "cell_type": "code",
      "source": [
        "df.shape"
      ],
      "metadata": {
        "colab": {
          "base_uri": "https://localhost:8080/"
        },
        "id": "XxjgT5R7h68T",
        "outputId": "1c22bad9-d9f4-4f46-b2a7-32b8f25dd9e2"
      },
      "execution_count": null,
      "outputs": [
        {
          "output_type": "execute_result",
          "data": {
            "text/plain": [
              "(1548, 19)"
            ]
          },
          "metadata": {},
          "execution_count": 7
        }
      ]
    },
    {
      "cell_type": "code",
      "source": [
        "df.info()"
      ],
      "metadata": {
        "colab": {
          "base_uri": "https://localhost:8080/"
        },
        "id": "skz46AYPiUUd",
        "outputId": "64e6102c-747f-4013-c791-bf64df6bfe84"
      },
      "execution_count": null,
      "outputs": [
        {
          "output_type": "stream",
          "name": "stdout",
          "text": [
            "<class 'pandas.core.frame.DataFrame'>\n",
            "Int64Index: 1548 entries, 0 to 1547\n",
            "Data columns (total 19 columns):\n",
            " #   Column           Non-Null Count  Dtype  \n",
            "---  ------           --------------  -----  \n",
            " 0   Ind_ID           1548 non-null   int64  \n",
            " 1   GENDER           1541 non-null   object \n",
            " 2   Car_Owner        1548 non-null   object \n",
            " 3   Propert_Owner    1548 non-null   object \n",
            " 4   CHILDREN         1548 non-null   int64  \n",
            " 5   Annual_income    1525 non-null   float64\n",
            " 6   Type_Income      1548 non-null   object \n",
            " 7   EDUCATION        1548 non-null   object \n",
            " 8   Marital_status   1548 non-null   object \n",
            " 9   Housing_type     1548 non-null   object \n",
            " 10  Birthday_count   1526 non-null   float64\n",
            " 11  Employed_days    1548 non-null   int64  \n",
            " 12  Mobile_phone     1548 non-null   int64  \n",
            " 13  Work_Phone       1548 non-null   int64  \n",
            " 14  Phone            1548 non-null   int64  \n",
            " 15  EMAIL_ID         1548 non-null   int64  \n",
            " 16  Type_Occupation  1060 non-null   object \n",
            " 17  Family_Members   1548 non-null   int64  \n",
            " 18  label            1548 non-null   int64  \n",
            "dtypes: float64(2), int64(9), object(8)\n",
            "memory usage: 241.9+ KB\n"
          ]
        }
      ]
    },
    {
      "cell_type": "code",
      "source": [
        "#Check missing values in each column\n",
        "df.isna().sum()"
      ],
      "metadata": {
        "colab": {
          "base_uri": "https://localhost:8080/"
        },
        "id": "A75dfHs4lleA",
        "outputId": "b76fcb52-7240-4aa3-ffc9-b0e3ea3f30fe"
      },
      "execution_count": null,
      "outputs": [
        {
          "output_type": "execute_result",
          "data": {
            "text/plain": [
              "Ind_ID               0\n",
              "GENDER               7\n",
              "Car_Owner            0\n",
              "Propert_Owner        0\n",
              "CHILDREN             0\n",
              "Annual_income       23\n",
              "Type_Income          0\n",
              "EDUCATION            0\n",
              "Marital_status       0\n",
              "Housing_type         0\n",
              "Birthday_count      22\n",
              "Employed_days        0\n",
              "Mobile_phone         0\n",
              "Work_Phone           0\n",
              "Phone                0\n",
              "EMAIL_ID             0\n",
              "Type_Occupation    488\n",
              "Family_Members       0\n",
              "label                0\n",
              "dtype: int64"
            ]
          },
          "metadata": {},
          "execution_count": 8
        }
      ]
    },
    {
      "cell_type": "code",
      "source": [
        "#checking duplicates\n",
        "df.duplicated().sum()"
      ],
      "metadata": {
        "colab": {
          "base_uri": "https://localhost:8080/"
        },
        "id": "_xs2hahlokom",
        "outputId": "9fbc0fc8-6fd1-4390-d2ed-6d44b19582bb"
      },
      "execution_count": null,
      "outputs": [
        {
          "output_type": "execute_result",
          "data": {
            "text/plain": [
              "0"
            ]
          },
          "metadata": {},
          "execution_count": 9
        }
      ]
    },
    {
      "cell_type": "code",
      "source": [
        "#boxplot to observe if there are outliers in 'Annual_income', 'CHILDREN', 'Birthday_count', 'Employed_days', and 'Family_Members'.\n",
        "columns = ['Annual_income','CHILDREN','Birthday_count','Employed_days','Family_Members']\n",
        "plt.figure(figsize=(10,8))\n",
        "for i,col in enumerate(columns,1):\n",
        "    plt.subplot(2,3,i)\n",
        "    sns.boxplot(y=df[col])\n",
        "    plt.title(f'Boxplot of {col}')"
      ],
      "metadata": {
        "colab": {
          "base_uri": "https://localhost:8080/",
          "height": 695
        },
        "id": "qNYdQmg1otpp",
        "outputId": "62ccd2c1-3f9d-4dfa-dc3b-62d48da3c401"
      },
      "execution_count": null,
      "outputs": [
        {
          "output_type": "display_data",
          "data": {
            "text/plain": [
              "<Figure size 1000x800 with 5 Axes>"
            ],
            "image/png": "[encoded data removed]"
          },
          "metadata": {}
        }
      ]
    },
    {
      "cell_type": "markdown",
      "source": [
        "**Upon reviewing the data format, it can be observed that:**\n",
        "1. Ind_ID should be in object format.\n",
        "2. GENDER, Annual_income, Birthday_count, and Type_Occupation contain missing values.\n",
        "*  2.1 For GENDER, fill missing values with the mode.\n",
        "*  2.2 For Annual_income and Birthday_count, fill missing values with the median.\n",
        "* 2.3 Fill missing values in Type_Occupation with \"Unknown\".\n",
        "\n",
        "\n",
        " ---\n",
        "**Outlier Analysis:**\n",
        "\n",
        "3. Annual_income: Although there are some income values higher than the majority, these values are plausible in real life and hence can be considered non-outliers.\n",
        "\n",
        "*   3.2 CHILDREN: There exists a data point with an exceptionally high value, which might be an outlier.\n",
        "\n",
        "* 3.3 Birthday_count: There doesn't seem to be any obvious outliers in this column.\n",
        "* 3.4 Employed_days: There is a data point with a significantly higher value compared to others, which might represent a placeholder or a special case (e.g., retirement). Further consideration is needed on how to handle this value.\n",
        "\n",
        "* 3.5 Family_Members: There exists a data point with an exceptionally high value, which might be an outlier. Although considering 3.2, we might not consider this value as an outlier, for subsequent model analysis, it needs to be corrected along with the extreme value in 3.2.\n",
        "\n",
        "\n",
        "\n",
        "\n",
        "\n",
        "\n",
        "\n",
        "\n",
        "\n",
        "\n"
      ],
      "metadata": {
        "id": "6wfSxl3Ept7S"
      }
    },
    {
      "cell_type": "markdown",
      "source": [
        "**Data processing**"
      ],
      "metadata": {
        "id": "Otoozh9ls-2H"
      }
    },
    {
      "cell_type": "code",
      "source": [
        "#Convert 'Ind_ID' to object format:\n",
        "df['Ind_ID'] = df['Ind_ID'].astype(str)\n",
        "\n",
        "#Fills missing values in the 'GENDER' column with the mode\n",
        "gender_mode = df['GENDER'].mode()[0]\n",
        "df['GENDER'].fillna(gender_mode, inplace=True)\n",
        "\n",
        "#Fills missing values in the 'Annual_income' and 'Birthday_count' columns with the median of each respective column.\n",
        "annual_income_median = df['Annual_income'].median()\n",
        "birthday_count_median = df['Birthday_count'].median()\n",
        "df['Annual_income'].fillna(annual_income_median, inplace=True)\n",
        "df['Birthday_count'].fillna(birthday_count_median, inplace=True)\n",
        "\n",
        "#Fills missing values in the 'Type_Occupation' column with 'Unknown'.\n",
        "df['Type_Occupation'].fillna('Unknown', inplace=True)\n",
        "\n",
        "#Check Missing Values:\n",
        "df.isna().sum()\n"
      ],
      "metadata": {
        "colab": {
          "base_uri": "https://localhost:8080/"
        },
        "id": "O1QZ0zrkopxy",
        "outputId": "3503dbe2-3e64-4a43-beb7-9e6419a5efae"
      },
      "execution_count": null,
      "outputs": [
        {
          "output_type": "execute_result",
          "data": {
            "text/plain": [
              "Ind_ID             0\n",
              "GENDER             0\n",
              "Car_Owner          0\n",
              "Propert_Owner      0\n",
              "CHILDREN           0\n",
              "Annual_income      0\n",
              "Type_Income        0\n",
              "EDUCATION          0\n",
              "Marital_status     0\n",
              "Housing_type       0\n",
              "Birthday_count     0\n",
              "Employed_days      0\n",
              "Mobile_phone       0\n",
              "Work_Phone         0\n",
              "Phone              0\n",
              "EMAIL_ID           0\n",
              "Type_Occupation    0\n",
              "Family_Members     0\n",
              "label              0\n",
              "dtype: int64"
            ]
          },
          "metadata": {},
          "execution_count": 11
        }
      ]
    },
    {
      "cell_type": "code",
      "source": [
        "# Find the second largest value in the 'CHILDREN' column\n",
        "second_largest_children = df['CHILDREN'].nlargest(2).iloc[-1]\n",
        "\n",
        "# Replace the outlier value (14) in the 'CHILDREN' column with the second largest value\n",
        "df.loc[df['CHILDREN'] == 14, 'CHILDREN'] = second_largest_children\n",
        "\n",
        "# Find the second largest value in the 'Family_Members' column\n",
        "second_largest_family = df['Family_Members'].nlargest(2).iloc[-1]\n",
        "\n",
        "# Replace the outlier value (15) in the 'Family_Members' column with the second largest value\n",
        "df.loc[df['Family_Members'] == 15, 'Family_Members'] = second_largest_family\n"
      ],
      "metadata": {
        "id": "a2nL3Kx1yiLD"
      },
      "execution_count": null,
      "outputs": []
    },
    {
      "cell_type": "markdown",
      "source": [
        "**conclusion**: By doing this, the code aims to handle outliers in these two columns by replacing them with values that are closer to the rest of the data distribution, which helps prevent skewing of the analysis or models built on this data.\n",
        "\n",
        "\n",
        "\n",
        "\n",
        "\n",
        "\n"
      ],
      "metadata": {
        "id": "Bp4PQJgvytBC"
      }
    },
    {
      "cell_type": "code",
      "source": [
        "# Convert 'Birthday_count' to 'Age'\n",
        "df['Age'] = (df['Birthday_count'] / 365).astype(int)  # Convert days to years and cast to integer\n",
        "df['Age'] = df['Age'].abs()  # Take absolute value to handle negative ages\n",
        "\n",
        "# Drop 'Birthday_count' column\n",
        "df.drop('Birthday_count', axis=1, inplace=True)\n"
      ],
      "metadata": {
        "id": "ElDhRz6-y2-b"
      },
      "execution_count": null,
      "outputs": []
    },
    {
      "cell_type": "code",
      "source": [
        "# Filter out positive values in the 'Employed_days' column\n",
        "positive_employed_days = df[df['Employed_days'] > 0]['Employed_days']\n",
        "\n",
        "# Describe the statistics of positive employed days\n",
        "positive_employed_days.describe()\n"
      ],
      "metadata": {
        "colab": {
          "base_uri": "https://localhost:8080/"
        },
        "id": "jbjJYnwaz0dF",
        "outputId": "c72318e6-9b1a-4fe7-9d2c-f9fba7654ea0"
      },
      "execution_count": null,
      "outputs": [
        {
          "output_type": "execute_result",
          "data": {
            "text/plain": [
              "count       261.0\n",
              "mean     365243.0\n",
              "std           0.0\n",
              "min      365243.0\n",
              "25%      365243.0\n",
              "50%      365243.0\n",
              "75%      365243.0\n",
              "max      365243.0\n",
              "Name: Employed_days, dtype: float64"
            ]
          },
          "metadata": {},
          "execution_count": 14
        }
      ]
    },
    {
      "cell_type": "markdown",
      "source": [
        "**concluison:** It can be observed that all positive values in the 'Employed_days' column are 365243. It can be boldly speculated that this is a special case rather than data anomalies. Next, we will continue to explore this type of value."
      ],
      "metadata": {
        "id": "2avtpQi00KbM"
      }
    },
    {
      "cell_type": "markdown",
      "source": [
        "**filtering**"
      ],
      "metadata": {
        "id": "lZ7RCM2o07E9"
      }
    },
    {
      "cell_type": "code",
      "source": [
        "# Filter rows where 'Employed_days' is equal to 365243 and select specific columns\n",
        "positive_employed_data = df[df['Employed_days'] == 365243][['Type_Income', 'Type_Occupation', 'Annual_income']]\n",
        "\n",
        "# Count occurrences of different values in 'Type_Income' and 'Type_Occupation' columns\n",
        "type_income_counts = positive_employed_data['Type_Income'].value_counts()\n",
        "type_occupation_counts = positive_employed_data['Type_Occupation'].value_counts()\n",
        "\n",
        "type_income_counts, type_occupation_counts\n"
      ],
      "metadata": {
        "colab": {
          "base_uri": "https://localhost:8080/"
        },
        "id": "6C7_59h409Sd",
        "outputId": "3be6040a-5769-4196-d5bd-a50f92a1b884"
      },
      "execution_count": null,
      "outputs": [
        {
          "output_type": "execute_result",
          "data": {
            "text/plain": [
              "(Pensioner    261\n",
              " Name: Type_Income, dtype: int64,\n",
              " Unknown    261\n",
              " Name: Type_Occupation, dtype: int64)"
            ]
          },
          "metadata": {},
          "execution_count": 15
        }
      ]
    },
    {
      "cell_type": "markdown",
      "source": [
        "**conclusion**: By doing this, we can explore the distribution of 'Type_Income' and 'Type_Occupation' for the rows where 'Employed_days' is equal to 365243 and potentially gain insights into this special case.\n",
        "\n",
        "* For all 261 positive value records, the 'Type_Income' is consistently \"Pensioner\", indicating retirees.\n",
        "* Similarly, the 'Type_Occupation' for all these records is consistently \"Unknown\"."
      ],
      "metadata": {
        "id": "rn6XZivc1CLG"
      }
    },
    {
      "cell_type": "code",
      "source": [
        "# Replace 'Unknown' in 'Type_Occupation' with 'Pensioner' for records where 'Employed_days' is 365243\n",
        "df.loc[df['Employed_days'] == 365243, 'Type_Occupation'] = 'Pensioner'\n",
        "\n",
        "# Create a new binary feature \"Is_Retired\", where retired individuals are set to 1, and others to 0\n",
        "df['Is_Retired'] = (df['Employed_days'] == 365243).astype(int)\n",
        "\n",
        "# Set positive values in 'Employed_days' to 0 since retired individuals are not employed\n",
        "df.loc[df['Employed_days'] == 365243, 'Employed_days'] = 0\n"
      ],
      "metadata": {
        "id": "QGKbcxma1J4r"
      },
      "execution_count": null,
      "outputs": []
    },
    {
      "cell_type": "markdown",
      "source": [
        "**Conversion & Drop**"
      ],
      "metadata": {
        "id": "GPpuu5hP2RsA"
      }
    },
    {
      "cell_type": "code",
      "source": [
        "# Convert 'Employed_days' to 'Employed_years'\n",
        "df['Employed_years'] = (df['Employed_days'] / 365).astype(int)  # Convert days to years and cast to integer\n",
        "df['Employed_years'] = df['Employed_years'].abs()  # Take absolute value to handle negative values\n",
        "\n",
        "# Drop 'Employed_days' column\n",
        "df.drop('Employed_days', axis=1, inplace=True)\n"
      ],
      "metadata": {
        "id": "q0NqteBG18Zm"
      },
      "execution_count": null,
      "outputs": []
    },
    {
      "cell_type": "code",
      "source": [
        "df.head()"
      ],
      "metadata": {
        "colab": {
          "base_uri": "https://localhost:8080/",
          "height": 313
        },
        "id": "wuOObEzS2d9x",
        "outputId": "db990f64-bfcc-495a-ea36-b922497e2648"
      },
      "execution_count": null,
      "outputs": [
        {
          "output_type": "execute_result",
          "data": {
            "text/plain": [
              "    Ind_ID GENDER Car_Owner Propert_Owner  CHILDREN  Annual_income  \\\n",
              "0  5008827      M         Y             Y         0       180000.0   \n",
              "1  5009744      F         Y             N         0       315000.0   \n",
              "2  5009746      F         Y             N         0       315000.0   \n",
              "3  5009749      F         Y             N         0       166500.0   \n",
              "4  5009752      F         Y             N         0       315000.0   \n",
              "\n",
              "            Type_Income         EDUCATION Marital_status       Housing_type  \\\n",
              "0             Pensioner  Higher education        Married  House / apartment   \n",
              "1  Commercial associate  Higher education        Married  House / apartment   \n",
              "2  Commercial associate  Higher education        Married  House / apartment   \n",
              "3  Commercial associate  Higher education        Married  House / apartment   \n",
              "4  Commercial associate  Higher education        Married  House / apartment   \n",
              "\n",
              "   Mobile_phone  Work_Phone  Phone  EMAIL_ID Type_Occupation  Family_Members  \\\n",
              "0             1           0      0         0       Pensioner               2   \n",
              "1             1           1      1         0         Unknown               2   \n",
              "2             1           1      1         0         Unknown               2   \n",
              "3             1           1      1         0         Unknown               2   \n",
              "4             1           1      1         0         Unknown               2   \n",
              "\n",
              "   label  Age  Is_Retired  Employed_years  \n",
              "0      1   51           1               0  \n",
              "1      1   37           0               1  \n",
              "2      1   42           0               1  \n",
              "3      1   37           0               1  \n",
              "4      1   37           0               1  "
            ],
            "text/html": [
              "\n",
              "  <div id=\"df-e9b58199-6682-4d40-948a-4caeaf66f81c\" class=\"colab-df-container\">\n",
              "    <div>\n",
              "<style scoped>\n",
              "    .dataframe tbody tr th:only-of-type {\n",
              "        vertical-align: middle;\n",
              "    }\n",
              "\n",
              "    .dataframe tbody tr th {\n",
              "        vertical-align: top;\n",
              "    }\n",
              "\n",
              "    .dataframe thead th {\n",
              "        text-align: right;\n",
              "    }\n",
              "</style>\n",
              "<table border=\"1\" class=\"dataframe\">\n",
              "  <thead>\n",
              "    <tr style=\"text-align: right;\">\n",
              "      <th></th>\n",
              "      <th>Ind_ID</th>\n",
              "      <th>GENDER</th>\n",
              "      <th>Car_Owner</th>\n",
              "      <th>Propert_Owner</th>\n",
              "      <th>CHILDREN</th>\n",
              "      <th>Annual_income</th>\n",
              "      <th>Type_Income</th>\n",
              "      <th>EDUCATION</th>\n",
              "      <th>Marital_status</th>\n",
              "      <th>Housing_type</th>\n",
              "      <th>Mobile_phone</th>\n",
              "      <th>Work_Phone</th>\n",
              "      <th>Phone</th>\n",
              "      <th>EMAIL_ID</th>\n",
              "      <th>Type_Occupation</th>\n",
              "      <th>Family_Members</th>\n",
              "      <th>label</th>\n",
              "      <th>Age</th>\n",
              "      <th>Is_Retired</th>\n",
              "      <th>Employed_years</th>\n",
              "    </tr>\n",
              "  </thead>\n",
              "  <tbody>\n",
              "    <tr>\n",
              "      <th>0</th>\n",
              "      <td>5008827</td>\n",
              "      <td>M</td>\n",
              "      <td>Y</td>\n",
              "      <td>Y</td>\n",
              "      <td>0</td>\n",
              "      <td>180000.0</td>\n",
              "      <td>Pensioner</td>\n",
              "      <td>Higher education</td>\n",
              "      <td>Married</td>\n",
              "      <td>House / apartment</td>\n",
              "      <td>1</td>\n",
              "      <td>0</td>\n",
              "      <td>0</td>\n",
              "      <td>0</td>\n",
              "      <td>Pensioner</td>\n",
              "      <td>2</td>\n",
              "      <td>1</td>\n",
              "      <td>51</td>\n",
              "      <td>1</td>\n",
              "      <td>0</td>\n",
              "    </tr>\n",
              "    <tr>\n",
              "      <th>1</th>\n",
              "      <td>5009744</td>\n",
              "      <td>F</td>\n",
              "      <td>Y</td>\n",
              "      <td>N</td>\n",
              "      <td>0</td>\n",
              "      <td>315000.0</td>\n",
              "      <td>Commercial associate</td>\n",
              "      <td>Higher education</td>\n",
              "      <td>Married</td>\n",
              "      <td>House / apartment</td>\n",
              "      <td>1</td>\n",
              "      <td>1</td>\n",
              "      <td>1</td>\n",
              "      <td>0</td>\n",
              "      <td>Unknown</td>\n",
              "      <td>2</td>\n",
              "      <td>1</td>\n",
              "      <td>37</td>\n",
              "      <td>0</td>\n",
              "      <td>1</td>\n",
              "    </tr>\n",
              "    <tr>\n",
              "      <th>2</th>\n",
              "      <td>5009746</td>\n",
              "      <td>F</td>\n",
              "      <td>Y</td>\n",
              "      <td>N</td>\n",
              "      <td>0</td>\n",
              "      <td>315000.0</td>\n",
              "      <td>Commercial associate</td>\n",
              "      <td>Higher education</td>\n",
              "      <td>Married</td>\n",
              "      <td>House / apartment</td>\n",
              "      <td>1</td>\n",
              "      <td>1</td>\n",
              "      <td>1</td>\n",
              "      <td>0</td>\n",
              "      <td>Unknown</td>\n",
              "      <td>2</td>\n",
              "      <td>1</td>\n",
              "      <td>42</td>\n",
              "      <td>0</td>\n",
              "      <td>1</td>\n",
              "    </tr>\n",
              "    <tr>\n",
              "      <th>3</th>\n",
              "      <td>5009749</td>\n",
              "      <td>F</td>\n",
              "      <td>Y</td>\n",
              "      <td>N</td>\n",
              "      <td>0</td>\n",
              "      <td>166500.0</td>\n",
              "      <td>Commercial associate</td>\n",
              "      <td>Higher education</td>\n",
              "      <td>Married</td>\n",
              "      <td>House / apartment</td>\n",
              "      <td>1</td>\n",
              "      <td>1</td>\n",
              "      <td>1</td>\n",
              "      <td>0</td>\n",
              "      <td>Unknown</td>\n",
              "      <td>2</td>\n",
              "      <td>1</td>\n",
              "      <td>37</td>\n",
              "      <td>0</td>\n",
              "      <td>1</td>\n",
              "    </tr>\n",
              "    <tr>\n",
              "      <th>4</th>\n",
              "      <td>5009752</td>\n",
              "      <td>F</td>\n",
              "      <td>Y</td>\n",
              "      <td>N</td>\n",
              "      <td>0</td>\n",
              "      <td>315000.0</td>\n",
              "      <td>Commercial associate</td>\n",
              "      <td>Higher education</td>\n",
              "      <td>Married</td>\n",
              "      <td>House / apartment</td>\n",
              "      <td>1</td>\n",
              "      <td>1</td>\n",
              "      <td>1</td>\n",
              "      <td>0</td>\n",
              "      <td>Unknown</td>\n",
              "      <td>2</td>\n",
              "      <td>1</td>\n",
              "      <td>37</td>\n",
              "      <td>0</td>\n",
              "      <td>1</td>\n",
              "    </tr>\n",
              "  </tbody>\n",
              "</table>\n",
              "</div>\n",
              "    <div class=\"colab-df-buttons\">\n",
              "\n",
              "  <div class=\"colab-df-container\">\n",
              "    <button class=\"colab-df-convert\" onclick=\"convertToInteractive('df-e9b58199-6682-4d40-948a-4caeaf66f81c')\"\n",
              "            title=\"Convert this dataframe to an interactive table.\"\n",
              "            style=\"display:none;\">\n",
              "\n",
              "  <svg xmlns=\"http://www.w3.org/2000/svg\" height=\"24px\" viewBox=\"0 -960 960 960\">\n",
              "    <path d=\"M120-120v-720h720v720H120Zm60-500h600v-160H180v160Zm220 220h160v-160H400v160Zm0 220h160v-160H400v160ZM180-400h160v-160H180v160Zm440 0h160v-160H620v160ZM180-180h160v-160H180v160Zm440 0h160v-160H620v160Z\"/>\n",
              "  </svg>\n",
              "    </button>\n",
              "\n",
              "  <style>\n",
              "    .colab-df-container {\n",
              "      display:flex;\n",
              "      gap: 12px;\n",
              "    }\n",
              "\n",
              "    .colab-df-convert {\n",
              "      background-color: #E8F0FE;\n",
              "      border: none;\n",
              "      border-radius: 50%;\n",
              "      cursor: pointer;\n",
              "      display: none;\n",
              "      fill: #1967D2;\n",
              "      height: 32px;\n",
              "      padding: 0 0 0 0;\n",
              "      width: 32px;\n",
              "    }\n",
              "\n",
              "    .colab-df-convert:hover {\n",
              "      background-color: #E2EBFA;\n",
              "      box-shadow: 0px 1px 2px rgba(60, 64, 67, 0.3), 0px 1px 3px 1px rgba(60, 64, 67, 0.15);\n",
              "      fill: #174EA6;\n",
              "    }\n",
              "\n",
              "    .colab-df-buttons div {\n",
              "      margin-bottom: 4px;\n",
              "    }\n",
              "\n",
              "    [theme=dark] .colab-df-convert {\n",
              "      background-color: #3B4455;\n",
              "      fill: #D2E3FC;\n",
              "    }\n",
              "\n",
              "    [theme=dark] .colab-df-convert:hover {\n",
              "      background-color: #434B5C;\n",
              "      box-shadow: 0px 1px 3px 1px rgba(0, 0, 0, 0.15);\n",
              "      filter: drop-shadow(0px 1px 2px rgba(0, 0, 0, 0.3));\n",
              "      fill: #FFFFFF;\n",
              "    }\n",
              "  </style>\n",
              "\n",
              "    <script>\n",
              "      const buttonEl =\n",
              "        document.querySelector('#df-e9b58199-6682-4d40-948a-4caeaf66f81c button.colab-df-convert');\n",
              "      buttonEl.style.display =\n",
              "        google.colab.kernel.accessAllowed ? 'block' : 'none';\n",
              "\n",
              "      async function convertToInteractive(key) {\n",
              "        const element = document.querySelector('#df-e9b58199-6682-4d40-948a-4caeaf66f81c');\n",
              "        const dataTable =\n",
              "          await google.colab.kernel.invokeFunction('convertToInteractive',\n",
              "                                                    [key], {});\n",
              "        if (!dataTable) return;\n",
              "\n",
              "        const docLinkHtml = 'Like what you see? Visit the ' +\n",
              "          '<a target=\"_blank\" href=https://colab.research.google.com/notebooks/data_table.ipynb>data table notebook</a>'\n",
              "          + ' to learn more about interactive tables.';\n",
              "        element.innerHTML = '';\n",
              "        dataTable['output_type'] = 'display_data';\n",
              "        await google.colab.output.renderOutput(dataTable, element);\n",
              "        const docLink = document.createElement('div');\n",
              "        docLink.innerHTML = docLinkHtml;\n",
              "        element.appendChild(docLink);\n",
              "      }\n",
              "    </script>\n",
              "  </div>\n",
              "\n",
              "\n",
              "<div id=\"df-5c21754b-827b-45ea-b284-1fc8b710c559\">\n",
              "  <button class=\"colab-df-quickchart\" onclick=\"quickchart('df-5c21754b-827b-45ea-b284-1fc8b710c559')\"\n",
              "            title=\"Suggest charts\"\n",
              "            style=\"display:none;\">\n",
              "\n",
              "<svg xmlns=\"http://www.w3.org/2000/svg\" height=\"24px\"viewBox=\"0 0 24 24\"\n",
              "     width=\"24px\">\n",
              "    <g>\n",
              "        <path d=\"M19 3H5c-1.1 0-2 .9-2 2v14c0 1.1.9 2 2 2h14c1.1 0 2-.9 2-2V5c0-1.1-.9-2-2-2zM9 17H7v-7h2v7zm4 0h-2V7h2v10zm4 0h-2v-4h2v4z\"/>\n",
              "    </g>\n",
              "</svg>\n",
              "  </button>\n",
              "\n",
              "<style>\n",
              "  .colab-df-quickchart {\n",
              "      --bg-color: #E8F0FE;\n",
              "      --fill-color: #1967D2;\n",
              "      --hover-bg-color: #E2EBFA;\n",
              "      --hover-fill-color: #174EA6;\n",
              "      --disabled-fill-color: #AAA;\n",
              "      --disabled-bg-color: #DDD;\n",
              "  }\n",
              "\n",
              "  [theme=dark] .colab-df-quickchart {\n",
              "      --bg-color: #3B4455;\n",
              "      --fill-color: #D2E3FC;\n",
              "      --hover-bg-color: #434B5C;\n",
              "      --hover-fill-color: #FFFFFF;\n",
              "      --disabled-bg-color: #3B4455;\n",
              "      --disabled-fill-color: #666;\n",
              "  }\n",
              "\n",
              "  .colab-df-quickchart {\n",
              "    background-color: var(--bg-color);\n",
              "    border: none;\n",
              "    border-radius: 50%;\n",
              "    cursor: pointer;\n",
              "    display: none;\n",
              "    fill: var(--fill-color);\n",
              "    height: 32px;\n",
              "    padding: 0;\n",
              "    width: 32px;\n",
              "  }\n",
              "\n",
              "  .colab-df-quickchart:hover {\n",
              "    background-color: var(--hover-bg-color);\n",
              "    box-shadow: 0 1px 2px rgba(60, 64, 67, 0.3), 0 1px 3px 1px rgba(60, 64, 67, 0.15);\n",
              "    fill: var(--button-hover-fill-color);\n",
              "  }\n",
              "\n",
              "  .colab-df-quickchart-complete:disabled,\n",
              "  .colab-df-quickchart-complete:disabled:hover {\n",
              "    background-color: var(--disabled-bg-color);\n",
              "    fill: var(--disabled-fill-color);\n",
              "    box-shadow: none;\n",
              "  }\n",
              "\n",
              "  .colab-df-spinner {\n",
              "    border: 2px solid var(--fill-color);\n",
              "    border-color: transparent;\n",
              "    border-bottom-color: var(--fill-color);\n",
              "    animation:\n",
              "      spin 1s steps(1) infinite;\n",
              "  }\n",
              "\n",
              "  @keyframes spin {\n",
              "    0% {\n",
              "      border-color: transparent;\n",
              "      border-bottom-color: var(--fill-color);\n",
              "      border-left-color: var(--fill-color);\n",
              "    }\n",
              "    20% {\n",
              "      border-color: transparent;\n",
              "      border-left-color: var(--fill-color);\n",
              "      border-top-color: var(--fill-color);\n",
              "    }\n",
              "    30% {\n",
              "      border-color: transparent;\n",
              "      border-left-color: var(--fill-color);\n",
              "      border-top-color: var(--fill-color);\n",
              "      border-right-color: var(--fill-color);\n",
              "    }\n",
              "    40% {\n",
              "      border-color: transparent;\n",
              "      border-right-color: var(--fill-color);\n",
              "      border-top-color: var(--fill-color);\n",
              "    }\n",
              "    60% {\n",
              "      border-color: transparent;\n",
              "      border-right-color: var(--fill-color);\n",
              "    }\n",
              "    80% {\n",
              "      border-color: transparent;\n",
              "      border-right-color: var(--fill-color);\n",
              "      border-bottom-color: var(--fill-color);\n",
              "    }\n",
              "    90% {\n",
              "      border-color: transparent;\n",
              "      border-bottom-color: var(--fill-color);\n",
              "    }\n",
              "  }\n",
              "</style>\n",
              "\n",
              "  <script>\n",
              "    async function quickchart(key) {\n",
              "      const quickchartButtonEl =\n",
              "        document.querySelector('#' + key + ' button');\n",
              "      quickchartButtonEl.disabled = true;  // To prevent multiple clicks.\n",
              "      quickchartButtonEl.classList.add('colab-df-spinner');\n",
              "      try {\n",
              "        const charts = await google.colab.kernel.invokeFunction(\n",
              "            'suggestCharts', [key], {});\n",
              "      } catch (error) {\n",
              "        console.error('Error during call to suggestCharts:', error);\n",
              "      }\n",
              "      quickchartButtonEl.classList.remove('colab-df-spinner');\n",
              "      quickchartButtonEl.classList.add('colab-df-quickchart-complete');\n",
              "    }\n",
              "    (() => {\n",
              "      let quickchartButtonEl =\n",
              "        document.querySelector('#df-5c21754b-827b-45ea-b284-1fc8b710c559 button');\n",
              "      quickchartButtonEl.style.display =\n",
              "        google.colab.kernel.accessAllowed ? 'block' : 'none';\n",
              "    })();\n",
              "  </script>\n",
              "</div>\n",
              "\n",
              "    </div>\n",
              "  </div>\n"
            ]
          },
          "metadata": {},
          "execution_count": 18
        }
      ]
    },
    {
      "cell_type": "code",
      "source": [
        "import matplotlib.pyplot as plt\n",
        "import seaborn as sns\n",
        "\n",
        "columns = ['Annual_income', 'CHILDREN', 'Age', 'Employed_years', 'Family_Members']\n",
        "plt.figure(figsize=(20, 15))\n",
        "\n",
        "for i, col in enumerate(columns, 1):\n",
        "    plt.subplot(2, 3, i)\n",
        "    sns.boxplot(y=df[col])\n",
        "    plt.title(f'Boxplot of {col}')\n",
        "\n",
        "plt.show()\n"
      ],
      "metadata": {
        "colab": {
          "base_uri": "https://localhost:8080/",
          "height": 981
        },
        "id": "jIdx_pzg3F2X",
        "outputId": "1ba179e5-36bb-4d30-beea-e58d506e201b"
      },
      "execution_count": null,
      "outputs": [
        {
          "output_type": "display_data",
          "data": {
            "text/plain": [
              "<Figure size 2000x1500 with 5 Axes>"
            ],
            "image/png": "[encoded data removed]"
          },
          "metadata": {}
        }
      ]
    },
    {
      "cell_type": "markdown",
      "source": [
        "## **Exploratory Data Analysis**"
      ],
      "metadata": {
        "id": "F6zb-hla3bkJ"
      }
    },
    {
      "cell_type": "code",
      "source": [
        "df"
      ],
      "metadata": {
        "colab": {
          "base_uri": "https://localhost:8080/",
          "height": 652
        },
        "id": "mX6cpPZ55h57",
        "outputId": "d01c7e84-4f81-44a5-87f8-67c43d7c46b3"
      },
      "execution_count": null,
      "outputs": [
        {
          "output_type": "execute_result",
          "data": {
            "text/plain": [
              "       Ind_ID GENDER Car_Owner Propert_Owner  CHILDREN  Annual_income  \\\n",
              "0     5008827      M         Y             Y         0       180000.0   \n",
              "1     5009744      F         Y             N         0       315000.0   \n",
              "2     5009746      F         Y             N         0       315000.0   \n",
              "3     5009749      F         Y             N         0       166500.0   \n",
              "4     5009752      F         Y             N         0       315000.0   \n",
              "...       ...    ...       ...           ...       ...            ...   \n",
              "1543  5028645      F         N             Y         0       166500.0   \n",
              "1544  5023655      F         N             N         0       225000.0   \n",
              "1545  5115992      M         Y             Y         2       180000.0   \n",
              "1546  5118219      M         Y             N         0       270000.0   \n",
              "1547  5053790      F         Y             Y         0       225000.0   \n",
              "\n",
              "               Type_Income                      EDUCATION  \\\n",
              "0                Pensioner               Higher education   \n",
              "1     Commercial associate               Higher education   \n",
              "2     Commercial associate               Higher education   \n",
              "3     Commercial associate               Higher education   \n",
              "4     Commercial associate               Higher education   \n",
              "...                    ...                            ...   \n",
              "1543  Commercial associate               Higher education   \n",
              "1544  Commercial associate              Incomplete higher   \n",
              "1545               Working               Higher education   \n",
              "1546               Working  Secondary / secondary special   \n",
              "1547               Working               Higher education   \n",
              "\n",
              "            Marital_status       Housing_type  Mobile_phone  Work_Phone  \\\n",
              "0                  Married  House / apartment             1           0   \n",
              "1                  Married  House / apartment             1           1   \n",
              "2                  Married  House / apartment             1           1   \n",
              "3                  Married  House / apartment             1           1   \n",
              "4                  Married  House / apartment             1           1   \n",
              "...                    ...                ...           ...         ...   \n",
              "1543               Married  House / apartment             1           0   \n",
              "1544  Single / not married  House / apartment             1           0   \n",
              "1545               Married  House / apartment             1           0   \n",
              "1546        Civil marriage  House / apartment             1           1   \n",
              "1547               Married  House / apartment             1           0   \n",
              "\n",
              "      Phone  EMAIL_ID Type_Occupation  Family_Members  label  Age  Is_Retired  \\\n",
              "0         0         0       Pensioner               2      1   51           1   \n",
              "1         1         0         Unknown               2      1   37           0   \n",
              "2         1         0         Unknown               2      1   42           0   \n",
              "3         1         0         Unknown               2      1   37           0   \n",
              "4         1         0         Unknown               2      1   37           0   \n",
              "...     ...       ...             ...             ...    ...  ...         ...   \n",
              "1543      0         0        Managers               2      0   32           0   \n",
              "1544      0         0     Accountants               1      0   28           0   \n",
              "1545      0         0        Managers               4      0   36           0   \n",
              "1546      1         0         Drivers               2      0   41           0   \n",
              "1547      0         0         Unknown               2      0   45           0   \n",
              "\n",
              "      Employed_years  \n",
              "0                  0  \n",
              "1                  1  \n",
              "2                  1  \n",
              "3                  1  \n",
              "4                  1  \n",
              "...              ...  \n",
              "1543               5  \n",
              "1544               3  \n",
              "1545               6  \n",
              "1546               1  \n",
              "1547               7  \n",
              "\n",
              "[1548 rows x 20 columns]"
            ],
            "text/html": [
              "\n",
              "  <div id=\"df-8624b657-bc6a-4fd6-875d-3807ccb403d3\" class=\"colab-df-container\">\n",
              "    <div>\n",
              "<style scoped>\n",
              "    .dataframe tbody tr th:only-of-type {\n",
              "        vertical-align: middle;\n",
              "    }\n",
              "\n",
              "    .dataframe tbody tr th {\n",
              "        vertical-align: top;\n",
              "    }\n",
              "\n",
              "    .dataframe thead th {\n",
              "        text-align: right;\n",
              "    }\n",
              "</style>\n",
              "<table border=\"1\" class=\"dataframe\">\n",
              "  <thead>\n",
              "    <tr style=\"text-align: right;\">\n",
              "      <th></th>\n",
              "      <th>Ind_ID</th>\n",
              "      <th>GENDER</th>\n",
              "      <th>Car_Owner</th>\n",
              "      <th>Propert_Owner</th>\n",
              "      <th>CHILDREN</th>\n",
              "      <th>Annual_income</th>\n",
              "      <th>Type_Income</th>\n",
              "      <th>EDUCATION</th>\n",
              "      <th>Marital_status</th>\n",
              "      <th>Housing_type</th>\n",
              "      <th>Mobile_phone</th>\n",
              "      <th>Work_Phone</th>\n",
              "      <th>Phone</th>\n",
              "      <th>EMAIL_ID</th>\n",
              "      <th>Type_Occupation</th>\n",
              "      <th>Family_Members</th>\n",
              "      <th>label</th>\n",
              "      <th>Age</th>\n",
              "      <th>Is_Retired</th>\n",
              "      <th>Employed_years</th>\n",
              "    </tr>\n",
              "  </thead>\n",
              "  <tbody>\n",
              "    <tr>\n",
              "      <th>0</th>\n",
              "      <td>5008827</td>\n",
              "      <td>M</td>\n",
              "      <td>Y</td>\n",
              "      <td>Y</td>\n",
              "      <td>0</td>\n",
              "      <td>180000.0</td>\n",
              "      <td>Pensioner</td>\n",
              "      <td>Higher education</td>\n",
              "      <td>Married</td>\n",
              "      <td>House / apartment</td>\n",
              "      <td>1</td>\n",
              "      <td>0</td>\n",
              "      <td>0</td>\n",
              "      <td>0</td>\n",
              "      <td>Pensioner</td>\n",
              "      <td>2</td>\n",
              "      <td>1</td>\n",
              "      <td>51</td>\n",
              "      <td>1</td>\n",
              "      <td>0</td>\n",
              "    </tr>\n",
              "    <tr>\n",
              "      <th>1</th>\n",
              "      <td>5009744</td>\n",
              "      <td>F</td>\n",
              "      <td>Y</td>\n",
              "      <td>N</td>\n",
              "      <td>0</td>\n",
              "      <td>315000.0</td>\n",
              "      <td>Commercial associate</td>\n",
              "      <td>Higher education</td>\n",
              "      <td>Married</td>\n",
              "      <td>House / apartment</td>\n",
              "      <td>1</td>\n",
              "      <td>1</td>\n",
              "      <td>1</td>\n",
              "      <td>0</td>\n",
              "      <td>Unknown</td>\n",
              "      <td>2</td>\n",
              "      <td>1</td>\n",
              "      <td>37</td>\n",
              "      <td>0</td>\n",
              "      <td>1</td>\n",
              "    </tr>\n",
              "    <tr>\n",
              "      <th>2</th>\n",
              "      <td>5009746</td>\n",
              "      <td>F</td>\n",
              "      <td>Y</td>\n",
              "      <td>N</td>\n",
              "      <td>0</td>\n",
              "      <td>315000.0</td>\n",
              "      <td>Commercial associate</td>\n",
              "      <td>Higher education</td>\n",
              "      <td>Married</td>\n",
              "      <td>House / apartment</td>\n",
              "      <td>1</td>\n",
              "      <td>1</td>\n",
              "      <td>1</td>\n",
              "      <td>0</td>\n",
              "      <td>Unknown</td>\n",
              "      <td>2</td>\n",
              "      <td>1</td>\n",
              "      <td>42</td>\n",
              "      <td>0</td>\n",
              "      <td>1</td>\n",
              "    </tr>\n",
              "    <tr>\n",
              "      <th>3</th>\n",
              "      <td>5009749</td>\n",
              "      <td>F</td>\n",
              "      <td>Y</td>\n",
              "      <td>N</td>\n",
              "      <td>0</td>\n",
              "      <td>166500.0</td>\n",
              "      <td>Commercial associate</td>\n",
              "      <td>Higher education</td>\n",
              "      <td>Married</td>\n",
              "      <td>House / apartment</td>\n",
              "      <td>1</td>\n",
              "      <td>1</td>\n",
              "      <td>1</td>\n",
              "      <td>0</td>\n",
              "      <td>Unknown</td>\n",
              "      <td>2</td>\n",
              "      <td>1</td>\n",
              "      <td>37</td>\n",
              "      <td>0</td>\n",
              "      <td>1</td>\n",
              "    </tr>\n",
              "    <tr>\n",
              "      <th>4</th>\n",
              "      <td>5009752</td>\n",
              "      <td>F</td>\n",
              "      <td>Y</td>\n",
              "      <td>N</td>\n",
              "      <td>0</td>\n",
              "      <td>315000.0</td>\n",
              "      <td>Commercial associate</td>\n",
              "      <td>Higher education</td>\n",
              "      <td>Married</td>\n",
              "      <td>House / apartment</td>\n",
              "      <td>1</td>\n",
              "      <td>1</td>\n",
              "      <td>1</td>\n",
              "      <td>0</td>\n",
              "      <td>Unknown</td>\n",
              "      <td>2</td>\n",
              "      <td>1</td>\n",
              "      <td>37</td>\n",
              "      <td>0</td>\n",
              "      <td>1</td>\n",
              "    </tr>\n",
              "    <tr>\n",
              "      <th>...</th>\n",
              "      <td>...</td>\n",
              "      <td>...</td>\n",
              "      <td>...</td>\n",
              "      <td>...</td>\n",
              "      <td>...</td>\n",
              "      <td>...</td>\n",
              "      <td>...</td>\n",
              "      <td>...</td>\n",
              "      <td>...</td>\n",
              "      <td>...</td>\n",
              "      <td>...</td>\n",
              "      <td>...</td>\n",
              "      <td>...</td>\n",
              "      <td>...</td>\n",
              "      <td>...</td>\n",
              "      <td>...</td>\n",
              "      <td>...</td>\n",
              "      <td>...</td>\n",
              "      <td>...</td>\n",
              "      <td>...</td>\n",
              "    </tr>\n",
              "    <tr>\n",
              "      <th>1543</th>\n",
              "      <td>5028645</td>\n",
              "      <td>F</td>\n",
              "      <td>N</td>\n",
              "      <td>Y</td>\n",
              "      <td>0</td>\n",
              "      <td>166500.0</td>\n",
              "      <td>Commercial associate</td>\n",
              "      <td>Higher education</td>\n",
              "      <td>Married</td>\n",
              "      <td>House / apartment</td>\n",
              "      <td>1</td>\n",
              "      <td>0</td>\n",
              "      <td>0</td>\n",
              "      <td>0</td>\n",
              "      <td>Managers</td>\n",
              "      <td>2</td>\n",
              "      <td>0</td>\n",
              "      <td>32</td>\n",
              "      <td>0</td>\n",
              "      <td>5</td>\n",
              "    </tr>\n",
              "    <tr>\n",
              "      <th>1544</th>\n",
              "      <td>5023655</td>\n",
              "      <td>F</td>\n",
              "      <td>N</td>\n",
              "      <td>N</td>\n",
              "      <td>0</td>\n",
              "      <td>225000.0</td>\n",
              "      <td>Commercial associate</td>\n",
              "      <td>Incomplete higher</td>\n",
              "      <td>Single / not married</td>\n",
              "      <td>House / apartment</td>\n",
              "      <td>1</td>\n",
              "      <td>0</td>\n",
              "      <td>0</td>\n",
              "      <td>0</td>\n",
              "      <td>Accountants</td>\n",
              "      <td>1</td>\n",
              "      <td>0</td>\n",
              "      <td>28</td>\n",
              "      <td>0</td>\n",
              "      <td>3</td>\n",
              "    </tr>\n",
              "    <tr>\n",
              "      <th>1545</th>\n",
              "      <td>5115992</td>\n",
              "      <td>M</td>\n",
              "      <td>Y</td>\n",
              "      <td>Y</td>\n",
              "      <td>2</td>\n",
              "      <td>180000.0</td>\n",
              "      <td>Working</td>\n",
              "      <td>Higher education</td>\n",
              "      <td>Married</td>\n",
              "      <td>House / apartment</td>\n",
              "      <td>1</td>\n",
              "      <td>0</td>\n",
              "      <td>0</td>\n",
              "      <td>0</td>\n",
              "      <td>Managers</td>\n",
              "      <td>4</td>\n",
              "      <td>0</td>\n",
              "      <td>36</td>\n",
              "      <td>0</td>\n",
              "      <td>6</td>\n",
              "    </tr>\n",
              "    <tr>\n",
              "      <th>1546</th>\n",
              "      <td>5118219</td>\n",
              "      <td>M</td>\n",
              "      <td>Y</td>\n",
              "      <td>N</td>\n",
              "      <td>0</td>\n",
              "      <td>270000.0</td>\n",
              "      <td>Working</td>\n",
              "      <td>Secondary / secondary special</td>\n",
              "      <td>Civil marriage</td>\n",
              "      <td>House / apartment</td>\n",
              "      <td>1</td>\n",
              "      <td>1</td>\n",
              "      <td>1</td>\n",
              "      <td>0</td>\n",
              "      <td>Drivers</td>\n",
              "      <td>2</td>\n",
              "      <td>0</td>\n",
              "      <td>41</td>\n",
              "      <td>0</td>\n",
              "      <td>1</td>\n",
              "    </tr>\n",
              "    <tr>\n",
              "      <th>1547</th>\n",
              "      <td>5053790</td>\n",
              "      <td>F</td>\n",
              "      <td>Y</td>\n",
              "      <td>Y</td>\n",
              "      <td>0</td>\n",
              "      <td>225000.0</td>\n",
              "      <td>Working</td>\n",
              "      <td>Higher education</td>\n",
              "      <td>Married</td>\n",
              "      <td>House / apartment</td>\n",
              "      <td>1</td>\n",
              "      <td>0</td>\n",
              "      <td>0</td>\n",
              "      <td>0</td>\n",
              "      <td>Unknown</td>\n",
              "      <td>2</td>\n",
              "      <td>0</td>\n",
              "      <td>45</td>\n",
              "      <td>0</td>\n",
              "      <td>7</td>\n",
              "    </tr>\n",
              "  </tbody>\n",
              "</table>\n",
              "<p>1548 rows × 20 columns</p>\n",
              "</div>\n",
              "    <div class=\"colab-df-buttons\">\n",
              "\n",
              "  <div class=\"colab-df-container\">\n",
              "    <button class=\"colab-df-convert\" onclick=\"convertToInteractive('df-8624b657-bc6a-4fd6-875d-3807ccb403d3')\"\n",
              "            title=\"Convert this dataframe to an interactive table.\"\n",
              "            style=\"display:none;\">\n",
              "\n",
              "  <svg xmlns=\"http://www.w3.org/2000/svg\" height=\"24px\" viewBox=\"0 -960 960 960\">\n",
              "    <path d=\"M120-120v-720h720v720H120Zm60-500h600v-160H180v160Zm220 220h160v-160H400v160Zm0 220h160v-160H400v160ZM180-400h160v-160H180v160Zm440 0h160v-160H620v160ZM180-180h160v-160H180v160Zm440 0h160v-160H620v160Z\"/>\n",
              "  </svg>\n",
              "    </button>\n",
              "\n",
              "  <style>\n",
              "    .colab-df-container {\n",
              "      display:flex;\n",
              "      gap: 12px;\n",
              "    }\n",
              "\n",
              "    .colab-df-convert {\n",
              "      background-color: #E8F0FE;\n",
              "      border: none;\n",
              "      border-radius: 50%;\n",
              "      cursor: pointer;\n",
              "      display: none;\n",
              "      fill: #1967D2;\n",
              "      height: 32px;\n",
              "      padding: 0 0 0 0;\n",
              "      width: 32px;\n",
              "    }\n",
              "\n",
              "    .colab-df-convert:hover {\n",
              "      background-color: #E2EBFA;\n",
              "      box-shadow: 0px 1px 2px rgba(60, 64, 67, 0.3), 0px 1px 3px 1px rgba(60, 64, 67, 0.15);\n",
              "      fill: #174EA6;\n",
              "    }\n",
              "\n",
              "    .colab-df-buttons div {\n",
              "      margin-bottom: 4px;\n",
              "    }\n",
              "\n",
              "    [theme=dark] .colab-df-convert {\n",
              "      background-color: #3B4455;\n",
              "      fill: #D2E3FC;\n",
              "    }\n",
              "\n",
              "    [theme=dark] .colab-df-convert:hover {\n",
              "      background-color: #434B5C;\n",
              "      box-shadow: 0px 1px 3px 1px rgba(0, 0, 0, 0.15);\n",
              "      filter: drop-shadow(0px 1px 2px rgba(0, 0, 0, 0.3));\n",
              "      fill: #FFFFFF;\n",
              "    }\n",
              "  </style>\n",
              "\n",
              "    <script>\n",
              "      const buttonEl =\n",
              "        document.querySelector('#df-8624b657-bc6a-4fd6-875d-3807ccb403d3 button.colab-df-convert');\n",
              "      buttonEl.style.display =\n",
              "        google.colab.kernel.accessAllowed ? 'block' : 'none';\n",
              "\n",
              "      async function convertToInteractive(key) {\n",
              "        const element = document.querySelector('#df-8624b657-bc6a-4fd6-875d-3807ccb403d3');\n",
              "        const dataTable =\n",
              "          await google.colab.kernel.invokeFunction('convertToInteractive',\n",
              "                                                    [key], {});\n",
              "        if (!dataTable) return;\n",
              "\n",
              "        const docLinkHtml = 'Like what you see? Visit the ' +\n",
              "          '<a target=\"_blank\" href=https://colab.research.google.com/notebooks/data_table.ipynb>data table notebook</a>'\n",
              "          + ' to learn more about interactive tables.';\n",
              "        element.innerHTML = '';\n",
              "        dataTable['output_type'] = 'display_data';\n",
              "        await google.colab.output.renderOutput(dataTable, element);\n",
              "        const docLink = document.createElement('div');\n",
              "        docLink.innerHTML = docLinkHtml;\n",
              "        element.appendChild(docLink);\n",
              "      }\n",
              "    </script>\n",
              "  </div>\n",
              "\n",
              "\n",
              "<div id=\"df-3912790b-ddc7-4113-9c58-16571932c47d\">\n",
              "  <button class=\"colab-df-quickchart\" onclick=\"quickchart('df-3912790b-ddc7-4113-9c58-16571932c47d')\"\n",
              "            title=\"Suggest charts\"\n",
              "            style=\"display:none;\">\n",
              "\n",
              "<svg xmlns=\"http://www.w3.org/2000/svg\" height=\"24px\"viewBox=\"0 0 24 24\"\n",
              "     width=\"24px\">\n",
              "    <g>\n",
              "        <path d=\"M19 3H5c-1.1 0-2 .9-2 2v14c0 1.1.9 2 2 2h14c1.1 0 2-.9 2-2V5c0-1.1-.9-2-2-2zM9 17H7v-7h2v7zm4 0h-2V7h2v10zm4 0h-2v-4h2v4z\"/>\n",
              "    </g>\n",
              "</svg>\n",
              "  </button>\n",
              "\n",
              "<style>\n",
              "  .colab-df-quickchart {\n",
              "      --bg-color: #E8F0FE;\n",
              "      --fill-color: #1967D2;\n",
              "      --hover-bg-color: #E2EBFA;\n",
              "      --hover-fill-color: #174EA6;\n",
              "      --disabled-fill-color: #AAA;\n",
              "      --disabled-bg-color: #DDD;\n",
              "  }\n",
              "\n",
              "  [theme=dark] .colab-df-quickchart {\n",
              "      --bg-color: #3B4455;\n",
              "      --fill-color: #D2E3FC;\n",
              "      --hover-bg-color: #434B5C;\n",
              "      --hover-fill-color: #FFFFFF;\n",
              "      --disabled-bg-color: #3B4455;\n",
              "      --disabled-fill-color: #666;\n",
              "  }\n",
              "\n",
              "  .colab-df-quickchart {\n",
              "    background-color: var(--bg-color);\n",
              "    border: none;\n",
              "    border-radius: 50%;\n",
              "    cursor: pointer;\n",
              "    display: none;\n",
              "    fill: var(--fill-color);\n",
              "    height: 32px;\n",
              "    padding: 0;\n",
              "    width: 32px;\n",
              "  }\n",
              "\n",
              "  .colab-df-quickchart:hover {\n",
              "    background-color: var(--hover-bg-color);\n",
              "    box-shadow: 0 1px 2px rgba(60, 64, 67, 0.3), 0 1px 3px 1px rgba(60, 64, 67, 0.15);\n",
              "    fill: var(--button-hover-fill-color);\n",
              "  }\n",
              "\n",
              "  .colab-df-quickchart-complete:disabled,\n",
              "  .colab-df-quickchart-complete:disabled:hover {\n",
              "    background-color: var(--disabled-bg-color);\n",
              "    fill: var(--disabled-fill-color);\n",
              "    box-shadow: none;\n",
              "  }\n",
              "\n",
              "  .colab-df-spinner {\n",
              "    border: 2px solid var(--fill-color);\n",
              "    border-color: transparent;\n",
              "    border-bottom-color: var(--fill-color);\n",
              "    animation:\n",
              "      spin 1s steps(1) infinite;\n",
              "  }\n",
              "\n",
              "  @keyframes spin {\n",
              "    0% {\n",
              "      border-color: transparent;\n",
              "      border-bottom-color: var(--fill-color);\n",
              "      border-left-color: var(--fill-color);\n",
              "    }\n",
              "    20% {\n",
              "      border-color: transparent;\n",
              "      border-left-color: var(--fill-color);\n",
              "      border-top-color: var(--fill-color);\n",
              "    }\n",
              "    30% {\n",
              "      border-color: transparent;\n",
              "      border-left-color: var(--fill-color);\n",
              "      border-top-color: var(--fill-color);\n",
              "      border-right-color: var(--fill-color);\n",
              "    }\n",
              "    40% {\n",
              "      border-color: transparent;\n",
              "      border-right-color: var(--fill-color);\n",
              "      border-top-color: var(--fill-color);\n",
              "    }\n",
              "    60% {\n",
              "      border-color: transparent;\n",
              "      border-right-color: var(--fill-color);\n",
              "    }\n",
              "    80% {\n",
              "      border-color: transparent;\n",
              "      border-right-color: var(--fill-color);\n",
              "      border-bottom-color: var(--fill-color);\n",
              "    }\n",
              "    90% {\n",
              "      border-color: transparent;\n",
              "      border-bottom-color: var(--fill-color);\n",
              "    }\n",
              "  }\n",
              "</style>\n",
              "\n",
              "  <script>\n",
              "    async function quickchart(key) {\n",
              "      const quickchartButtonEl =\n",
              "        document.querySelector('#' + key + ' button');\n",
              "      quickchartButtonEl.disabled = true;  // To prevent multiple clicks.\n",
              "      quickchartButtonEl.classList.add('colab-df-spinner');\n",
              "      try {\n",
              "        const charts = await google.colab.kernel.invokeFunction(\n",
              "            'suggestCharts', [key], {});\n",
              "      } catch (error) {\n",
              "        console.error('Error during call to suggestCharts:', error);\n",
              "      }\n",
              "      quickchartButtonEl.classList.remove('colab-df-spinner');\n",
              "      quickchartButtonEl.classList.add('colab-df-quickchart-complete');\n",
              "    }\n",
              "    (() => {\n",
              "      let quickchartButtonEl =\n",
              "        document.querySelector('#df-3912790b-ddc7-4113-9c58-16571932c47d button');\n",
              "      quickchartButtonEl.style.display =\n",
              "        google.colab.kernel.accessAllowed ? 'block' : 'none';\n",
              "    })();\n",
              "  </script>\n",
              "</div>\n",
              "\n",
              "  <div id=\"id_243b6bda-0588-4d70-ac6a-5ad6d248c5e3\">\n",
              "    <style>\n",
              "      .colab-df-generate {\n",
              "        background-color: #E8F0FE;\n",
              "        border: none;\n",
              "        border-radius: 50%;\n",
              "        cursor: pointer;\n",
              "        display: none;\n",
              "        fill: #1967D2;\n",
              "        height: 32px;\n",
              "        padding: 0 0 0 0;\n",
              "        width: 32px;\n",
              "      }\n",
              "\n",
              "      .colab-df-generate:hover {\n",
              "        background-color: #E2EBFA;\n",
              "        box-shadow: 0px 1px 2px rgba(60, 64, 67, 0.3), 0px 1px 3px 1px rgba(60, 64, 67, 0.15);\n",
              "        fill: #174EA6;\n",
              "      }\n",
              "\n",
              "      [theme=dark] .colab-df-generate {\n",
              "        background-color: #3B4455;\n",
              "        fill: #D2E3FC;\n",
              "      }\n",
              "\n",
              "      [theme=dark] .colab-df-generate:hover {\n",
              "        background-color: #434B5C;\n",
              "        box-shadow: 0px 1px 3px 1px rgba(0, 0, 0, 0.15);\n",
              "        filter: drop-shadow(0px 1px 2px rgba(0, 0, 0, 0.3));\n",
              "        fill: #FFFFFF;\n",
              "      }\n",
              "    </style>\n",
              "    <button class=\"colab-df-generate\" onclick=\"generateWithVariable('df')\"\n",
              "            title=\"Generate code using this dataframe.\"\n",
              "            style=\"display:none;\">\n",
              "\n",
              "  <svg xmlns=\"http://www.w3.org/2000/svg\" height=\"24px\"viewBox=\"0 0 24 24\"\n",
              "       width=\"24px\">\n",
              "    <path d=\"M7,19H8.4L18.45,9,17,7.55,7,17.6ZM5,21V16.75L18.45,3.32a2,2,0,0,1,2.83,0l1.4,1.43a1.91,1.91,0,0,1,.58,1.4,1.91,1.91,0,0,1-.58,1.4L9.25,21ZM18.45,9,17,7.55Zm-12,3A5.31,5.31,0,0,0,4.9,8.1,5.31,5.31,0,0,0,1,6.5,5.31,5.31,0,0,0,4.9,4.9,5.31,5.31,0,0,0,6.5,1,5.31,5.31,0,0,0,8.1,4.9,5.31,5.31,0,0,0,12,6.5,5.46,5.46,0,0,0,6.5,12Z\"/>\n",
              "  </svg>\n",
              "    </button>\n",
              "    <script>\n",
              "      (() => {\n",
              "      const buttonEl =\n",
              "        document.querySelector('#id_243b6bda-0588-4d70-ac6a-5ad6d248c5e3 button.colab-df-generate');\n",
              "      buttonEl.style.display =\n",
              "        google.colab.kernel.accessAllowed ? 'block' : 'none';\n",
              "\n",
              "      buttonEl.onclick = () => {\n",
              "        google.colab.notebook.generateWithVariable('df');\n",
              "      }\n",
              "      })();\n",
              "    </script>\n",
              "  </div>\n",
              "\n",
              "    </div>\n",
              "  </div>\n"
            ]
          },
          "metadata": {},
          "execution_count": 21
        }
      ]
    },
    {
      "cell_type": "code",
      "source": [
        "import seaborn as sns\n",
        "import matplotlib.pyplot as plt\n",
        "\n",
        "sns.set_style(\"whitegrid\")\n",
        "plt.figure(figsize=(10, 7.5))\n",
        "ax = sns.countplot(data=df, x='label', palette=\"Blues_d\")\n",
        "plt.title('Distribution of Credit Card Application Results', fontsize=15)\n",
        "plt.xlabel('Application Result', fontsize=12)\n",
        "plt.ylabel('Count', fontsize=12)\n",
        "\n",
        "plt.show()\n"
      ],
      "metadata": {
        "colab": {
          "base_uri": "https://localhost:8080/",
          "height": 776
        },
        "id": "u3HCliqp47Eg",
        "outputId": "e003dfbf-abde-4d3e-a837-4b0bceb3e48e"
      },
      "execution_count": null,
      "outputs": [
        {
          "output_type": "stream",
          "name": "stderr",
          "text": [
            "<ipython-input-23-99cac369d312>:6: FutureWarning: \n",
            "\n",
            "Passing `palette` without assigning `hue` is deprecated and will be removed in v0.14.0. Assign the `x` variable to `hue` and set `legend=False` for the same effect.\n",
            "\n",
            "  ax = sns.countplot(data=df, x='label', palette=\"Blues_d\")\n"
          ]
        },
        {
          "output_type": "display_data",
          "data": {
            "text/plain": [
              "<Figure size 1000x750 with 1 Axes>"
            ],
            "image/png": "[encoded data removed]"
          },
          "metadata": {}
        }
      ]
    },
    {
      "cell_type": "markdown",
      "source": [
        "**Reading:**  From the above plot, we can observe that the majority of credit card applications are approved, with only a small portion being denied. Due to this imbalance in the dataset, it's important to consider this situation when building predictive models in subsequent steps."
      ],
      "metadata": {
        "id": "_3S4EeDU6hR5"
      }
    },
    {
      "cell_type": "markdown",
      "source": [
        "# **Visualization**"
      ],
      "metadata": {
        "id": "w0Apvv-6D0rb"
      }
    },
    {
      "cell_type": "markdown",
      "source": [
        "**Numerical Variable visualization using Histogram.**"
      ],
      "metadata": {
        "id": "x9qtP9TXG1mD"
      }
    },
    {
      "cell_type": "code",
      "source": [
        "\n",
        "# Set the style\n",
        "sns.set_style(\"whitegrid\")\n",
        "\n",
        "# subplots for the three variables\n",
        "fig, axes = plt.subplots(3, 1, figsize=(10, 15))\n",
        "\n",
        "# Plot 1: Annual_income\n",
        "sns.histplot(df['Annual_income'], kde=True, color='skyblue', ax=axes[0])\n",
        "axes[0].set_title('Distribution of Annual Income')\n",
        "axes[0].set_xlabel('Annual Income')\n",
        "axes[0].set_ylabel('Frequency')\n",
        "\n",
        "# Plot 2: Age\n",
        "sns.histplot(df['Age'], kde=True, color='salmon', ax=axes[1])\n",
        "axes[1].set_title('Distribution of Age')\n",
        "axes[1].set_xlabel('Age')\n",
        "axes[1].set_ylabel('Frequency')\n",
        "\n",
        "# Plot 3: Employed_years\n",
        "sns.histplot(df['Employed_years'], kde=True, color='green', ax=axes[2])\n",
        "axes[2].set_title('Distribution of Employed Years')\n",
        "axes[2].set_xlabel('Employed Years')\n",
        "axes[2].set_ylabel('Frequency')\n",
        "\n",
        "\n",
        "# Show plots\n",
        "plt.show()\n"
      ],
      "metadata": {
        "colab": {
          "base_uri": "https://localhost:8080/",
          "height": 1000
        },
        "id": "xyE-cJLwGOHj",
        "outputId": "86e22372-c25c-4178-ce8e-8497edca5417"
      },
      "execution_count": null,
      "outputs": [
        {
          "output_type": "display_data",
          "data": {
            "text/plain": [
              "<Figure size 1000x1500 with 3 Axes>"
            ],
            "image/png": "[encoded data removed]"
          },
          "metadata": {}
        }
      ]
    },
    {
      "cell_type": "markdown",
      "source": [
        "**Categorical Variable visualization  using box plot**"
      ],
      "metadata": {
        "id": "Onh5tOC8G_da"
      }
    },
    {
      "cell_type": "code",
      "source": [
        "import seaborn as sns\n",
        "import matplotlib.pyplot as plt\n",
        "\n",
        "categorical_columns = ['GENDER', 'Type_Income', 'EDUCATION']\n",
        "\n",
        "plt.figure(figsize=(20, 10))\n",
        "\n",
        "# Plotting the distribution of GENDER\n",
        "plt.subplot(1, 3, 1)\n",
        "sns.countplot(data=df, x='GENDER', palette=\"Blues_d\", order=df['GENDER'].value_counts().index)\n",
        "plt.title('Distribution of GENDER', fontsize=15)\n",
        "plt.xlabel('GENDER', fontsize=12)\n",
        "plt.ylabel('Count', fontsize=12)\n",
        "plt.xticks(rotation=45)\n",
        "\n",
        "# Plotting the distribution of Type_Income\n",
        "plt.subplot(1, 3, 2)\n",
        "sns.countplot(data=df, x='Type_Income', palette=\"Blues_d\", order=df['Type_Income'].value_counts().index)\n",
        "plt.title('Distribution of Type_Income', fontsize=15)\n",
        "plt.xlabel('Type_Income', fontsize=12)\n",
        "plt.ylabel('Count', fontsize=12)\n",
        "plt.xticks(rotation=45)\n",
        "\n",
        "# Plotting the distribution of EDUCATION\n",
        "plt.subplot(1, 3, 3)\n",
        "sns.countplot(data=df, x='EDUCATION', palette=\"Blues_d\", order=df['EDUCATION'].value_counts().index)\n",
        "plt.title('Distribution of EDUCATION', fontsize=15)\n",
        "plt.xlabel('EDUCATION', fontsize=12)\n",
        "plt.ylabel('Count', fontsize=12)\n",
        "plt.xticks(rotation=45)\n",
        "plt.show()\n"
      ],
      "metadata": {
        "colab": {
          "base_uri": "https://localhost:8080/",
          "height": 1000
        },
        "id": "BBmOGiA4IJlc",
        "outputId": "368116f9-bc05-4963-96d6-3332b88e5c81"
      },
      "execution_count": null,
      "outputs": [
        {
          "output_type": "stream",
          "name": "stderr",
          "text": [
            "<ipython-input-25-82da37a20c81>:10: FutureWarning: \n",
            "\n",
            "Passing `palette` without assigning `hue` is deprecated and will be removed in v0.14.0. Assign the `x` variable to `hue` and set `legend=False` for the same effect.\n",
            "\n",
            "  sns.countplot(data=df, x='GENDER', palette=\"Blues_d\", order=df['GENDER'].value_counts().index)\n",
            "<ipython-input-25-82da37a20c81>:18: FutureWarning: \n",
            "\n",
            "Passing `palette` without assigning `hue` is deprecated and will be removed in v0.14.0. Assign the `x` variable to `hue` and set `legend=False` for the same effect.\n",
            "\n",
            "  sns.countplot(data=df, x='Type_Income', palette=\"Blues_d\", order=df['Type_Income'].value_counts().index)\n",
            "<ipython-input-25-82da37a20c81>:26: FutureWarning: \n",
            "\n",
            "Passing `palette` without assigning `hue` is deprecated and will be removed in v0.14.0. Assign the `x` variable to `hue` and set `legend=False` for the same effect.\n",
            "\n",
            "  sns.countplot(data=df, x='EDUCATION', palette=\"Blues_d\", order=df['EDUCATION'].value_counts().index)\n"
          ]
        },
        {
          "output_type": "display_data",
          "data": {
            "text/plain": [
              "<Figure size 2000x1000 with 3 Axes>"
            ],
            "image/png": "[encoded data removed]"
          },
          "metadata": {}
        }
      ]
    },
    {
      "cell_type": "markdown",
      "source": [
        "**Visulaization of Relationship**"
      ],
      "metadata": {
        "id": "3G00ioONK4ON"
      }
    },
    {
      "cell_type": "code",
      "source": [
        "\n",
        "relationship_columns = ['Type_Income', 'EDUCATION', 'GENDER', 'Is_Retired']\n",
        "\n",
        "plt.figure(figsize=(20, 15))\n",
        "\n",
        "# Plotting the relationship between Type_Income and credit card application result\n",
        "plt.subplot(2, 2, 1)\n",
        "sns.countplot(data=df, x='Type_Income', hue='label', palette=\"Blues_d\", order=df['Type_Income'].value_counts().index)\n",
        "plt.title('Relationship between Type_Income and Credit Card Application Result', fontsize=15)\n",
        "plt.xlabel('Type_Income')\n",
        "plt.ylabel('Count')\n",
        "plt.legend(title='Application Result')\n",
        "\n",
        "# Plotting the relationship between EDUCATION and credit card application result\n",
        "plt.subplot(2, 2, 2)\n",
        "sns.countplot(data=df, x='EDUCATION', hue='label', palette=\"Blues_d\", order=df['EDUCATION'].value_counts().index)\n",
        "plt.title('Relationship between EDUCATION and Credit Card Application Result', fontsize=15)\n",
        "plt.xlabel('EDUCATION')\n",
        "plt.ylabel('Count')\n",
        "plt.legend(title='Application Result')\n",
        "\n",
        "# Plotting the relationship between GENDER and credit card application result\n",
        "plt.subplot(2, 2, 3)\n",
        "sns.countplot(data=df, x='GENDER', hue='label', palette=\"Blues_d\", order=df['GENDER'].value_counts().index)\n",
        "plt.title('Relationship between GENDER and Credit Card Application Result')\n",
        "plt.xlabel('GENDER')\n",
        "plt.ylabel('Count')\n",
        "plt.legend(title='Application Result')\n",
        "\n",
        "# Plotting the relationship between Is_Retired and credit card application result\n",
        "plt.subplot(2, 2, 4)\n",
        "sns.countplot(data=df, x='Is_Retired', hue='label', palette=\"Blues_d\", order=df['Is_Retired'].value_counts().index)\n",
        "plt.title('Relationship between Is_Retired and Credit Card Application Result')\n",
        "plt.xlabel('Is_Retired')\n",
        "plt.ylabel('Count')\n",
        "\n",
        "plt.legend(title='Application Result')\n",
        "\n",
        "plt.tight_layout()\n",
        "plt.show()\n",
        "\n"
      ],
      "metadata": {
        "colab": {
          "base_uri": "https://localhost:8080/",
          "height": 990
        },
        "id": "V2Eq0JD8KOzG",
        "outputId": "dc76ce88-e573-45bb-877e-c4518607597f"
      },
      "execution_count": null,
      "outputs": [
        {
          "output_type": "display_data",
          "data": {
            "text/plain": [
              "<Figure size 2000x1500 with 4 Axes>"
            ],
            "image/png": "[encoded data removed]"
          },
          "metadata": {}
        }
      ]
    },
    {
      "cell_type": "code",
      "source": [
        "df.info()"
      ],
      "metadata": {
        "colab": {
          "base_uri": "https://localhost:8080/"
        },
        "id": "GHdXpbbjTVEY",
        "outputId": "8363fab6-b5df-42a0-82f8-0eb5cbb22920"
      },
      "execution_count": null,
      "outputs": [
        {
          "output_type": "stream",
          "name": "stdout",
          "text": [
            "<class 'pandas.core.frame.DataFrame'>\n",
            "Int64Index: 1548 entries, 0 to 1547\n",
            "Data columns (total 20 columns):\n",
            " #   Column           Non-Null Count  Dtype  \n",
            "---  ------           --------------  -----  \n",
            " 0   Ind_ID           1548 non-null   object \n",
            " 1   GENDER           1548 non-null   object \n",
            " 2   Car_Owner        1548 non-null   object \n",
            " 3   Propert_Owner    1548 non-null   object \n",
            " 4   CHILDREN         1548 non-null   int64  \n",
            " 5   Annual_income    1548 non-null   float64\n",
            " 6   Type_Income      1548 non-null   object \n",
            " 7   EDUCATION        1548 non-null   object \n",
            " 8   Marital_status   1548 non-null   object \n",
            " 9   Housing_type     1548 non-null   object \n",
            " 10  Mobile_phone     1548 non-null   int64  \n",
            " 11  Work_Phone       1548 non-null   int64  \n",
            " 12  Phone            1548 non-null   int64  \n",
            " 13  EMAIL_ID         1548 non-null   int64  \n",
            " 14  Type_Occupation  1548 non-null   object \n",
            " 15  Family_Members   1548 non-null   int64  \n",
            " 16  label            1548 non-null   int64  \n",
            " 17  Age              1548 non-null   int64  \n",
            " 18  Is_Retired       1548 non-null   int64  \n",
            " 19  Employed_years   1548 non-null   int64  \n",
            "dtypes: float64(1), int64(10), object(9)\n",
            "memory usage: 286.3+ KB\n"
          ]
        }
      ]
    },
    {
      "cell_type": "markdown",
      "source": [
        "**Prediction Of Credit Card Application Results**"
      ],
      "metadata": {
        "id": "Iu7EyjLnPD4_"
      }
    },
    {
      "cell_type": "markdown",
      "source": [
        "**Data Preparation**\n",
        "\n",
        "* Feature Engineering\n",
        "* Feature Selection\n",
        "* Replacing the value\n",
        "* Feature Encoding\n",
        "\n",
        "\n",
        "---\n",
        "* Drop the 'Ind_ID' column as it's not useful for the model.\n",
        "* Replace 'Y' with 1 and 'N' with 0 for binary categorical variables.\n",
        "* Replace 'M' with 0 and 'F' with 1 for gender.\n",
        "* Convert the 'EDUCATION' column into ordinal encoding based on the provided mapping.\n",
        "\n"
      ],
      "metadata": {
        "id": "MoiBIXK5QQZK"
      }
    },
    {
      "cell_type": "code",
      "source": [
        "# Drop 'Ind_ID' because it doesn't help the model\n",
        "df.drop(columns=['Ind_ID'], axis=1, inplace=True)\n",
        "\n",
        "# Replace all 'Y' with 1, and all 'N' with 0\n",
        "df.replace({'Y': 1, 'N': 0}, inplace=True)\n",
        "\n",
        "# Replace 'M' with 0, and 'F' with 1 for gender\n",
        "df.replace({'M': 0, 'F': 1}, inplace=True)\n",
        "\n",
        "# Process the 'EDUCATION' column by converting it to ordinal encoding\n",
        "education_mapping = {\n",
        "    'Lower secondary': 0,\n",
        "    'Secondary / secondary special': 1,\n",
        "    'Incomplete higher': 2,\n",
        "    'Higher education': 3,\n",
        "    'Academic degree': 4\n",
        "}\n",
        "df['EDUCATION'] = df['EDUCATION'].map(education_mapping)\n"
      ],
      "metadata": {
        "id": "3kH7DM3PScYB"
      },
      "execution_count": null,
      "outputs": []
    },
    {
      "cell_type": "markdown",
      "source": [
        "* One-Hot Encoding for Categorical Variables:\n",
        "\n",
        "* Standardization for Continuous Variables:\n",
        "\n",
        "\n",
        "---\n",
        "This code preprocesses the data to make it suitable for machine learning algorithms, ensuring that categorical variables are properly encoded and continuous variables are standardized.\n"
      ],
      "metadata": {
        "id": "yAPir03bU7Ch"
      }
    },
    {
      "cell_type": "code",
      "source": [
        "# Encoding categorical variables (excluding binary and ordinal variables) using one-hot encoding\n",
        "categorical_cols = df.select_dtypes(include=['object']).columns\n",
        "new_data = pd.get_dummies(df, columns=categorical_cols)\n",
        "\n",
        "# Standardize continuous variables\n",
        "numerical_cols = ['Annual_income', 'Age', 'Family_Members', 'CHILDREN','EDUCATION']\n",
        "scaler = StandardScaler()\n",
        "new_data[numerical_cols] = scaler.fit_transform(new_data[numerical_cols])\n"
      ],
      "metadata": {
        "id": "5LIn62U8Thp_"
      },
      "execution_count": null,
      "outputs": []
    },
    {
      "cell_type": "code",
      "source": [
        "from sklearn.model_selection import train_test_split\n",
        "\n",
        "# Splitting Features and Target Variable\n",
        "x = new_data.drop('label', axis=1)\n",
        "y = new_data['label']\n",
        "\n",
        "# Stratified Train-Test Split\n",
        "x_train, x_test, y_train, y_test = train_test_split(x, y, test_size=0.3, random_state=10, stratify=y)\n"
      ],
      "metadata": {
        "id": "LpnaWrhOP5_g"
      },
      "execution_count": null,
      "outputs": []
    },
    {
      "cell_type": "code",
      "source": [
        "x.head()"
      ],
      "metadata": {
        "colab": {
          "base_uri": "https://localhost:8080/",
          "height": 272
        },
        "id": "7dSztq2qevcS",
        "outputId": "78b52f18-3cff-49d4-e823-f9fe534ec555"
      },
      "execution_count": null,
      "outputs": [
        {
          "output_type": "execute_result",
          "data": {
            "text/plain": [
              "   GENDER  Car_Owner  Propert_Owner  CHILDREN  Annual_income  EDUCATION  \\\n",
              "0       0          1              1 -0.579367      -0.098116   1.555348   \n",
              "1       1          1              0 -0.579367       1.102824   1.555348   \n",
              "2       1          1              0 -0.579367       1.102824   1.555348   \n",
              "3       1          1              0 -0.579367      -0.218210   1.555348   \n",
              "4       1          1              0 -0.579367       1.102824   1.555348   \n",
              "\n",
              "   Mobile_phone  Work_Phone  Phone  EMAIL_ID  ...  Type_Occupation_Managers  \\\n",
              "0             1           0      0         0  ...                         0   \n",
              "1             1           1      1         0  ...                         0   \n",
              "2             1           1      1         0  ...                         0   \n",
              "3             1           1      1         0  ...                         0   \n",
              "4             1           1      1         0  ...                         0   \n",
              "\n",
              "   Type_Occupation_Medicine staff  Type_Occupation_Pensioner  \\\n",
              "0                               0                          1   \n",
              "1                               0                          0   \n",
              "2                               0                          0   \n",
              "3                               0                          0   \n",
              "4                               0                          0   \n",
              "\n",
              "   Type_Occupation_Private service staff  Type_Occupation_Realty agents  \\\n",
              "0                                      0                              0   \n",
              "1                                      0                              0   \n",
              "2                                      0                              0   \n",
              "3                                      0                              0   \n",
              "4                                      0                              0   \n",
              "\n",
              "   Type_Occupation_Sales staff  Type_Occupation_Secretaries  \\\n",
              "0                            0                            0   \n",
              "1                            0                            0   \n",
              "2                            0                            0   \n",
              "3                            0                            0   \n",
              "4                            0                            0   \n",
              "\n",
              "   Type_Occupation_Security staff  Type_Occupation_Unknown  \\\n",
              "0                               0                        0   \n",
              "1                               0                        1   \n",
              "2                               0                        1   \n",
              "3                               0                        1   \n",
              "4                               0                        1   \n",
              "\n",
              "   Type_Occupation_Waiters/barmen staff  \n",
              "0                                     0  \n",
              "1                                     0  \n",
              "2                                     0  \n",
              "3                                     0  \n",
              "4                                     0  \n",
              "\n",
              "[5 rows x 49 columns]"
            ],
            "text/html": [
              "\n",
              "  <div id=\"df-652e3174-37bc-4834-a98c-96b43914a0a7\" class=\"colab-df-container\">\n",
              "    <div>\n",
              "<style scoped>\n",
              "    .dataframe tbody tr th:only-of-type {\n",
              "        vertical-align: middle;\n",
              "    }\n",
              "\n",
              "    .dataframe tbody tr th {\n",
              "        vertical-align: top;\n",
              "    }\n",
              "\n",
              "    .dataframe thead th {\n",
              "        text-align: right;\n",
              "    }\n",
              "</style>\n",
              "<table border=\"1\" class=\"dataframe\">\n",
              "  <thead>\n",
              "    <tr style=\"text-align: right;\">\n",
              "      <th></th>\n",
              "      <th>GENDER</th>\n",
              "      <th>Car_Owner</th>\n",
              "      <th>Propert_Owner</th>\n",
              "      <th>CHILDREN</th>\n",
              "      <th>Annual_income</th>\n",
              "      <th>EDUCATION</th>\n",
              "      <th>Mobile_phone</th>\n",
              "      <th>Work_Phone</th>\n",
              "      <th>Phone</th>\n",
              "      <th>EMAIL_ID</th>\n",
              "      <th>...</th>\n",
              "      <th>Type_Occupation_Managers</th>\n",
              "      <th>Type_Occupation_Medicine staff</th>\n",
              "      <th>Type_Occupation_Pensioner</th>\n",
              "      <th>Type_Occupation_Private service staff</th>\n",
              "      <th>Type_Occupation_Realty agents</th>\n",
              "      <th>Type_Occupation_Sales staff</th>\n",
              "      <th>Type_Occupation_Secretaries</th>\n",
              "      <th>Type_Occupation_Security staff</th>\n",
              "      <th>Type_Occupation_Unknown</th>\n",
              "      <th>Type_Occupation_Waiters/barmen staff</th>\n",
              "    </tr>\n",
              "  </thead>\n",
              "  <tbody>\n",
              "    <tr>\n",
              "      <th>0</th>\n",
              "      <td>0</td>\n",
              "      <td>1</td>\n",
              "      <td>1</td>\n",
              "      <td>-0.579367</td>\n",
              "      <td>-0.098116</td>\n",
              "      <td>1.555348</td>\n",
              "      <td>1</td>\n",
              "      <td>0</td>\n",
              "      <td>0</td>\n",
              "      <td>0</td>\n",
              "      <td>...</td>\n",
              "      <td>0</td>\n",
              "      <td>0</td>\n",
              "      <td>1</td>\n",
              "      <td>0</td>\n",
              "      <td>0</td>\n",
              "      <td>0</td>\n",
              "      <td>0</td>\n",
              "      <td>0</td>\n",
              "      <td>0</td>\n",
              "      <td>0</td>\n",
              "    </tr>\n",
              "    <tr>\n",
              "      <th>1</th>\n",
              "      <td>1</td>\n",
              "      <td>1</td>\n",
              "      <td>0</td>\n",
              "      <td>-0.579367</td>\n",
              "      <td>1.102824</td>\n",
              "      <td>1.555348</td>\n",
              "      <td>1</td>\n",
              "      <td>1</td>\n",
              "      <td>1</td>\n",
              "      <td>0</td>\n",
              "      <td>...</td>\n",
              "      <td>0</td>\n",
              "      <td>0</td>\n",
              "      <td>0</td>\n",
              "      <td>0</td>\n",
              "      <td>0</td>\n",
              "      <td>0</td>\n",
              "      <td>0</td>\n",
              "      <td>0</td>\n",
              "      <td>1</td>\n",
              "      <td>0</td>\n",
              "    </tr>\n",
              "    <tr>\n",
              "      <th>2</th>\n",
              "      <td>1</td>\n",
              "      <td>1</td>\n",
              "      <td>0</td>\n",
              "      <td>-0.579367</td>\n",
              "      <td>1.102824</td>\n",
              "      <td>1.555348</td>\n",
              "      <td>1</td>\n",
              "      <td>1</td>\n",
              "      <td>1</td>\n",
              "      <td>0</td>\n",
              "      <td>...</td>\n",
              "      <td>0</td>\n",
              "      <td>0</td>\n",
              "      <td>0</td>\n",
              "      <td>0</td>\n",
              "      <td>0</td>\n",
              "      <td>0</td>\n",
              "      <td>0</td>\n",
              "      <td>0</td>\n",
              "      <td>1</td>\n",
              "      <td>0</td>\n",
              "    </tr>\n",
              "    <tr>\n",
              "      <th>3</th>\n",
              "      <td>1</td>\n",
              "      <td>1</td>\n",
              "      <td>0</td>\n",
              "      <td>-0.579367</td>\n",
              "      <td>-0.218210</td>\n",
              "      <td>1.555348</td>\n",
              "      <td>1</td>\n",
              "      <td>1</td>\n",
              "      <td>1</td>\n",
              "      <td>0</td>\n",
              "      <td>...</td>\n",
              "      <td>0</td>\n",
              "      <td>0</td>\n",
              "      <td>0</td>\n",
              "      <td>0</td>\n",
              "      <td>0</td>\n",
              "      <td>0</td>\n",
              "      <td>0</td>\n",
              "      <td>0</td>\n",
              "      <td>1</td>\n",
              "      <td>0</td>\n",
              "    </tr>\n",
              "    <tr>\n",
              "      <th>4</th>\n",
              "      <td>1</td>\n",
              "      <td>1</td>\n",
              "      <td>0</td>\n",
              "      <td>-0.579367</td>\n",
              "      <td>1.102824</td>\n",
              "      <td>1.555348</td>\n",
              "      <td>1</td>\n",
              "      <td>1</td>\n",
              "      <td>1</td>\n",
              "      <td>0</td>\n",
              "      <td>...</td>\n",
              "      <td>0</td>\n",
              "      <td>0</td>\n",
              "      <td>0</td>\n",
              "      <td>0</td>\n",
              "      <td>0</td>\n",
              "      <td>0</td>\n",
              "      <td>0</td>\n",
              "      <td>0</td>\n",
              "      <td>1</td>\n",
              "      <td>0</td>\n",
              "    </tr>\n",
              "  </tbody>\n",
              "</table>\n",
              "<p>5 rows × 49 columns</p>\n",
              "</div>\n",
              "    <div class=\"colab-df-buttons\">\n",
              "\n",
              "  <div class=\"colab-df-container\">\n",
              "    <button class=\"colab-df-convert\" onclick=\"convertToInteractive('df-652e3174-37bc-4834-a98c-96b43914a0a7')\"\n",
              "            title=\"Convert this dataframe to an interactive table.\"\n",
              "            style=\"display:none;\">\n",
              "\n",
              "  <svg xmlns=\"http://www.w3.org/2000/svg\" height=\"24px\" viewBox=\"0 -960 960 960\">\n",
              "    <path d=\"M120-120v-720h720v720H120Zm60-500h600v-160H180v160Zm220 220h160v-160H400v160Zm0 220h160v-160H400v160ZM180-400h160v-160H180v160Zm440 0h160v-160H620v160ZM180-180h160v-160H180v160Zm440 0h160v-160H620v160Z\"/>\n",
              "  </svg>\n",
              "    </button>\n",
              "\n",
              "  <style>\n",
              "    .colab-df-container {\n",
              "      display:flex;\n",
              "      gap: 12px;\n",
              "    }\n",
              "\n",
              "    .colab-df-convert {\n",
              "      background-color: #E8F0FE;\n",
              "      border: none;\n",
              "      border-radius: 50%;\n",
              "      cursor: pointer;\n",
              "      display: none;\n",
              "      fill: #1967D2;\n",
              "      height: 32px;\n",
              "      padding: 0 0 0 0;\n",
              "      width: 32px;\n",
              "    }\n",
              "\n",
              "    .colab-df-convert:hover {\n",
              "      background-color: #E2EBFA;\n",
              "      box-shadow: 0px 1px 2px rgba(60, 64, 67, 0.3), 0px 1px 3px 1px rgba(60, 64, 67, 0.15);\n",
              "      fill: #174EA6;\n",
              "    }\n",
              "\n",
              "    .colab-df-buttons div {\n",
              "      margin-bottom: 4px;\n",
              "    }\n",
              "\n",
              "    [theme=dark] .colab-df-convert {\n",
              "      background-color: #3B4455;\n",
              "      fill: #D2E3FC;\n",
              "    }\n",
              "\n",
              "    [theme=dark] .colab-df-convert:hover {\n",
              "      background-color: #434B5C;\n",
              "      box-shadow: 0px 1px 3px 1px rgba(0, 0, 0, 0.15);\n",
              "      filter: drop-shadow(0px 1px 2px rgba(0, 0, 0, 0.3));\n",
              "      fill: #FFFFFF;\n",
              "    }\n",
              "  </style>\n",
              "\n",
              "    <script>\n",
              "      const buttonEl =\n",
              "        document.querySelector('#df-652e3174-37bc-4834-a98c-96b43914a0a7 button.colab-df-convert');\n",
              "      buttonEl.style.display =\n",
              "        google.colab.kernel.accessAllowed ? 'block' : 'none';\n",
              "\n",
              "      async function convertToInteractive(key) {\n",
              "        const element = document.querySelector('#df-652e3174-37bc-4834-a98c-96b43914a0a7');\n",
              "        const dataTable =\n",
              "          await google.colab.kernel.invokeFunction('convertToInteractive',\n",
              "                                                    [key], {});\n",
              "        if (!dataTable) return;\n",
              "\n",
              "        const docLinkHtml = 'Like what you see? Visit the ' +\n",
              "          '<a target=\"_blank\" href=https://colab.research.google.com/notebooks/data_table.ipynb>data table notebook</a>'\n",
              "          + ' to learn more about interactive tables.';\n",
              "        element.innerHTML = '';\n",
              "        dataTable['output_type'] = 'display_data';\n",
              "        await google.colab.output.renderOutput(dataTable, element);\n",
              "        const docLink = document.createElement('div');\n",
              "        docLink.innerHTML = docLinkHtml;\n",
              "        element.appendChild(docLink);\n",
              "      }\n",
              "    </script>\n",
              "  </div>\n",
              "\n",
              "\n",
              "<div id=\"df-d47f4c8a-34b2-464a-a06c-4cc99950ffd4\">\n",
              "  <button class=\"colab-df-quickchart\" onclick=\"quickchart('df-d47f4c8a-34b2-464a-a06c-4cc99950ffd4')\"\n",
              "            title=\"Suggest charts\"\n",
              "            style=\"display:none;\">\n",
              "\n",
              "<svg xmlns=\"http://www.w3.org/2000/svg\" height=\"24px\"viewBox=\"0 0 24 24\"\n",
              "     width=\"24px\">\n",
              "    <g>\n",
              "        <path d=\"M19 3H5c-1.1 0-2 .9-2 2v14c0 1.1.9 2 2 2h14c1.1 0 2-.9 2-2V5c0-1.1-.9-2-2-2zM9 17H7v-7h2v7zm4 0h-2V7h2v10zm4 0h-2v-4h2v4z\"/>\n",
              "    </g>\n",
              "</svg>\n",
              "  </button>\n",
              "\n",
              "<style>\n",
              "  .colab-df-quickchart {\n",
              "      --bg-color: #E8F0FE;\n",
              "      --fill-color: #1967D2;\n",
              "      --hover-bg-color: #E2EBFA;\n",
              "      --hover-fill-color: #174EA6;\n",
              "      --disabled-fill-color: #AAA;\n",
              "      --disabled-bg-color: #DDD;\n",
              "  }\n",
              "\n",
              "  [theme=dark] .colab-df-quickchart {\n",
              "      --bg-color: #3B4455;\n",
              "      --fill-color: #D2E3FC;\n",
              "      --hover-bg-color: #434B5C;\n",
              "      --hover-fill-color: #FFFFFF;\n",
              "      --disabled-bg-color: #3B4455;\n",
              "      --disabled-fill-color: #666;\n",
              "  }\n",
              "\n",
              "  .colab-df-quickchart {\n",
              "    background-color: var(--bg-color);\n",
              "    border: none;\n",
              "    border-radius: 50%;\n",
              "    cursor: pointer;\n",
              "    display: none;\n",
              "    fill: var(--fill-color);\n",
              "    height: 32px;\n",
              "    padding: 0;\n",
              "    width: 32px;\n",
              "  }\n",
              "\n",
              "  .colab-df-quickchart:hover {\n",
              "    background-color: var(--hover-bg-color);\n",
              "    box-shadow: 0 1px 2px rgba(60, 64, 67, 0.3), 0 1px 3px 1px rgba(60, 64, 67, 0.15);\n",
              "    fill: var(--button-hover-fill-color);\n",
              "  }\n",
              "\n",
              "  .colab-df-quickchart-complete:disabled,\n",
              "  .colab-df-quickchart-complete:disabled:hover {\n",
              "    background-color: var(--disabled-bg-color);\n",
              "    fill: var(--disabled-fill-color);\n",
              "    box-shadow: none;\n",
              "  }\n",
              "\n",
              "  .colab-df-spinner {\n",
              "    border: 2px solid var(--fill-color);\n",
              "    border-color: transparent;\n",
              "    border-bottom-color: var(--fill-color);\n",
              "    animation:\n",
              "      spin 1s steps(1) infinite;\n",
              "  }\n",
              "\n",
              "  @keyframes spin {\n",
              "    0% {\n",
              "      border-color: transparent;\n",
              "      border-bottom-color: var(--fill-color);\n",
              "      border-left-color: var(--fill-color);\n",
              "    }\n",
              "    20% {\n",
              "      border-color: transparent;\n",
              "      border-left-color: var(--fill-color);\n",
              "      border-top-color: var(--fill-color);\n",
              "    }\n",
              "    30% {\n",
              "      border-color: transparent;\n",
              "      border-left-color: var(--fill-color);\n",
              "      border-top-color: var(--fill-color);\n",
              "      border-right-color: var(--fill-color);\n",
              "    }\n",
              "    40% {\n",
              "      border-color: transparent;\n",
              "      border-right-color: var(--fill-color);\n",
              "      border-top-color: var(--fill-color);\n",
              "    }\n",
              "    60% {\n",
              "      border-color: transparent;\n",
              "      border-right-color: var(--fill-color);\n",
              "    }\n",
              "    80% {\n",
              "      border-color: transparent;\n",
              "      border-right-color: var(--fill-color);\n",
              "      border-bottom-color: var(--fill-color);\n",
              "    }\n",
              "    90% {\n",
              "      border-color: transparent;\n",
              "      border-bottom-color: var(--fill-color);\n",
              "    }\n",
              "  }\n",
              "</style>\n",
              "\n",
              "  <script>\n",
              "    async function quickchart(key) {\n",
              "      const quickchartButtonEl =\n",
              "        document.querySelector('#' + key + ' button');\n",
              "      quickchartButtonEl.disabled = true;  // To prevent multiple clicks.\n",
              "      quickchartButtonEl.classList.add('colab-df-spinner');\n",
              "      try {\n",
              "        const charts = await google.colab.kernel.invokeFunction(\n",
              "            'suggestCharts', [key], {});\n",
              "      } catch (error) {\n",
              "        console.error('Error during call to suggestCharts:', error);\n",
              "      }\n",
              "      quickchartButtonEl.classList.remove('colab-df-spinner');\n",
              "      quickchartButtonEl.classList.add('colab-df-quickchart-complete');\n",
              "    }\n",
              "    (() => {\n",
              "      let quickchartButtonEl =\n",
              "        document.querySelector('#df-d47f4c8a-34b2-464a-a06c-4cc99950ffd4 button');\n",
              "      quickchartButtonEl.style.display =\n",
              "        google.colab.kernel.accessAllowed ? 'block' : 'none';\n",
              "    })();\n",
              "  </script>\n",
              "</div>\n",
              "\n",
              "    </div>\n",
              "  </div>\n"
            ]
          },
          "metadata": {},
          "execution_count": 31
        }
      ]
    },
    {
      "cell_type": "code",
      "source": [
        "y.head()"
      ],
      "metadata": {
        "colab": {
          "base_uri": "https://localhost:8080/"
        },
        "id": "cMa-TPqgeyR9",
        "outputId": "ceedae8c-f5e8-41a4-aef8-60d1c6818fc6"
      },
      "execution_count": null,
      "outputs": [
        {
          "output_type": "execute_result",
          "data": {
            "text/plain": [
              "0    1\n",
              "1    1\n",
              "2    1\n",
              "3    1\n",
              "4    1\n",
              "Name: label, dtype: int64"
            ]
          },
          "metadata": {},
          "execution_count": 32
        }
      ]
    },
    {
      "cell_type": "markdown",
      "source": [
        "**Oversampling** is a common technique for dealing with imbalanced datasets, where the minority class samples are replicated or new samples are generated to balance the class distribution. This can improve the model's ability to learn from the minority class, thus enhancing overall performance."
      ],
      "metadata": {
        "id": "WEswAtjHQrnE"
      }
    },
    {
      "cell_type": "code",
      "source": [
        "\n",
        "x_minority = x_train[y_train == 1]\n",
        "y_minority = y_train[y_train == 1]\n",
        "x_majority = x_train[y_train == 0]\n",
        "y_majority = y_train[y_train == 0]\n",
        "x_minority_resampled = resample(x_minority, replace=True, n_samples=len(x_majority), random_state=15)\n",
        "y_minority_resampled = resample(y_minority, replace=True, n_samples=len(y_majority), random_state=15)\n",
        "new_x_train = pd.concat([x_majority, x_minority_resampled])\n",
        "new_y_train = pd.concat([y_majority, y_minority_resampled])"
      ],
      "metadata": {
        "id": "Xx5UPcjsRzfo"
      },
      "execution_count": null,
      "outputs": []
    },
    {
      "cell_type": "markdown",
      "source": [
        "# **Model Representation:**\n",
        "* \"Now that the data has been processed, I'm starting to build models. I plan to build three models: logistic regression, random forest and XGBoost. I will establish evaluation metrics to assess the performance of these models and draw a conclusion in the end.\"\n",
        "\n",
        "* **logistic regression**"
      ],
      "metadata": {
        "id": "Rs29NZqDYM7b"
      }
    },
    {
      "cell_type": "code",
      "source": [
        "logreg = LogisticRegression(random_state=15)\n",
        "logreg.fit(x_train, y_train)\n",
        "\n",
        "\n"
      ],
      "metadata": {
        "colab": {
          "base_uri": "https://localhost:8080/",
          "height": 219
        },
        "id": "1nMcCb0zYga6",
        "outputId": "fc2f754f-1fcf-4a06-d865-58ddde1ed420"
      },
      "execution_count": null,
      "outputs": [
        {
          "output_type": "stream",
          "name": "stderr",
          "text": [
            "/usr/local/lib/python3.10/dist-packages/sklearn/linear_model/_logistic.py:458: ConvergenceWarning: lbfgs failed to converge (status=1):\n",
            "STOP: TOTAL NO. of ITERATIONS REACHED LIMIT.\n",
            "\n",
            "Increase the number of iterations (max_iter) or scale the data as shown in:\n",
            "    https://scikit-learn.org/stable/modules/preprocessing.html\n",
            "Please also refer to the documentation for alternative solver options:\n",
            "    https://scikit-learn.org/stable/modules/linear_model.html#logistic-regression\n",
            "  n_iter_i = _check_optimize_result(\n"
          ]
        },
        {
          "output_type": "execute_result",
          "data": {
            "text/plain": [
              "LogisticRegression(random_state=15)"
            ],
            "text/html": [
              "<style>#sk-container-id-2 {color: black;background-color: white;}#sk-container-id-2 pre{padding: 0;}#sk-container-id-2 div.sk-toggleable {background-color: white;}#sk-container-id-2 label.sk-toggleable__label {cursor: pointer;display: block;width: 100%;margin-bottom: 0;padding: 0.3em;box-sizing: border-box;text-align: center;}#sk-container-id-2 label.sk-toggleable__label-arrow:before {content: \"▸\";float: left;margin-right: 0.25em;color: #696969;}#sk-container-id-2 label.sk-toggleable__label-arrow:hover:before {color: black;}#sk-container-id-2 div.sk-estimator:hover label.sk-toggleable__label-arrow:before {color: black;}#sk-container-id-2 div.sk-toggleable__content {max-height: 0;max-width: 0;overflow: hidden;text-align: left;background-color: #f0f8ff;}#sk-container-id-2 div.sk-toggleable__content pre {margin: 0.2em;color: black;border-radius: 0.25em;background-color: #f0f8ff;}#sk-container-id-2 input.sk-toggleable__control:checked~div.sk-toggleable__content {max-height: 200px;max-width: 100%;overflow: auto;}#sk-container-id-2 input.sk-toggleable__control:checked~label.sk-toggleable__label-arrow:before {content: \"▾\";}#sk-container-id-2 div.sk-estimator input.sk-toggleable__control:checked~label.sk-toggleable__label {background-color: #d4ebff;}#sk-container-id-2 div.sk-label input.sk-toggleable__control:checked~label.sk-toggleable__label {background-color: #d4ebff;}#sk-container-id-2 input.sk-hidden--visually {border: 0;clip: rect(1px 1px 1px 1px);clip: rect(1px, 1px, 1px, 1px);height: 1px;margin: -1px;overflow: hidden;padding: 0;position: absolute;width: 1px;}#sk-container-id-2 div.sk-estimator {font-family: monospace;background-color: #f0f8ff;border: 1px dotted black;border-radius: 0.25em;box-sizing: border-box;margin-bottom: 0.5em;}#sk-container-id-2 div.sk-estimator:hover {background-color: #d4ebff;}#sk-container-id-2 div.sk-parallel-item::after {content: \"\";width: 100%;border-bottom: 1px solid gray;flex-grow: 1;}#sk-container-id-2 div.sk-label:hover label.sk-toggleable__label {background-color: #d4ebff;}#sk-container-id-2 div.sk-serial::before {content: \"\";position: absolute;border-left: 1px solid gray;box-sizing: border-box;top: 0;bottom: 0;left: 50%;z-index: 0;}#sk-container-id-2 div.sk-serial {display: flex;flex-direction: column;align-items: center;background-color: white;padding-right: 0.2em;padding-left: 0.2em;position: relative;}#sk-container-id-2 div.sk-item {position: relative;z-index: 1;}#sk-container-id-2 div.sk-parallel {display: flex;align-items: stretch;justify-content: center;background-color: white;position: relative;}#sk-container-id-2 div.sk-item::before, #sk-container-id-2 div.sk-parallel-item::before {content: \"\";position: absolute;border-left: 1px solid gray;box-sizing: border-box;top: 0;bottom: 0;left: 50%;z-index: -1;}#sk-container-id-2 div.sk-parallel-item {display: flex;flex-direction: column;z-index: 1;position: relative;background-color: white;}#sk-container-id-2 div.sk-parallel-item:first-child::after {align-self: flex-end;width: 50%;}#sk-container-id-2 div.sk-parallel-item:last-child::after {align-self: flex-start;width: 50%;}#sk-container-id-2 div.sk-parallel-item:only-child::after {width: 0;}#sk-container-id-2 div.sk-dashed-wrapped {border: 1px dashed gray;margin: 0 0.4em 0.5em 0.4em;box-sizing: border-box;padding-bottom: 0.4em;background-color: white;}#sk-container-id-2 div.sk-label label {font-family: monospace;font-weight: bold;display: inline-block;line-height: 1.2em;}#sk-container-id-2 div.sk-label-container {text-align: center;}#sk-container-id-2 div.sk-container {/* jupyter's `normalize.less` sets `[hidden] { display: none; }` but bootstrap.min.css set `[hidden] { display: none !important; }` so we also need the `!important` here to be able to override the default hidden behavior on the sphinx rendered scikit-learn.org. See: https://github.com/scikit-learn/scikit-learn/issues/21755 */display: inline-block !important;position: relative;}#sk-container-id-2 div.sk-text-repr-fallback {display: none;}</style><div id=\"sk-container-id-2\" class=\"sk-top-container\"><div class=\"sk-text-repr-fallback\"><pre>LogisticRegression(random_state=15)</pre><b>In a Jupyter environment, please rerun this cell to show the HTML representation or trust the notebook. <br />On GitHub, the HTML representation is unable to render, please try loading this page with nbviewer.org.</b></div><div class=\"sk-container\" hidden><div class=\"sk-item\"><div class=\"sk-estimator sk-toggleable\"><input class=\"sk-toggleable__control sk-hidden--visually\" id=\"sk-estimator-id-2\" type=\"checkbox\" checked><label for=\"sk-estimator-id-2\" class=\"sk-toggleable__label sk-toggleable__label-arrow\">LogisticRegression</label><div class=\"sk-toggleable__content\"><pre>LogisticRegression(random_state=15)</pre></div></div></div></div></div>"
            ]
          },
          "metadata": {},
          "execution_count": 35
        }
      ]
    },
    {
      "cell_type": "code",
      "source": [
        "predictions = logreg.predict(x_test)\n"
      ],
      "metadata": {
        "id": "BLrLVvMlZ5vM"
      },
      "execution_count": null,
      "outputs": []
    },
    {
      "cell_type": "code",
      "source": [
        "y_pred = logreg.predict(x_test)\n",
        "class_report = classification_report(y_test, y_pred)\n",
        "print(class_report)"
      ],
      "metadata": {
        "colab": {
          "base_uri": "https://localhost:8080/"
        },
        "id": "6NMj2GTLacxp",
        "outputId": "240a3a8b-30f5-499b-88c9-655ac1be389f"
      },
      "execution_count": null,
      "outputs": [
        {
          "output_type": "stream",
          "name": "stdout",
          "text": [
            "              precision    recall  f1-score   support\n",
            "\n",
            "           0       0.89      1.00      0.94       412\n",
            "           1       0.00      0.00      0.00        53\n",
            "\n",
            "    accuracy                           0.88       465\n",
            "   macro avg       0.44      0.50      0.47       465\n",
            "weighted avg       0.78      0.88      0.83       465\n",
            "\n"
          ]
        }
      ]
    },
    {
      "cell_type": "markdown",
      "source": [
        "* **Random Forest**\n",
        "\n",
        "\n",
        "\n",
        "\n",
        "\n",
        "\n"
      ],
      "metadata": {
        "id": "biFQ8bXwY6Oh"
      }
    },
    {
      "cell_type": "code",
      "source": [
        "rf_clf = RandomForestClassifier(random_state=15)\n",
        "rf_clf.fit(new_x_train, new_y_train)"
      ],
      "metadata": {
        "colab": {
          "base_uri": "https://localhost:8080/",
          "height": 74
        },
        "id": "1nrI_9lJY-iE",
        "outputId": "49cbdf1f-8496-4d52-be1b-bea77cfbb0ed"
      },
      "execution_count": null,
      "outputs": [
        {
          "output_type": "execute_result",
          "data": {
            "text/plain": [
              "RandomForestClassifier(random_state=15)"
            ],
            "text/html": [
              "<style>#sk-container-id-3 {color: black;background-color: white;}#sk-container-id-3 pre{padding: 0;}#sk-container-id-3 div.sk-toggleable {background-color: white;}#sk-container-id-3 label.sk-toggleable__label {cursor: pointer;display: block;width: 100%;margin-bottom: 0;padding: 0.3em;box-sizing: border-box;text-align: center;}#sk-container-id-3 label.sk-toggleable__label-arrow:before {content: \"▸\";float: left;margin-right: 0.25em;color: #696969;}#sk-container-id-3 label.sk-toggleable__label-arrow:hover:before {color: black;}#sk-container-id-3 div.sk-estimator:hover label.sk-toggleable__label-arrow:before {color: black;}#sk-container-id-3 div.sk-toggleable__content {max-height: 0;max-width: 0;overflow: hidden;text-align: left;background-color: #f0f8ff;}#sk-container-id-3 div.sk-toggleable__content pre {margin: 0.2em;color: black;border-radius: 0.25em;background-color: #f0f8ff;}#sk-container-id-3 input.sk-toggleable__control:checked~div.sk-toggleable__content {max-height: 200px;max-width: 100%;overflow: auto;}#sk-container-id-3 input.sk-toggleable__control:checked~label.sk-toggleable__label-arrow:before {content: \"▾\";}#sk-container-id-3 div.sk-estimator input.sk-toggleable__control:checked~label.sk-toggleable__label {background-color: #d4ebff;}#sk-container-id-3 div.sk-label input.sk-toggleable__control:checked~label.sk-toggleable__label {background-color: #d4ebff;}#sk-container-id-3 input.sk-hidden--visually {border: 0;clip: rect(1px 1px 1px 1px);clip: rect(1px, 1px, 1px, 1px);height: 1px;margin: -1px;overflow: hidden;padding: 0;position: absolute;width: 1px;}#sk-container-id-3 div.sk-estimator {font-family: monospace;background-color: #f0f8ff;border: 1px dotted black;border-radius: 0.25em;box-sizing: border-box;margin-bottom: 0.5em;}#sk-container-id-3 div.sk-estimator:hover {background-color: #d4ebff;}#sk-container-id-3 div.sk-parallel-item::after {content: \"\";width: 100%;border-bottom: 1px solid gray;flex-grow: 1;}#sk-container-id-3 div.sk-label:hover label.sk-toggleable__label {background-color: #d4ebff;}#sk-container-id-3 div.sk-serial::before {content: \"\";position: absolute;border-left: 1px solid gray;box-sizing: border-box;top: 0;bottom: 0;left: 50%;z-index: 0;}#sk-container-id-3 div.sk-serial {display: flex;flex-direction: column;align-items: center;background-color: white;padding-right: 0.2em;padding-left: 0.2em;position: relative;}#sk-container-id-3 div.sk-item {position: relative;z-index: 1;}#sk-container-id-3 div.sk-parallel {display: flex;align-items: stretch;justify-content: center;background-color: white;position: relative;}#sk-container-id-3 div.sk-item::before, #sk-container-id-3 div.sk-parallel-item::before {content: \"\";position: absolute;border-left: 1px solid gray;box-sizing: border-box;top: 0;bottom: 0;left: 50%;z-index: -1;}#sk-container-id-3 div.sk-parallel-item {display: flex;flex-direction: column;z-index: 1;position: relative;background-color: white;}#sk-container-id-3 div.sk-parallel-item:first-child::after {align-self: flex-end;width: 50%;}#sk-container-id-3 div.sk-parallel-item:last-child::after {align-self: flex-start;width: 50%;}#sk-container-id-3 div.sk-parallel-item:only-child::after {width: 0;}#sk-container-id-3 div.sk-dashed-wrapped {border: 1px dashed gray;margin: 0 0.4em 0.5em 0.4em;box-sizing: border-box;padding-bottom: 0.4em;background-color: white;}#sk-container-id-3 div.sk-label label {font-family: monospace;font-weight: bold;display: inline-block;line-height: 1.2em;}#sk-container-id-3 div.sk-label-container {text-align: center;}#sk-container-id-3 div.sk-container {/* jupyter's `normalize.less` sets `[hidden] { display: none; }` but bootstrap.min.css set `[hidden] { display: none !important; }` so we also need the `!important` here to be able to override the default hidden behavior on the sphinx rendered scikit-learn.org. See: https://github.com/scikit-learn/scikit-learn/issues/21755 */display: inline-block !important;position: relative;}#sk-container-id-3 div.sk-text-repr-fallback {display: none;}</style><div id=\"sk-container-id-3\" class=\"sk-top-container\"><div class=\"sk-text-repr-fallback\"><pre>RandomForestClassifier(random_state=15)</pre><b>In a Jupyter environment, please rerun this cell to show the HTML representation or trust the notebook. <br />On GitHub, the HTML representation is unable to render, please try loading this page with nbviewer.org.</b></div><div class=\"sk-container\" hidden><div class=\"sk-item\"><div class=\"sk-estimator sk-toggleable\"><input class=\"sk-toggleable__control sk-hidden--visually\" id=\"sk-estimator-id-3\" type=\"checkbox\" checked><label for=\"sk-estimator-id-3\" class=\"sk-toggleable__label sk-toggleable__label-arrow\">RandomForestClassifier</label><div class=\"sk-toggleable__content\"><pre>RandomForestClassifier(random_state=15)</pre></div></div></div></div></div>"
            ]
          },
          "metadata": {},
          "execution_count": 38
        }
      ]
    },
    {
      "cell_type": "code",
      "source": [
        "from sklearn.metrics import classification_report\n",
        "\n",
        "y_pred_rf = rf_clf.predict(x_test)\n",
        "class_report_rf = classification_report(y_test, y_pred_rf)\n",
        "print(class_report_rf)\n"
      ],
      "metadata": {
        "colab": {
          "base_uri": "https://localhost:8080/"
        },
        "id": "ElZrCELEZJvt",
        "outputId": "1ac0f7cc-e717-49c9-c76d-665476020a9e"
      },
      "execution_count": null,
      "outputs": [
        {
          "output_type": "stream",
          "name": "stdout",
          "text": [
            "              precision    recall  f1-score   support\n",
            "\n",
            "           0       0.93      0.97      0.95       412\n",
            "           1       0.67      0.45      0.54        53\n",
            "\n",
            "    accuracy                           0.91       465\n",
            "   macro avg       0.80      0.71      0.75       465\n",
            "weighted avg       0.90      0.91      0.90       465\n",
            "\n"
          ]
        }
      ]
    },
    {
      "cell_type": "markdown",
      "source": [
        "* **XGBoost**"
      ],
      "metadata": {
        "id": "Gexh9v_kbc6_"
      }
    },
    {
      "cell_type": "code",
      "source": [
        "xgb_clf = xgb.XGBClassifier(random_state=15, use_label_encoder=False, eval_metric='logloss')\n",
        "xgb_clf.fit(new_x_train, new_y_train)"
      ],
      "metadata": {
        "colab": {
          "base_uri": "https://localhost:8080/",
          "height": 248
        },
        "id": "4XrVINRcbFIs",
        "outputId": "cc42ee84-5b98-411a-ecd5-992cfcca19ce"
      },
      "execution_count": null,
      "outputs": [
        {
          "output_type": "execute_result",
          "data": {
            "text/plain": [
              "XGBClassifier(base_score=None, booster=None, callbacks=None,\n",
              "              colsample_bylevel=None, colsample_bynode=None,\n",
              "              colsample_bytree=None, device=None, early_stopping_rounds=None,\n",
              "              enable_categorical=False, eval_metric='logloss',\n",
              "              feature_types=None, gamma=None, grow_policy=None,\n",
              "              importance_type=None, interaction_constraints=None,\n",
              "              learning_rate=None, max_bin=None, max_cat_threshold=None,\n",
              "              max_cat_to_onehot=None, max_delta_step=None, max_depth=None,\n",
              "              max_leaves=None, min_child_weight=None, missing=nan,\n",
              "              monotone_constraints=None, multi_strategy=None, n_estimators=None,\n",
              "              n_jobs=None, num_parallel_tree=None, random_state=15, ...)"
            ],
            "text/html": [
              "<style>#sk-container-id-4 {color: black;background-color: white;}#sk-container-id-4 pre{padding: 0;}#sk-container-id-4 div.sk-toggleable {background-color: white;}#sk-container-id-4 label.sk-toggleable__label {cursor: pointer;display: block;width: 100%;margin-bottom: 0;padding: 0.3em;box-sizing: border-box;text-align: center;}#sk-container-id-4 label.sk-toggleable__label-arrow:before {content: \"▸\";float: left;margin-right: 0.25em;color: #696969;}#sk-container-id-4 label.sk-toggleable__label-arrow:hover:before {color: black;}#sk-container-id-4 div.sk-estimator:hover label.sk-toggleable__label-arrow:before {color: black;}#sk-container-id-4 div.sk-toggleable__content {max-height: 0;max-width: 0;overflow: hidden;text-align: left;background-color: #f0f8ff;}#sk-container-id-4 div.sk-toggleable__content pre {margin: 0.2em;color: black;border-radius: 0.25em;background-color: #f0f8ff;}#sk-container-id-4 input.sk-toggleable__control:checked~div.sk-toggleable__content {max-height: 200px;max-width: 100%;overflow: auto;}#sk-container-id-4 input.sk-toggleable__control:checked~label.sk-toggleable__label-arrow:before {content: \"▾\";}#sk-container-id-4 div.sk-estimator input.sk-toggleable__control:checked~label.sk-toggleable__label {background-color: #d4ebff;}#sk-container-id-4 div.sk-label input.sk-toggleable__control:checked~label.sk-toggleable__label {background-color: #d4ebff;}#sk-container-id-4 input.sk-hidden--visually {border: 0;clip: rect(1px 1px 1px 1px);clip: rect(1px, 1px, 1px, 1px);height: 1px;margin: -1px;overflow: hidden;padding: 0;position: absolute;width: 1px;}#sk-container-id-4 div.sk-estimator {font-family: monospace;background-color: #f0f8ff;border: 1px dotted black;border-radius: 0.25em;box-sizing: border-box;margin-bottom: 0.5em;}#sk-container-id-4 div.sk-estimator:hover {background-color: #d4ebff;}#sk-container-id-4 div.sk-parallel-item::after {content: \"\";width: 100%;border-bottom: 1px solid gray;flex-grow: 1;}#sk-container-id-4 div.sk-label:hover label.sk-toggleable__label {background-color: #d4ebff;}#sk-container-id-4 div.sk-serial::before {content: \"\";position: absolute;border-left: 1px solid gray;box-sizing: border-box;top: 0;bottom: 0;left: 50%;z-index: 0;}#sk-container-id-4 div.sk-serial {display: flex;flex-direction: column;align-items: center;background-color: white;padding-right: 0.2em;padding-left: 0.2em;position: relative;}#sk-container-id-4 div.sk-item {position: relative;z-index: 1;}#sk-container-id-4 div.sk-parallel {display: flex;align-items: stretch;justify-content: center;background-color: white;position: relative;}#sk-container-id-4 div.sk-item::before, #sk-container-id-4 div.sk-parallel-item::before {content: \"\";position: absolute;border-left: 1px solid gray;box-sizing: border-box;top: 0;bottom: 0;left: 50%;z-index: -1;}#sk-container-id-4 div.sk-parallel-item {display: flex;flex-direction: column;z-index: 1;position: relative;background-color: white;}#sk-container-id-4 div.sk-parallel-item:first-child::after {align-self: flex-end;width: 50%;}#sk-container-id-4 div.sk-parallel-item:last-child::after {align-self: flex-start;width: 50%;}#sk-container-id-4 div.sk-parallel-item:only-child::after {width: 0;}#sk-container-id-4 div.sk-dashed-wrapped {border: 1px dashed gray;margin: 0 0.4em 0.5em 0.4em;box-sizing: border-box;padding-bottom: 0.4em;background-color: white;}#sk-container-id-4 div.sk-label label {font-family: monospace;font-weight: bold;display: inline-block;line-height: 1.2em;}#sk-container-id-4 div.sk-label-container {text-align: center;}#sk-container-id-4 div.sk-container {/* jupyter's `normalize.less` sets `[hidden] { display: none; }` but bootstrap.min.css set `[hidden] { display: none !important; }` so we also need the `!important` here to be able to override the default hidden behavior on the sphinx rendered scikit-learn.org. See: https://github.com/scikit-learn/scikit-learn/issues/21755 */display: inline-block !important;position: relative;}#sk-container-id-4 div.sk-text-repr-fallback {display: none;}</style><div id=\"sk-container-id-4\" class=\"sk-top-container\"><div class=\"sk-text-repr-fallback\"><pre>XGBClassifier(base_score=None, booster=None, callbacks=None,\n",
              "              colsample_bylevel=None, colsample_bynode=None,\n",
              "              colsample_bytree=None, device=None, early_stopping_rounds=None,\n",
              "              enable_categorical=False, eval_metric=&#x27;logloss&#x27;,\n",
              "              feature_types=None, gamma=None, grow_policy=None,\n",
              "              importance_type=None, interaction_constraints=None,\n",
              "              learning_rate=None, max_bin=None, max_cat_threshold=None,\n",
              "              max_cat_to_onehot=None, max_delta_step=None, max_depth=None,\n",
              "              max_leaves=None, min_child_weight=None, missing=nan,\n",
              "              monotone_constraints=None, multi_strategy=None, n_estimators=None,\n",
              "              n_jobs=None, num_parallel_tree=None, random_state=15, ...)</pre><b>In a Jupyter environment, please rerun this cell to show the HTML representation or trust the notebook. <br />On GitHub, the HTML representation is unable to render, please try loading this page with nbviewer.org.</b></div><div class=\"sk-container\" hidden><div class=\"sk-item\"><div class=\"sk-estimator sk-toggleable\"><input class=\"sk-toggleable__control sk-hidden--visually\" id=\"sk-estimator-id-4\" type=\"checkbox\" checked><label for=\"sk-estimator-id-4\" class=\"sk-toggleable__label sk-toggleable__label-arrow\">XGBClassifier</label><div class=\"sk-toggleable__content\"><pre>XGBClassifier(base_score=None, booster=None, callbacks=None,\n",
              "              colsample_bylevel=None, colsample_bynode=None,\n",
              "              colsample_bytree=None, device=None, early_stopping_rounds=None,\n",
              "              enable_categorical=False, eval_metric=&#x27;logloss&#x27;,\n",
              "              feature_types=None, gamma=None, grow_policy=None,\n",
              "              importance_type=None, interaction_constraints=None,\n",
              "              learning_rate=None, max_bin=None, max_cat_threshold=None,\n",
              "              max_cat_to_onehot=None, max_delta_step=None, max_depth=None,\n",
              "              max_leaves=None, min_child_weight=None, missing=nan,\n",
              "              monotone_constraints=None, multi_strategy=None, n_estimators=None,\n",
              "              n_jobs=None, num_parallel_tree=None, random_state=15, ...)</pre></div></div></div></div></div>"
            ]
          },
          "metadata": {},
          "execution_count": 41
        }
      ]
    },
    {
      "cell_type": "code",
      "source": [
        "y_pred_xgb = xgb_clf.predict(x_test)\n",
        "class_report_xgb = classification_report(y_test, y_pred_xgb)\n",
        "print(class_report_xgb)"
      ],
      "metadata": {
        "colab": {
          "base_uri": "https://localhost:8080/"
        },
        "id": "_XyBSaiebow3",
        "outputId": "59395c58-2a89-4e88-c563-97708e4c466e"
      },
      "execution_count": null,
      "outputs": [
        {
          "output_type": "stream",
          "name": "stdout",
          "text": [
            "              precision    recall  f1-score   support\n",
            "\n",
            "           0       0.94      0.94      0.94       412\n",
            "           1       0.51      0.51      0.51        53\n",
            "\n",
            "    accuracy                           0.89       465\n",
            "   macro avg       0.72      0.72      0.72       465\n",
            "weighted avg       0.89      0.89      0.89       465\n",
            "\n"
          ]
        }
      ]
    },
    {
      "cell_type": "markdown",
      "source": [
        "# **SUMMARY**"
      ],
      "metadata": {
        "id": "jAY47JLvcnK-"
      }
    },
    {
      "cell_type": "markdown",
      "source": [
        "![image.png](data:image/png;base64,iVBORw0KGgoAAAANSUhEUgAAAscAAAFFCAYAAAAAZkBgAAAAAXNSR0IArs4c6QAAAARnQU1BAACxjwv8YQUAAAAJcEhZcwAAFiUAABYlAUlSJPAAAABhaVRYdFNuaXBNZXRhZGF0YQAAAAAAeyJjbGlwUG9pbnRzIjpbeyJ4IjowLCJ5IjowfSx7IngiOjcxMSwieSI6MH0seyJ4Ijo3MTEsInkiOjMyNn0seyJ4IjowLCJ5IjozMjZ9XX2JWL9tAABE9UlEQVR4Xu3dvX6iXPfw8ZXnWDTF3DkCPAKdJtW0V4dlbNJNmW4aLGM3bao0wSPQI8h/isi5+KwNG+VdUDCiv+/n4hqDmxf32sACN3i3VVLD//3f/8n//vc/+xfwvWiP9VFXl48Y9QNx6jfid126jOf/s/8CAAAAN4/kGAAAALBIjgEAAACL5BgAAACwSI4BAAAAi+QYAAAAsEiOAQAAAIvkGAAAALBIjgEAAACL5BgAAACwSI4BAAAA6+7z83NrX1d6eHiwrwAAAIDvpTmsfdWuu62yryvd3d1JzaJA52iP9VFXl48Y9QNx6jfid126jCfdKgAAAACL5BgAAACwSI4BAAAAi+QYAAAAsEiOAQAAAIvkGAAAALBIjgEAAACL5BgAAACwSI4BAAAAi+QYAAAAsEiOAQAAAIvkGAAAALBIjgEAAACL5BgAAACwSI4BAAAAi+QYAAAAsEiOAQAAAIvkGAAAALBIjgEAAACL5BgAAACwSI4BAAAAi+QYAAAAsEiOAQAAAIvkGAAAALBIjgEAAACL5BgAAACwSI4BAAAA6+7z83NrX1d6eHiwrwAAAIDvpTmsfdWuu62yryvd3d1JzaIAAABAZ7rMS+lWAQAAAFgkxwAAAIBFcgwAAABYJMcAAACARXIMAAAAWCTHAAAAgEVyDAAAAFgkxwAAAIBFcgwAAABYJMdAawKZj+7CX+3ZDyOZzgP7foXlVEap6XQYzXWOFYJAlnOdbjRKT6fLHI2mMl9WTV20runBzHc6X5rFVDg8n3iYLu0koWVqupEu5zgHlq+fYTSdS3FVHLvudequqv5rLrcq/p3Hvun6d9jOi5Z3xDSjdBATkm1xJJUfI9CyU1PHyXmXtbGacdahdNUAfA/z89F1NCgK3KaNt3V0OzHbSnpwtt7Glinkb91G0222vusUlC8YHLdkHmXLLB4c19elFqk/H51FQma69JsN1F++k6uIlta9atD6z3+yutMXTXvm2Bet/9naueW7zacpWcfiZpZcr1O2OUfnn5y4fj0f3fyBG2a2na5w5Rjo3FrePiouRy3fZWFf1rGcDmWyWNu/DlgvZDY8cDWshvViIsODV+su23o2PP8VOq3/ybELdX7I0L6MnT32jda/3XYeW74XTXVgWSUW78fFol69r2Ux+SNcBAb6j+QY6IjjOPaVHjbfPkoTy+TBPzlNkWA+0oO0/SPkiOtvZKMn0XqyGw4b3xM3NZu1zP47kNi6/m76cNhsxNeZpGczk+GhRCk7n8TwOrZlupRavvkMdry1eKmoh2PXPTPdRheaqrfFS3WCWrbc1ZMMbBHjXLFvuv5dtPO9pewn08+b+HBVy0rTdhxPdigWBQ7Xu7YzL66zT/kqm/+x7QvA2ZEcAx15+PVrn2Ss36T4Qlf64P/r14N9XWQpf2bJq1eOeJuVHlgHqSRqMH6S15UvqbxQE9s/TS5pDQYyfl3JauPtP4NxRHLxfcxn2IiX/ADrf7KxL7syGL/K3/RC5d/JCz1f7Juuf/vtPCF5tdn5Jc+PielKl5X1oMuL11BPFhptCHXqXdvZ06vdVh7kPhkQAL1Ecgx05f6n7I7JelAu/Bo4c/D/eW9fF8l8Le14f+Wp9EA8ltfMZdPP0ktaFQZPuUTpmK+zv89A7lN5WMWVvRYN0gs93Zlj32j9227nCamrzb9+auL+mEj867fF+6ff++kW75ry1pSpd3F/l9e7biur7avWPoC+IzkGOjOQn/usQdazfH/E3MHfvi6S7nvpyK+fBy5RDX/sr+ip+l9Dpw2SiYVan34Z9OoFX5/2leHIj2zn4YbOHftm699uO9/LXG0OP/NYHhONsWhZxZLTLeSl5tcf2Xr3nkl9gVtAcgx0aPAz8ZWzHpTT9wMVHfzLBJLKV+p8fTu411JtGMqPZKb1+VWeaC0mF/aoqmQdGxX11sq6BxLMp/Jf8qt4c6W0XjZY4pyxP27922vnCdmrzXaycTI7zi2r3Ph530WoXlJ9RL1XubhtA0AZkmOgS4PkV856fEweyUsO/u3JJLVH97fNdk1o7qguHacyz6QdTfZ1bLiPjb/2PrjuqaRnKMPZQvappSPe3/SNdTklSdPopM7dDWJ/6vobHbTz0qvNqa4VmWVVGTzJ78TV47qTde1btg0AlUiOgU6lv3Le93cMZP5ScvDvSsGjwc7l4Vx3KSUTveFEUvdSaUrlH/FYgGPX3XE98Terir7BZ3RE7Jutf9vtvOpqc7prxX5ZhyWvHlc+uaRIR9vP2bYNALWRHAMdK/zKOfiQt13i1uCr5kY28i+VHB4r+/VyhZLHVX37o6ocV7zNgZulOlj34bflPe3Evsn6t9rOD1xtPrZrRerqcdMnuJz6pJNL3TYA5JAcA10r+Mo5+Hjbf3Vd66vmI566EHxpqYSH+yOvTmcSraPnc36OSYrNM2lXr91dwd0lPdGzoWPrRY3nQhslSdNqt8Idx/7U9Y+10s4jqRvhzPO1d90+7JB+8HC4rLpSV48rp/ueJ50A+H4kx0Dn8l85/9lfTqv9VfMw3Yn04GOsUomJco58ZEIwf9lfxVPHzucsMonmyiTFmWcBd8c8V/lv+rnKLT0X+jyxP3X922nn2uAk0ROjngZdK1JXjw98vqb1DuA6kBwDZ5D9ynn/S7T1v2pOz8NcUKu44z7I/niBK7+PuXSqiUrqyQXHzudmDORpf9eXavqjE8XOF/vT1r+Ndp5N7OtpdoPd/uqxSXi/wldF8vX+X49+BAfAsUiOgXPIfOW80+QpFbl5LGQymsp8mT5aB8upjIbppzQ43nOzpzQEgSznZj6zVKLSeD63aPzc/tXjc8b+lPU/uZ0H8pG42lzW5SQcMr/e2KRrRXI9129v6S4oSaknXBh6sjAcyVTrPVklgXkyynQko7sRyTNwBUiOgbPIfOVsNXtKxUCe/qYTAlkvZDYZpvpjDifJR3Epx5O/h64cZh8nNhzKJPVIL3XMfBJDZffVsunO+RDYY9c9J3/19fSv4zuMfc4p639iO0/dwKe58WNFWp9NxJt0rUh+xvU6XWcZ49fMz3Fr6YXWe7If9NA8GWVRPZ/22heArpEcA2eS/YpWU4bmT6kwP1G70YN1Pv8o5Li+bFY1nlN7gOOdPp8+P8+18bpnnsVb/5fcKpwz9ies/yntPN2lotkv82n22ezZxdkr5KXG8tqg3o/Bs46By0JyDLQm+atkemC3r3ayV7rc3wVPUEj+7O+DzrHAQA/Wq61sfE8P2E4mEVE6zjXJ7GYrq9dxSXKU+ZGIHJ2vedKDmc/WPDnh2PnspZ/nWn+6JpxcpVc5dt01Sonpipc5ludU5lX+pING69xK7E9d/+7a+Sb5WBSd7lBOnU3E90lmnV8IjK7Gp5Jep+RX8A7UuxPWe/a50Me3LwDf625rOm/VYL76qVkUAAAA6EyXeSlXjgEAAACL5BgAAACwSI4BAAAAi+QYAAAAsEiOAQAAAIvkGAAAALBIjgEAAADr7vPzs9ZD4h4eDj9SHQAAADgHzWHtq3bxIyDoJdpjfdTV5SNG/UCc+o34XZcu40m3CgAAAMAiOQYAAAAskmMAAADAIjkGAAAALJJjAAAAwCI5BgAAACySYwAAAMA6LTleTsPnzO2G0VSW9q28QOajRFkdpiWFg+VcpqNRquyd/j3SCYLAFkrKrkdiGOk6zZeBLr1AxXThkFjB5Txen5HMC2dWLNhNF02b/8yJeimtkLmMdvPQzzQvKddmPBrUzSUqakNxW4g1jmndOBjBMrN8037n+XZYt1zbSuMbLT9RTaF0Oz5c/tj2UyduQWLeudnUqM/K6a2m+6BWtvOMS6rzlJrbQZ3t69j96iUpj1M05Ko900ZrNoe0hvuNpjE+rf0nh3bbauea7OOtNuo2t487tF0k1zNRV43jkNT6Z0/mGAWfI7m80RmOeU1tayoquvGccHxycLyNfTetXll/6zrpMvnB2bq+LW4VzTs3OO42u7iD0yUW5LvxeCc3nyr76ezgeNv05JutF3/m7Aez8uvpak3ltRmPJnXzHcw6FEvUZ+Gwj1/TmNaNg85466TKJYZkvdUtdyIzv6yD8c1sZ7l2nBvSddi8/dSPW3LeqdnUrM/S6UPH7YNO3c7N+KxLqvOk/HKKt4M621fTbfC7mXXNOlTvu2rfFLetguZQrdF+o2mMW2r/ueHUttoOM+8qddt2pGndHrOPK9kuNt6+DSTqqmkckjr57NpWd+MyMU0u79hwm2m70lK3CkccjZSxfvsoOAMI5ONtHb3UgrZohjnLmMgiLub6onVrPrkOG/E1EpG1LCblVxm0ku00Omx0Ot3SQ+uFzIblV1JT08XD69i+24L4c6/f5KPRKdJS/syiSnHiSpaFvFee1LURj73O66Y1pg0NxVaXfjZP/E28zhvZ6J5jV4WN1Y2DrsPLQlup4YjuIKLlJ9tiqG657u3jm93OiraXxLpmys/+FDfKw+2njbi1UZ9mPU7cB8XbU+PtvMol1fkx+6PbUVTvcbUHHy/athxxPT8Rw6aatPOmMW6h/XfSVs+lSds+pm67OjYVaRqHjj77+Fl2i168JNrMfnlm+udLTCf0A9VSVDR1duPtzxC0saclznJcb/+69EplbgaRsjKHzkCS75cts2SROxpvW7b8zKvIbjrH23rx69TCEmdgRSuxO/Myy9Wz+vB1cdn952k3Hofq5juY9cpJnqXmrtzlNYpp7Tgk3qtch7rlTmeWkVUe3+QVgX29lNdV8edo1H4axq143vXrs2zdkuMLt0VVVubU7dyMz7qkOt9psD+qs3012gYvgFnXrEb1bh0zTaTBfuOE7ero9t9FW22RWV6pBm27ad0eH4uS7eLgleN6cdjp8LMnYx3nGEXjjmGm70p7N+T9fBSt0NAic7oRfLzZM11XHn+GLzISVzLNGU/JacTg5y9911q8F1zVKjZ4+r1bt+Irqefx89mL1r/Bui/fF9EL55f8HAzlR1wBh+ZxUjz6aVdXyv39JAP7ug1HxaHu1cNWrzL2T+txO6o+29sHHbOdn9uxdX70/gjtO9DOm8W422NwHzRp2023n2O3t3Pp8rOn8q/ZH51fsq258vvp0moj0uLTKsbyuM/GEhWaqAj3UUsV2ci/uK7kQe7L6mrwU37ttsxP+ap9AEwE+zsTkcGT/A7raCEvZf1CUpayb7M/tREO5OeuAg59lXlKPPpoX1dmg3ts9YM1iUOi3s1XWMOym1jqlju35LZ4SCDL6URrIBLVTVNtxe3U+mxxH9R4O2/iO+v8lP0R2lG3nTeNcRfH4Dba6rk0adtN6/bY7a0th+LQ5Wc3xvK871sh7/MPiVMQx3vWdy9Tq49yG++zsX2FBnFFlJ+NSvClm5nl/NBUtm0DuX+wL0ssJvFdld3ePRnXUXQGdcDy3TZoR379jJpz8sw9e0U46+h4ZJyrbi5WwziMX33dbcTWsl5MZDi8iw5idqxRt9z5mJ3oi/2syv0t+ZN6c0CO28JQJvFO1fVlVXIF4Gzb1in12fI+qNF2ftCF1PmJ+6NbkKv3u6onBh2nk/1Ga+3/cvcPla6ubTeIwxk+e/Lq8WI207UzLveqsdFqcqxHhH0F2ArdfYUfXq4PR922XQf17BlZXvqrjuilttr9mfuhr7WIRyuax2Esr+YmiMwNMuFBTA9ge3XLdWt/cDI70Wi3ZXZcfs2bYsId7rfcQJN1GfUZarCdH+M76vzk/RFackHtvIbL2T+Uu4W2XRaH83z25NXjyCVfNTbaTY71o+4vVpoKTdwBWfWVyuBedhd21/9kY1/m1fzqJyeQr91pcfF0bvaO2VVX/YIG8hR95yqLl6oz5OxXHbFTulbUjEfG+ermEh0bh4GMX1daX5mDmB7A0sevuuXOxInupt9sX0t2XI69C9qsbzTGHJRHFd0Hztt+jqzP1vdBdbfzOi6hztvYH12/XL2XbkcVCp8BnH06RMv7jdba/6XvH4pcY9uuG4fzffbk1WON+kVfNTZaTo41HUt+lT/NX64vlugTXNWP6eivfhIbdCfdNhqKrypV9X/efdWhxWbD1I5yuHuGitbygVZ7XDz6KNmGWtyRnRyH6CC2SZw1fxZ3VK1Zrn2pg9NqJa9P48ROsoxZ3/3Xu8d3H+gobo3rs4N9UJ3tvJFvrPOW9kdoW1k7bxrjttt/W231DBq37VPqtuk+bi3/is5UNv9s1wQThqq90IE4dP7ZkxLTXkIedkDryXHqq/yFrfaDX+En+wSv5a3kSLL8E/dVMbOsf+UzmO/7UTaZrjvxWdlaZn8+olEZu686Djn0lcdR8eij5JlucmM+TWtxSHio+ZVH3XLfJ3OjxVFV3k3cilTXZxf7oMPbeXPfU+ddbAcoMX7dn6zuhlVB//9iUTtvGuMu2n8bbbV7zdt287ptur0NEjdJFZ3UB/uvwmscJ8rj0P1n76/2k2MNxO5ipVUnIR3Hjz9S5gzG/HThvkmYG4VGu07ltS/JB9F0+zOgy7mUv/uKYfEmb+GYpP1XHeL6BTvKbeJKwaE74o+LRx+lvrYxXyFN0zeoxD91WVldKUfEYTnN/3RokHjgua5heIdv3XIXLnXjxpHdB1qJWwv12cU+qHo7P87567zN/RFO0qCdN92uOmn/LbTVbh3XtpvWbeN9XOKi1nr2n0wT8TY/f/9fw+NEcRzO89l7SyuglqKiWnH2Qc6ZB04nHxKdfS/x8Orcw591uvi90sFxt35msv16VAzHTOcWPVy7aCj/mcXddAUPy84tP15eov4Sq5BW8CDuNuPRpG6+g1mHQsmHoxcO+89/MKbHxCFV1/lhN5+65Vpg5peVjG+dZe3rKtN+tOXp/jP3XuP20yBuheveoD4rP7vO55h90FHbeYIZn3UxdZ6o24JVjyTr39bBwe2rZplLYtYrq7I9JRyMT53P23S/0WC7Cp3a/rtqqy0x8045sm2HmtZt67HI1nXDOJzzs4cS61CwnzyGmVdXOrhyrBJnPY2+wh+/ysr8DKaX/ylF85OGrr+RzepVxpn5Jb+CSDM/o+yKp9NtG02XN9x3tGmNOQPTxrIT9x3af9VRcVaYrOPKGyjUEfFoUjcXZfAkK3MTQq4NxW3h7+7ryUMxfT8mDuNn+/OZ6XmbZZuf2NzdLFy3XFeaxre0rpJfs+2/jm3cfhrErXDdm9Rn1boduQ+qUradH3QhdX7s/qjOPrOL/epVa7rfaLJdGce2/67bakdOOtY2rdujYuGL5+r7dlRE/3Z92WwKuto0iMNZP3sP3ZkM2b6uZDpo1ywKdI72WB91dfmIUT8Qp34jftely3h2c+UYAAAA6CGSYwAAAMAiOQYAAAAskmMAAADAIjkGAAAArLvPz89at/o9PFzGo1cAAAAAzWHtq3bxKDf0Eu2xPurq8hGjfiBO/Ub8rkuX8aRbBQAAAGCRHAMAAAAWyTEAAABgkRwDAAAAFskxAAAAYJEcAwAAABbJMQAAAGCRHAMAAAAWyTEAAABgkRwDAAAAFskxAAAAYJEcAwAAABbJMQAAAGCRHAMAAAAWyTEAAABgkRwDAAAAFskxAAAAYJEcAwAAABbJMQAAAGCRHAMAAAAWyTEAAABgkRwDAAAAFskxAAAAYJEcAwAAABbJMQAAAGCRHAMAAAAWyTEAAABg3X1+fm7t60oPDw/2FQAAAPC9NIe1r9p1t1X2daW7uzupWRToHO2xPurq8hGjfiBO/Ub8rkuX8aRbBQAAAGCRHAMAAAAWyTEAAABgkRwDAAAAFskxAAAAYJEcAwAAABbJMQAAAGC1lxwHc5mO7uTubipLO6oWnW50p9NNG03VimA+Cp+TN5oHdszpupgnkBbIcjqKths7jEa63dHkKrRQZ8FS5gXzmBfNxJaNy4VldR9HiC7UsccvZLS3nTXedpbT3XI5/uJk25qqim48J3w/Gtytb8fXsvG2jpnObTRVK+L1dryNHVOXv3XNOjveNjvl8fNEE1Xt8bpttp5jtzXH2bquu3X132jbc7ZFze526yrWvM7y7Dav5R3X2/q+v/U9N9p36ZDefeXLeq5dXsE+wyBG36fJ8Ys4VelmOzu07UQSy9ah7Phr3sP16DKetedcvBL7Bul42ojD1/1Jjo9XnhzjPG51J7c7kGe2l43vFo43brWuYsfUWVY8j1zRgv2X7+rfBWXj8UUHbjMe59b8+EWcyrWxnR2z7RjRsjUB1xPWqnLmPVyPLuN5WreK4EPe1o5oO5TV09COBNCNQD7e1vqvbnPP42iUNRg/ix7cRRbvfC2c0k6dbf5F8/hxcDe3lPeF/uN4klmcjJ89nYPI+t8mGoHvxfGrRW1sZ8duO0v5M9Nlu7/l6d6OAk50WnI8eJLVdiVPA/t3pwJZzvd9isJhNJJpWWemXR+ygiHu37ychn+n+yfllzMazXcb9XJqxk3EbMOynskwLlc5TyPI9KMa0QcRDW0kytF+yc/cNjeQ+wfz76d80agS2qmz4Y/w0CxvH+mCwcebjtXZx1lz8KVzKzG4l2hxX2z3l+Csx69r18J2duS2s5ya47Er/msmowZO0JOnVWhiORrKZLaQteOI67o6OOKs17KYDMMkM8UkqMNZuMF4vi++54Znnbrliuvp39nT0oTlNFqOFhTfTivyttuox886zo/OYsWx8zdDxTx1rjK9G8psoXsPnSZcf2ct68VE/uPGAdQVHzwe7vVwkxcncFyYTGipzgZPf8OrX+uZ2d/oyXJgTqJHMgyvWPnyt1aGNZRocf80lQCuSOf7ppJtJ5jLix6uHe9ZSI3Rpl4kx8H8PzHHIHMQ2q5W8vr6qsNKz/p9TX91e1m8SDLHXIbfzeiZ5OpVnsZjGT+9ympjEtq1bsBDGZcexwL5Mlu448nf1ycZx9PqMnfHvoGOG9uzWPkhP00ZM1QcG4P5S3il2fE2uv5m3XVYbWW78eX3fZ2DKoDvNZCn1UZ8PSlfL2YyGZqT6HW0Tb+O9wnB4Kf8Cg/ib5K5yAygSuNtJ5D5fzNZm+M1l//Rsh4kx3FfpqKvTcbyHHZmSn7dGSe4PzQNTrBfy9Tq72c2ztaei7Vf/9/ZDThMtO1rAJct+JD3T7MtO+I4Zr+ju4rZfzJNffszkJ/REV5mw5G+t5TlcinzsKvWMDrJB1Cg4baz/BOOc38/FV6tBk7Rg+Q47suUSXatQdSZKZH02v5N2a9flu/R1dvKO2oG8vTXC7s8zCbDqE+zbqCnpcnV6w+gB3ZdtTzxN6vw2yTzzY+n+4rFTPcVia5dg6eVbHxXE2jz3kQmk4nM3j7lwTP7Fi3AvgAoVH/bWcp0Yro/+kJXY3ShJ32Omxk/ms4WC5mED+jXs09z5mk2JHHkV/5ugbTBU9jlYePrxqhnsGYDHd6NUt02gG9x4Iau+k9UuCGt1Jk9EIddtZ72XagG47CrRXQnfrpr12BsumOFj8qMBtMdzNxKbxZX0i8T6K0W9011tp1dV8XPd5lOp/vhJez5LOu3P+Hf88ztSEBdPUiOq29iCcI+FLqR7La6QOZhD31XD2ULmemZZ3iDnf5trvjU7Zo0GMdJctirWWZ/TtzKuAkHJ6vaFuxjkPQQRTf2pBbqLL7ZqPCKb3wnfg322yv3kUtduDYd75tKtp31eiGLRWJYmwzavBH9/caje3Ck8yXHiZ+JbtZc44PPQl6yl28D+3zD1BXhqBuD8/AY3fRmzz5Xq9fKm+bKDMaPmmRnVSfsaWMJL2SXrH/hT88CheI+efm2FF9J0aMHd22nNKyzov1UfFWscHu39zgcTLB1vubqc8EzXIH+a2E7K1Ow7ZjuF7sry8khvJhlim7Cv1fcqIdjaQOqpbjoRtuiG/1MpA66aYS/UuPE4zx//wty8a/kZH+BKP6FqfjnJlNDPH38k5LJcvbXeHRI/xpO+mckd4NO5zju1vMTZe067aYP1yXx87C+t3XtvMp+sUd0nmZdnLhAdp5G/Bl35XWI17HGrwYhz9TdbUpuC5m2VPLrXrdbV7EGdVayn9r9+pfZ/+h+Ldw/mJ+PtvNJbu/RviGxP9stq/wndM37OLcGxy+LOFU5fTs7ZttJKTr+Jpj3cD26jGftORevRGJjKBwSDT/xM6upZptMHHNDcsPRpNckoYn3c8muFf+U5O4gFv4+e7zzSyS6uQ3J7CzTyzAbedEyws++23AT8yjbODem/D6hj3bC+Z0v6jF1eLO0LZltId2Wyn/K/KbrKla3zsr2U2oTniwn51G8DzI/lxsnzftlVW/rphzOrcHxyzLjUeHE7eyYbSeF5PimdBnPO/M/XcBB5lfdahb9Xuau8ski/Fol95WK+XpmOJO1eV4yt7j2Wm/a4wWgri4fMeoH4tRvxO+6dBnPq3taRXyD3kNRB8DNv/CG1+rHuQEAAOBWXd+V4/jqsDjiuL/k9+N9OPrr/UXeFmsd74q/feWmpZ7jCkB91NXlI0b9QJz6jfhdly7jeX3JsREsZfrfy/6xLiGTLP+Wv8mfekVvsZOrj7q6fMSoH4hTvxG/69JlPK8zOcbVoz3WR11dPmLUD8Sp34jfdekynlf5C3kAAADAMe4+Pz9rpd0PDw+cceFimDNGAACaII+5HiYP0BzW/tUuulWgl2iP9VFXl48Y9QNx6jfid126jCfdKgAAAACL5BgAAACwSI4BAAAAi+QYAAAAsEiOAQAAAIvkGAAAALBIjgEAAADrtOQ4mMvo7i581lxqGI1kugxsodsTzEdhPYzmt1sHOAPd/qYjs81NZWlH4VIEspyOUvvH0UjjxC7hwhCnfrvG+LXwmYKlzAvmMS+aSZOyt2RbU2HRjbd1dLw4ztZ1XTs4YdlwcH1b8LZsvKgOHG9jx6BtDZruVYrbWDS426ot7dbr6vw2W8+xsYn3jfpvFCtnW7RbIEbfgTj12zXGr/lnyvO3ri3vuN7W9/2t77lRrqZDOi1rUvbydBnP2nMuXIk4Oc7V4L7CyQ/RhS43isu233k6nm9fkxxfkt2JS2a/uPHdwvEGMTo/4tRv1xi/Yz5TVjyPXNGCfK1J2UvUZTw76nM8lkfNjkXW8m8TjgDQhuBD3taO6EmnrJ6GdiQuRyAfb2v9V2P0PI5GWYPxs+jJjMjinW4w34449ds1xq+dz7T5F83jR43DQ5Oyt6aj5DiQr0/zb1GlN+hPs+tTWTBMbRNZTsO/zZ9mvtH7I5mnWlDdZWq5+TRTbp5pjDXK2HXK9znOT1vaPzvxuQJ9vZ9Gy9OX+XYNnmS1XcnTwP6NC7OR6HjzS37mYjSQ+wfz76d8sQl/M+LUb9cYv3Y+0/CHyaLX8vaRLhh8vOlYnX0iKWtS9tZ0kBybBPA/mRUGOZD5aCiThb50PfF9X3zP1dgsZDLUhDYZH5McDmeyEFc8W86EUWeqk+rfmTOrxeQunK/juuJGBa36y1xOtdxMCybLyVuqMdYpU8yuh067dvQzmPXUFXXWa133oYziZD9j8TKSYfTBovLaZBczLU+CDFye4EsPX+rhXg9nefHBiG/Uvhlx6rdrjF9Ln2nw9De8yrw2ecJ0LsvA5GSaR5ikzPXlb+LKSpOyN8d2rziosGjcL6VgcFx/m+1u3KR/i++a+WT6UtpyqRvd4r44Jf2b6y/T9uV0vNx679Upo+w6JdezrC9Raf/sss8Vr/ehdbhypm4Q9z+mz/HFKNiXJZXtj4jRmRGnfrvG+B35mYptNIWwOYcdyh8Q0KTsZTHr2pV2rhwnr4RGI+ThcZw5+7H9aRxXHoeBBHqGshvkXh7MhJ9f+joqG3bLcH5I6qL+QMvpP+uCUyfH+1vwVXOTZVrrN/k49AiTOmVS4r5Erviv6Svepn/2szl10zPC7FcbRu5zDX7Kr7D4P+GiBgAASAk+5P3T5Byak2l+Zqxn/xV3yWxS9oa0kxw//JbX11cdVrLa+JoCmq4C00xfXdufJuzOMJRhapjIwry3Y/vXZBPA5buY3hH1+8E0W+bTX09cZy2zyTDqCzxfphPnWmWKxH2JMsm+NYg6ExUm/QAAALXsuqR64m80J1utZKt5mad5i+mSubtfy2hS9sa03+d4EF8JXchL0ZmHY4KwkU3RsHraXW0eh4+70KQ2fBj1MrqRLew47MivfG/1ajWXaW52el1tZeNrAmwS/NlEhubmvuTHqFMGwG2y327lvpGyuDv8QhCnfrvG+LXymZYyjW6wEl9zm3Gc3Ghe9rTa2CdevNh8pUnZ29PJ0yoGT7+1us2l+T+Jq8dDifqT/9MCA/2vYIgKqkDmL/YmNE2QZ5NJdBOc/m3Obur3EW+yzL3BOE6Aw08hsz/5s6c6Zfb261F0bTiIHu1x03eGAtehaltfyrs5Fukh8L72PgzdIE79do3xa+EzxTf1FX5LHT/xwmpS9gZ1khzvn3O8kPddzjiQn2Fn2ZIrymFfYPtam4Y5SXIeHsMEdLuNhtXqdX92U0uTZeYNxo9hkl+lTpl9QytYj2Apf6JHezS/Ig7gwpTvc4L5i45V7qPuIfG9iFO/XWP8Gn6mYB494nWa6NoZX30uTLDjR+zaBLtJ2VsU3pZXQ2HRqrsrC3/RJX4yg3mahbf1zE8V+vqvvVNyf4dk4icUk4PjbB3H1ekSd1IWPBkireYyw8+S+AlFLePaddh9hDpljMJ12q/H7mchE3eI5ta/9HPVe0LBtTN1c5vMncWm7URDuP2FbdKO8/JPibnduvouyW3dxmW3PyvebonRdyBO/XaN8WvwmXZPtEqP3z0Zy+QZejwIcxXzk9B2PsmcoknZS2TWsSu151y4EpWPHomTuOwj1qLHhkQHdTtkE14VBS0RMB08bSjxdLtFHkyOjTrLbKuMqkpsM9Pnkv0YyXElUze3KbHzLBzy7cKMx5ltzP5qf/IbncCUP36RGH0T4tRv1xi/up8pkX/lsoTwwl1yHuW5RpOyl8asa1fuzP90AQeZX2erWfR05g7KyUI0MZRVtoOx+SphOJO168s291g03Iqztseeo64uHzHqB+LUb8TvunQZz476HJ8mvkHtoaizy+afhD10uXkNAAAALbvMK8fx1WFxxHF/ye/H+3D01/uLvC3WOt4Vf/vKzRI3jCsA9VFXl48Y9QNx6jfid126jOdlJsdGsJTpfy+yWJvrxDGTLP+Wv6/ZX9/DrWEnVx91dfmIUT8Qp34jftely3hebnIMVKA91kddXT5i1A/Eqd+I33XpMp4X2ecYAAAA+A53n5+ftdLuh4cb/7kUAAAAXAzNYe2rdtGtAr1Ee6yPurp8xKgfiFO/RfGzf6D3NJydbY90qwAAAAAskmMAAADAIjkGAAAALJJjAAAAwCI5BgAAACySYwAAAMAiOQYAAAAskmOgdwJZTkcyursLn9tphtFoKsvAvo0CLdRZsJS5ziOePpzHdKlzzgu07HSULDuS6by4LJLOFadA5qP9+8XDSOYErKEzbmfBPLWc9KDLtMWAY/AjIOil222P5qA+lNlaXzqOuOaXKz8/ZbEOR4i3WcnTICy4w7bbvM7yNNm9m8hCyzvuL/n9eC9f7y8yW+g8HE82qyfZzWI5lbvJQl+Ysg/yILosU85wfdm+jqPXCcTIOGecNImb/5H3f+EfOZ+LhazFFX/7KsloEacqZ97OTHI8nOl4V/I/4Psoz7qdZRcXxc/+gd7TcHa3PeqMa2lQFOjcrbbHjeeEn12TLDsmsvHdwvHGrW+7x9RZlu9qOS2bLRqPd7yNHRMtz/H87X6M2nhbxyxL3G3R0m49Rsa541SKbekoZ4+f3aZqzHYnih/DtQxRPLtRe85drgTQ1G22x83Wc8wOwdnmj/Hxe/nk67a33ePqLM3fulqH4njphNeIk96DR+iq9WD/ejlxihMx4tTMN8SP5Pjmhy63R/ocA72xkX/hN5S/5Gfu68mB3IdfLX7KF/0kE1qos+BLS5QY3Es0iy+h2k9xIXEK5vIS9ogpWg+UYzvDdSE5BvoiPng83Of60hnDH47+fy3/NtHfUJ3X2VCiWfzT9KDC8k/UF9P9XaPf5Q26kDgt/8x0KSZMib6tOOwb4/f5tZTl0g4BqTPaQXIMAFUGP+VXeGB+k4+6x94gPmDPozvvzQ16jit+wc14aMkxcUpZyru5aiyuPBKm8zsyfuvZRCYTOwyHEj0ZhiQZpyE5BoBKA/kZHbVlNoweyWYS3/l8KqM7e3d+RvDxYg/Ys+hOe+U8/NA3wpfoRPM4JQXzFwl7VHjPqSdU4Fwaxm/wJKtMJ9SN74mj0y9mQ5nyLDecgOQYAA4YPK30wOuK45gDb3SVavb2KQ+eJ645njs/ZBgVDZny+4P2JpxWJ5SJHvS5qNWdpnHaW8qfqN+L/Kbfy7c5Pn6RwVgTZrOtqcXLnHNRHI3kGOiLAzelbKI7YuRH1dHj1rRYZ4Pxq6xWiStVq5W8Pt2bC12lfS0jg2ja8KC9ltkfLmnlfHeclu/hVWNxH7lqfIyL2M6s4Q9dEnAakmOgN6puKor7Sz7IPRe+EjquM5tUuU06qXLHfYHvjFMg8+gRFeI9kxof5wK3M+AUemZWS4OiQOdutT3GD9rP/phB2QP4jVvfdhvVWeJ5qgWPuU2Ly6aey2qe6epsPT879Wb3QwbEqNh545QQ/0hF2fsJxKnct8UvJX6mcn49jCh+DNcydLk91p5zlysBNHW77dE+KN8Mjrt1XR3swUD49bUSDeosTpQy46PE1ommTU2f/dGD/cE5WT48uBctzzLv4Zxx2otPWgrOWXJMOZQ5Z/x0Wfqeoyeiu7KuTcLD5Rcn0uY9/T/DlQxRPLtRe85drgTQ1E23x42/9ZIHAj1wOG75VRW2XVW3zkquaJmfwHV2B+p4+rKrXput72XKm4N49ielE0wZqLPGSTW6KkmcDjpj/Da+pwlyclk6mO0s963Nnimj/2e4kiGKZzfuzP90AQfd3d2FawNcAtpjfdTV5SNG/UCc+i2Kn/0Dvafh7Gx75IY8AAAAwCI5BgAAACySYwAAAMAiOQYAAAAskmMAAADAuvv8/Kx1q9/DwwN36eJimLuOAQBogjTmepg0QHNY+1e7eJQbeon2WB91dfmIUT8Qp36L4mf/QO9pODvbHulWAQAAAFgkxwAAAIBFcgwAAABYJMcAAACARXIMAAAAWCTHAAAAgEVyXFsg89Gd3N1NZWnHAAAA4Lq0khwHwVKmo1H4DMFoGMl0vtR0sqZgLqPdtIlB5zld1p4LyuoxHEYypyqvi8Z7yglbTYEsp6PU9jEaab013iby84n2U/bt3Ul01cC2WK6tOFnL6W5eo2ylV+4v2aaOc2L8TolJVax7Rj+KfpboOb5m0F1Ms21Ay851HvH04Tz078pZ6JsaurAsbV/rYVvzCcqmwRUVDeYjGc7W+soRx32QB/mUxcL8rVxftq/j6HUVs0EMZ7J2HHEfHuzII+bTKXPQG8ps7Yq/fZXvXptChfUY+yGPr0+Xud45erJ1N5GF48lm9SQDOzaprD3eiv12Z1S3yVuvq/22qy/jbeNT9y/raL/lbVbyVNTIcmy7DPd1v+T3472O+5L39zf5/PFbVk8mApoczP/I+79wgpzPxULWBfEiRkZbcYol5qccb6MxSszA7i81mJLbXcqjPOsxJ7s44lSlhfgdEZPIgVhbUfzsHxdKd+22DnXPburgU7QOw7e0DqXWNjDVBHeh/2o16n5K91LvOs9whOgxVXJ1qNWuxxP7h/K1jvqQK2g4u9sedca1lBXdeM7W8fztxv4d2nhbjYFO42y91Bsl4vKub0fE/K3Gtv58OrXZeo5ZF1fX6kKV1mPf2Lg7XrpdJTRoulcmbocSbnd12uTt1lXE7KNMHWS3i43vFo4vFtf7CfuiiuXdeoyMduK0F81P4+VF02vCZN+x7P6yyWyJU7lW4ndETIyDsbai+F3usPG0nsK6yoz3i8cXDb6WMWXNNcWi8Y4uIzl+fzzZv9bkOFXmUgezrl05uVvF4GkVXjFJnYkMfsovbeEia/mnZzrHG8ujZkmnzwe4EsGHvK3NVZitbndDOxLlAvl4s1euntPXQgbjZ9GDgcji/fDXiGG961y8vw2vXu4t36NLN9n1gNFSnHaW8sdcfnN/y5O5wI+OtR2/Jq4n1h9v0b/ec/RvbKBVGtWh+bTV7G5GsrsZDYMZLevkt1qBhPs1c0V69WTHIdTxDXmO/Djp+B3I16f5NzufQALTvyjVt8/0cy7oUaPlzPumT2A4zaHyRrCU+TTRh/pgnynzVWpy3maakv7SVesTlw/ivqR2fCf9p45bZ9OfLF6veWorrdvXLL/c0Wi+2+CXUzPOfHWt1jMZxuX2nTpv2+BJVtumXy/fso38C4/Zv+Rnrs4Gch9+dfspXwc2sUCPWmvdD/3Kz6Qe3aZfwoNW0XqgrTjFllOzD3HF//bueLei3fg1cU2xjupQCvcRUR1KdR3qe2HKVETnacNgikV03Gpbr6vGrekoObYbiobi/uhKN0nUf7bvTXqDC3T8cGKONK54vi++74nrrGUxG5Z2xF+8jKJpHFdc19H2V1Z+KdPhRGamk09Y1tWyC5kM9/2Z0qK+TpPZIurrq+XD+a91/hOdf0lSt1sfW95cHY/Ka/I5nIUbe7Ts6s91nCPXeXInURVqebPKO3Z+YUg8jYfGxHP1I5l6S998tJxGy02Vk7fdBj9+juIZzl7rP4qvDlxtwzGCr+hg8XBvjgM5wx/Rtnfom6lNuEPTQ8vGnLg2v/l4+WemSzEXt4r70N+8luIUsicijvdcq9/k59dSlks7BG3uZ29Im/FTtWPSMNYXTT9mVIdhzpoz/BH9e8q36DYMmqHhINu94qAGRUv7HpXa9VHOD47OI9d7aKPjciNL+qnG/Z2yfQXjZWbKx+ue7bO0+0yZ/p3ln7Wkv3TJ+uznn1l2yXoW2pV1tprwpgdvv35trXMsnl9udvH67N6w/TYPfhb6HNdTrx/8TddVrg2mlbbdlH0/bzM4rrfVk7atnsRt9SQxGl85g3i7Ko/TTcfIaCVORsE+xu6/yvoch/FLDbr/LNrRKfM+CrQVv0YxaRBry7yn/7/MYaPrbT5rSb/iuD9yti9xdoj3VZ7Or+y9sj7Fh96/tCGKZzfav3KsZ3L/hZdYj/iaI3kVMxohD48Fd6cOdFxu5NCeFf0rPCvK9RWM+0Wnysf9plz5nfmeYfD0N+rzk7Ivn/+sY3kOJ1jL20f+zDe7PoOfv6LPrC0/dZdt4XoeYK4ALxbp4e3LXt1qb50jdn6OK4/DQAI9y98Nci8PZnaf8bKt9Zt8VPdTAS6QG/X1fn2Sp/FYxuMneV1tDvanDOYvYTehq7i6demWf8Jv+GpdoQ+7KKWPtpvwW6vo2zp6cn2DJjFpEusboqlESKtLpnOtJq2zuf5rHg1X/O03irScHJsuCebrQ3PD0GvzA8HDb3l9fdVhJauNr4ci8zV/2bMNTb/jucynU5mGw5+wY/lp4n5TPzTVrqO6/MB2ElrX+R5koImkfXmyolPL3SPRWlznkJ1f2IViKMPUMNk9giYykKe/UReY2WQY9XFu8jxs4Jvlu4nF/SkX8l64o7I3CxWccKNtevwJu6r5cmz304Ge8Kx8N3y9eJmzb7oAxTE5PdbXSs8v9IRCD/F60r6YiUwmmhS/aXrlaXWZE3kd6uU3t63F5Nj0O41upHL9Fm4YGsRXMRfyku1vG97IpsnXZCazxNXRVB6G83I88Tcb2RQNyWcV65b7uoquBoQnP7OJDM3NfRyF0IX4pDP77YUV9SU+dOPwCTcULd/DfaK4j1w1rtJCnHZX6D/f7QUTO7yEPTll/fYn/Dt9I3GB4Q+TP6CJVrazCpmYtBbrS6IHSbubKanD6N86dWiebrFamT4HdtDXr+ZpFCYMuhBO0w9rKTneP4Db9betnckNnn5rAqXxnP1JXD3WZb2YRNjRZSU71divN09S3TUjr7p8ED1qQ5yj9whdaHud9/MzfV0GRUNUMMVcDYiS5DDCMvvTp70Y+qOqvS+jxx7p0eLQjcPlNxSVPVHHiPZV5j0e33ZIO3Ey1utEdzIzhD9CYd6I/n7r4pEJN6+9+DVxbbG2u5nCY3NUh0XfXtWkh1gzCz1PRw0tJMfJxHhTnRgH9qchp3W/So+fc5z8yjLuFvBLnsfJVqLj7avj7b8iTV+tNo8ps0/OSCkrr4L469QTHv/UibbXeSA/w07RBfMzwv7H9nWBwfgxPAFKq07ggfrK22d89Sl1VbdkHxV3N8p91W77PRY+wqrqPWScHifzzP1UV7J4sF/JO/YOpaJfTtvT49l/0ZNFnF8/da1QTzvbWbF8TNqJ9eWJ+wvrbiZFq8vWocmKLK248CemD/0stGHKTvRfDRHn6TVpA6qlrKi2xfA9cTJPRyh4SkJ8J6lGOH3XdtWdrvE0iffiZZq7xn3fD38VJ5y+aN6ld6+W3OmfuFvWsZ8p+tvRvwvK61/aXsPy+6dE2KdBmHlkl1u6PnY+uTqo90SC0IE7hvfaWufYfn7JO/k9O8/ddOH6aT3auCXv9s+ucrpdmWnSBcx7t2mjdRO1y1TbjMdlf61S3W5dxZLt3daTbXdl+4v89pZ8YoXdZnTbif8u2jTiNnxwc1SmHNqIU4HC/ZcuS+ftpJ7ss98HanaV244M8x7KnBq/42KScuBYZd7T/1/0sK9Dfa37kH0dZp4iEf9qXmb8br9jps1MX/QEC1M+LrvLfeJxnmid56e5lMGsa1dqz7l4JZIHjJIh2aATyVuq6VYmdfEykgcgHZfcaMzByjdJg3ldvBHmN5aKpHMTbaTx/MNkTicvnH8oWp+4YYXT6M7BMxNlla6P3bHk6qBiPbNqJ8dGG+ucZOo/PT+zg0zPr06ZWCYGmWWbcbcpcQAqHPLtxIy/ebpNZ/cZZrvOtbyyfVQo337jfUNOPJ86B3RFjKxW4pRRsv/ahCfnyWXpYBKzwoBGTBlUODF+x8Qk5QqSY/NINy/MNfaDSVZzSaqWi+ow/Z75qenoQt6B6e1QfTzJJOQXNpj168qd+Z8u4CDzwPuaRYHO0R7ro64uHzHqB+LUb1H87B/oPQ1nZ9tj+885BgAAAHqK5BgAAACwSI4BAAAAi+QYAAAAsEiOAQAAAOvu8/Oz1q1+Dw/RQ/ABAACA76Y5rH3VLh7lhl6iPdZHXV0+YtQPxKnfiN916TKedKsAAAAALJJjAAAAwCI5BgAAACySYwAAAMAiOQYAAAAskmMAAADAIjkGAAAALJJjoHcCWU5HMrq7C5/zaIbRaCrLwL6NAi3UWbCUuc4jnj6cx3Spcz5gOd0tdzQnSNWIU78RP1yJbU0NigKdu932uNl6joSfXxxn67ru1tV/w7/F2XobWyyBbbd5neX5W9eWd1xv6/v+1nPtPBxPl1AmsWwdnJKFmfdAnPqN+OG8uoxn7TnTqHBJbrU9bjx7oHB9Oyay8d3C8catb7vH1FmW70YH3WzReHzZwThatiYGXrQsDtrliFO/ET+cW5fxrD1nGhUuyW22x/jqSNFVmPg9d5s9BN32tntcnaXZq1lFV6423tYx7xUe+O105j2bIHDQLkOc+o344fy6jCd9joHe2Mi/tf7j/JKfg2jM3kDuH8y/n/JFd7uEFuos+NISJQb3Es3iK9cncjmdyEJc8V/HdgzKEad+I364LiTHQF/EB4+Hez3c5A1/OPr/tfzbRH9DdV5nQ4lm8U/Tg4RgLi8LzRW8Z+GQXQNx6jfihytDcgwAVQY/5Vd4YH6Tj6orXzuBzP+bydrx5O9TUaqAThCnfiN+uCAkxwBQaSA/o6O2zIYjmc6XslwuZT43j44aysx8nZy0/BOOc38/FV5FQ1eIU78RP1wOkmMAOGDwtJKN74rjrGUxm8hkMpHZ26c8eJ645nju/JBhWHIp08lCj9i+0AXy/IhTvxE/XAqSY6AvKm5KMTbRHTHyIzp6wGixzgbjV1mtwif8RMNqJa9P9+ZC166vZTB/ET1ki/P5LtPpdD+8RLcard/+hH/Pl+GfiBGnfiN+uDba+GppUBTo3G22x6pHItnHGfEot4zj6qw2++io+AlTu2e9Hhiyj5oy424bceo34ofz6zKetedMo8IludX2GB8Usjv93cGi4Dmgt77tNqqzxPNU06ULxGUrf7nL4vmrBxGnfiN+OLcu41l7zjQqXJLbbY/xVRhzsHDtT7Tav0uuzLDtNqgze3DNjo9+ocv+JG5q+qIfPSjAQbsG4tRvxA/n1WU8a8+ZRoVLctPtceNvPddejQkHZ+u45VdV2HZV3ToruaJlfgLX2R2o4+lrXPWKcdCuhzj1G/HDGXUZzzvzP13AQXd3d2Yt7F/A96I91kddXT5i1A/Eqd+I33XpMp48rQIAAACwSI4BAAAAi+QYAAAAsEiOAQAAAIvkGAAAALDuPj8/a93q9/DwwF2euBjmLlUAAJogj7keJg/QHNb+1S4e5YZeoj3WR11dPmLUD8Sp34jfdekynnSrAAAAACySYwAAAMAiOQYAAAAskmMAAADAIjkGAAAALJJjAAAAwCI5BgAAAKyTk+MgWMp0NAqfNxcNI5nOlxLY9ysFcxmZaUbz4vLLaTTP6dKOSNDlzqejaPrEskejqcyXmbnFy8kOut7TbFmgL7RdT0emLU+lYAtBSqC7k/T+wuwram/+ZfuQcKiof2LUEHHqN+J3uhPr0CjIjwpzI8OWjcuFZTXnarK4q7StqbCo74bjRZyt47pb13Xs3zq4vi1UzXej8o63sWNi/ta1886+5SeX45jl2sHZj08tfuNtnbCssy+bmEd+2ZfAfn7H217i2n03E7dbtvES24C42lrK3XpdaW1tPcfWVbwP2O0r8vuXQnYf4iT3N7vBL9xGiVFTxKnfiN/pWqjDOHfQ8o7rbX3f3/qeG+VAOqRTs3xZL86NepB7dBnP2nMuWgnTKB0v02DjRPRAI90pKR83+GziGifTJnB+YeQ2242feS9eRrpVNF/XsyI5rtLlRnHZ9jtPs+1FrzmgV9kdPDPb/yY+uc/uF4rYfUWdosToOMSp34jf6dqow3geuaIFeVCcT2XLll+0vCxmHbtyUreKwdNKVk9jGdi/Q4Of8ksjIPIpX3Wuyw+e5K+2apGFTHbdJ5byZ7bWkxlP/j4l5h7M5WVhXrjir55knFpwbCCDcdl7GU3XFfhuwYe8rR3RfZZue0M7EuUC+XjTfYlonT2Po1HWYPws0a7nvd2vYonREYhTvxG/07VTh5t/0Tx+HKySpbybfErzrMziZPzs6RxE1v820YgbdBE35A2e/trAv8hck9TldKKpsqbAv59Siffyz0xM2F3/VTKxPNGD3OeS6UCW82m6/1NlH+Um5fNlR6P5rtEvp2ZcVAeynskwLlfU9xq3RU8mV9uVJM8ZUWUj0bHil/zM1dlA7h/Mvy2fHBOjIxCnfiN+p2unDoc/wrRW3j7SBYOPtzB/cuKsOfjSuZUY3GtWpD6/NFu5Te0nx8s/Yi76ambboNEO5Om3q/+uZfbfSCZhZuzLayoDDuQrjKQrj21lxuGZp/7r/JD0SVYg89FQJrOFrB1HXNfVwRFnvZbFZBh2Vk9rVn45jcqK64nv++J75rO/7Rr9+FnH+dGZmziueKaMGbKndwCqxQeAh3vdy+TFB5K6F0g+v5ayXNohuNXDRgeIU78Rv9O1VIfxxcb1zOQe87D+lvORDE1ipnlV6tv4UkOJFvdPU/YbZbtXHFRadONHHb59L9GR+7g+vLv+xIUdz+OO45l57/oNJ4fM9HEZ0085XNdEB3Vd1+yyyvr97NchPf9m5W0/qYN9ielzXMXUN+I+d/STLFXQzy6ptH9eVuF+xgzO1s3vrBKIUS3Eqd+I3+naqsPQJv3gAh3y/YfjOivKt+rV53frMp6nP8rt40Umk4kOM5ktzGVYreqHH/pG+LKB+MqwUf8M01z+/xVeqY0GR1tX6fTrmV1XHcxV3nDcp/xLff0Q9/txxU9fulZjedYWY+a//8qiaXlr/SYfjZ7NAuDbhF/hhjcw74ZN+O3OWhazodDj6UIQp34jfu0IPuT90+QljuZEYVKk6c9/MjX9VncG8jO86Wots2H0CF5zpX4edvkcRj0AbtjJybG5KW/fkDfakF3RViwTrexUHA4I5v+FwXBMgqt/L15Knn2cM5an11d5tcPvsKNMCddPrKsOG188J9roRruVjfv9ZLtaRAZRx59ER/Wm5Qfy9NcTV5c7mwyjfsl1nwsN4GKYG39XZn+n6u+vcG7Eqd+IX0Pm9yGGM1mIJ/5mJauV5miJXCd575LJ30zO5oTvRRcOZ2+f8uCZHEULlOQ1t6DlPsfmSRGvtiFr8ven7mmefTqFuPJbE9zw6RXrmfyXyq7H8hhuHwt5b+vscaCJ9crXpZrF/Wn3Ttoqenb8uorOiN3wjHgiw7tmJxMAajhwY0n9O7tLDH+EJ/M4EXHqN+J3ulbqcCnT6Kat9BO9wlxnk3rwQSzM2TQf2V001GT69enepHCl/Z9vQbdPq6h5p+Pu6RT2KRSDp9+FCes4yo47Pnus7oge2L4fuzs+G5ffM2fEUZLc9GQCQD1V26d9lJEekvJPq8F5Ead+I36na6EO45v6Cq/4xk+8qGH5HuVkrT39oH9OSI7NExpGBT9HGGi9hlFMn3XEPws5zXQhiJ9dnHrWXtxXN/nsY6VnOFEeOZOhefRZGxmybQT7xhQ3oIW8ZC/lBvEVbkd+7Z610rR83mD8GJ4MpFUn3QDqiPvV5bfPYP4SbfvuY3hSHirbTxXSfeB/0eMlnV8/9/s6HIE49RvxO10LdRhffS7MG+L7ug4l2Dpfc/W54PnHN2VbU75ofDdjdLdj+DOHOmho7bjMXY67n5pOjq9zt2T27szkcnWIf2LRdRLLLntaxX49wyGx/unlx0+ZSE6zv/Oz/Keua5QP1yXxs46+t1uP7F2oeiJg5xnNz6l3m+pNMPVym8xdyLb96hC1edM27LjsL1aq262rWHL7tPW02/br7Kd0ei3vpPYfiTvBc0+UIUbHIU79RvxOd2odmhTD1pmpR62D3dO57HyS+UiUYyTqe7esopzs8ph17UrtORevhDbORKWHgw1Irl4TjymJ3zv4k4jx+wWPMzM/EW1+czzaIOxg/jZJZ65w+eNhCsuHNAk3CWmivPm9d6+4sKpb3mzQ2fUum2+0s9jNrw+t9UxMfdymxM6zcMjsQJUZf/M2/v5Rk+EQbfu5LapgP2XE+5v99DqYfV3ZdpsslxuIUSni1G/E73Qn1qFRVI9F+YjJwVL5W7is/PwulVnnrtyZ/+kCDjK/0FazKNA52mN91NXlI0b9QJz6jfhdly7j2e0NeQAAAECPkBwDAAAAFskxAAAAYJEcAwAAABbJMQAAAGDdfX5+1rrV7+Gh7k+rAAAAAN3SHNa+alftR7n93//9n/zvf/+zfwHfi/ZYH3V1+YhRPxCnfiN+16XLeNKtAgAAALBIjgEAAACL5BgAAACwSI4BAAAAi+QYAAAAsEiOAQAAAIvkGAAAALBIjgEAAACL5BgAAACwSI4BAAAAi+QYAAAAsEiOAQAAAIvkGAAAAAiJ/H/XyUlheAsxmwAAAABJRU5ErkJggg==)"
      ],
      "metadata": {
        "id": "39plRRj8cnJb"
      }
    },
    {
      "cell_type": "markdown",
      "source": [
        "# BRIEF:\n",
        "\n",
        "* Before optimizing parameters, the Random Forest model performed the best, achieving high levels of accuracy,predictions for class 0.\n",
        "\n",
        "* XGBoost performed best in terms of recall for class 1 and is also a good model choice.\n",
        "\n",
        "* Logistic Regression performed comparatively worse than the other models,Therefore, this model is not considered.\n",
        "\n",
        "Now, we will tune the parameters of the Random Forest and XGBoost to ensure their parameters are as optimal as possible. Parameter tuning is a lengthy process, and we will select commonly used parameter values for optimization. These parameter values may not necessarily be optimal, but they will help us determine a predictive model.\n",
        "\n",
        "\n",
        "\n",
        "\n",
        "\n",
        "\n"
      ],
      "metadata": {
        "id": "fWqD0IPThBns"
      }
    },
    {
      "cell_type": "markdown",
      "source": [
        "**Parameter optimization**"
      ],
      "metadata": {
        "id": "RNb49I21i3Su"
      }
    },
    {
      "cell_type": "code",
      "source": [
        "from sklearn.model_selection import GridSearchCV\n",
        "from sklearn.ensemble import RandomForestClassifier\n",
        "\n",
        "# Define a simplified parameter grid\n",
        "param_grid = {\n",
        "    'n_estimators': [10, 50],  # Fewer values to test for the number of decision trees\n",
        "    'max_depth': [None, 10],   # Fewer values to test for the maximum depth\n",
        "}\n",
        "\n",
        "# Create a Random Forest classifier\n",
        "rf = RandomForestClassifier()\n",
        "\n",
        "# Perform grid search with cross-validation\n",
        "grid_search = GridSearchCV(estimator=rf, param_grid=param_grid, cv=5, n_jobs=-1, verbose=1)\n",
        "grid_search.fit(new_x_train, new_y_train)\n",
        "\n",
        "print('Best parameters found:', grid_search.best_params_)\n"
      ],
      "metadata": {
        "colab": {
          "base_uri": "https://localhost:8080/"
        },
        "id": "9X8sV3AicgeI",
        "outputId": "567a1589-269c-4f0f-b9ed-26f3f6d6dbc7"
      },
      "execution_count": null,
      "outputs": [
        {
          "output_type": "stream",
          "name": "stdout",
          "text": [
            "Fitting 5 folds for each of 4 candidates, totalling 20 fits\n",
            "Best parameters found: {'max_depth': None, 'n_estimators': 50}\n"
          ]
        }
      ]
    },
    {
      "cell_type": "code",
      "source": [
        "best_rf = grid_search.best_estimator_  # Retrieve the best estimator found during grid search\n",
        "y_pred_orf = best_rf.predict(x_test)   # Make predictions on the test data using the best estimator\n",
        "class_report_orf = classification_report(y_test, y_pred_orf)  # Generate classification report\n",
        "print(class_report_orf)  # Print the classification report\n"
      ],
      "metadata": {
        "colab": {
          "base_uri": "https://localhost:8080/"
        },
        "id": "EknuMUuEkNut",
        "outputId": "a9296172-3b42-4bea-b927-0b938a6c3368"
      },
      "execution_count": null,
      "outputs": [
        {
          "output_type": "stream",
          "name": "stdout",
          "text": [
            "              precision    recall  f1-score   support\n",
            "\n",
            "           0       0.93      0.97      0.95       412\n",
            "           1       0.69      0.47      0.56        53\n",
            "\n",
            "    accuracy                           0.92       465\n",
            "   macro avg       0.81      0.72      0.76       465\n",
            "weighted avg       0.91      0.92      0.91       465\n",
            "\n"
          ]
        }
      ]
    },
    {
      "cell_type": "code",
      "source": [
        "#xgboost\n",
        "from sklearn.model_selection import GridSearchCV\n",
        "from xgboost import XGBClassifier\n",
        "\n",
        "# Define the simplified parameter grid\n",
        "param_grid = {\n",
        "    'learning_rate': [0.01, 0.1],  # Fewer values to test for the learning rate\n",
        "    'n_estimators': [100, 500],    # Fewer values to test for the number of estimators\n",
        "    'max_depth': [3, 10],          # Fewer values to test for the maximum depth\n",
        "}\n",
        "\n",
        "# Create an XGBoost classifier\n",
        "xgb = XGBClassifier()\n",
        "\n",
        "# Perform grid search with cross-validation\n",
        "grid_search = GridSearchCV(estimator=xgb, param_grid=param_grid, cv=5, n_jobs=-1, verbose=1)\n",
        "grid_search.fit(new_x_train, new_y_train)\n",
        "\n",
        "print('Best parameters found:', grid_search.best_params_)\n"
      ],
      "metadata": {
        "colab": {
          "base_uri": "https://localhost:8080/"
        },
        "id": "J7vbHV4okA19",
        "outputId": "16e3115b-04e9-4125-c662-807bd15a9911"
      },
      "execution_count": null,
      "outputs": [
        {
          "output_type": "stream",
          "name": "stdout",
          "text": [
            "Fitting 5 folds for each of 8 candidates, totalling 40 fits\n",
            "Best parameters found: {'learning_rate': 0.1, 'max_depth': 10, 'n_estimators': 500}\n"
          ]
        }
      ]
    },
    {
      "cell_type": "code",
      "source": [
        "best_xgb = grid_search.best_estimator_\n",
        "y_pred_oxgb = best_xgb.predict(x_test)\n",
        "class_report_oxgb = classification_report(y_test, y_pred_oxgb)\n",
        "print(class_report_oxgb)"
      ],
      "metadata": {
        "colab": {
          "base_uri": "https://localhost:8080/"
        },
        "id": "YM3_LMMZmo8B",
        "outputId": "a520a4df-fd40-4140-a4ec-7e83783329ac"
      },
      "execution_count": null,
      "outputs": [
        {
          "output_type": "stream",
          "name": "stdout",
          "text": [
            "              precision    recall  f1-score   support\n",
            "\n",
            "           0       0.94      0.95      0.94       412\n",
            "           1       0.55      0.51      0.53        53\n",
            "\n",
            "    accuracy                           0.90       465\n",
            "   macro avg       0.74      0.73      0.74       465\n",
            "weighted avg       0.89      0.90      0.89       465\n",
            "\n"
          ]
        }
      ]
    },
    {
      "cell_type": "markdown",
      "source": [
        "**After Parameter Tunning**\n",
        "\n",
        "* FOR RANDOM FOREST MODEL ACCURACY IS 0.91.\n",
        "* FOR XGBOOST MODEL ACCURACY IS 0.90"
      ],
      "metadata": {
        "id": "qmomoMdbmv8F"
      }
    },
    {
      "cell_type": "markdown",
      "source": [
        "# **feature_importances**\n",
        "\n",
        "\n",
        "\"I have chosen the optimized Random Forest model, which appears to be excellent overall. Of course, the optimized XGBoost model could also be selected, as it is almost as excellent as the Random Forest model after optimization.\""
      ],
      "metadata": {
        "id": "zTu-NjwfnvEP"
      }
    },
    {
      "cell_type": "code",
      "source": [
        "rf_feature_importance = best_rf.feature_importances_  # Get feature importances from the best Random Forest model\n",
        "feature_names = new_x_train.columns  # we have column names for features\n",
        "rf_feature_df = pd.DataFrame({\n",
        "    'Feature': feature_names,\n",
        "    'Importance': rf_feature_importance\n",
        "})\n",
        "sorted_rf_feature_df = rf_feature_df.sort_values(by='Importance', ascending=False).head()  # Select the top five most important features\n",
        "\n",
        "print(sorted_rf_feature_df)\n"
      ],
      "metadata": {
        "colab": {
          "base_uri": "https://localhost:8080/"
        },
        "id": "eTItdUyZnJeE",
        "outputId": "081570d8-191d-4eee-acda-7546488e02e5"
      },
      "execution_count": null,
      "outputs": [
        {
          "output_type": "stream",
          "name": "stdout",
          "text": [
            "           Feature  Importance\n",
            "11             Age    0.161474\n",
            "4    Annual_income    0.158824\n",
            "13  Employed_years    0.117709\n",
            "5        EDUCATION    0.043104\n",
            "10  Family_Members    0.040172\n"
          ]
        }
      ]
    },
    {
      "cell_type": "markdown",
      "source": [
        "In the Random Forest model, the most important features are: income > age > years of work > family size > education."
      ],
      "metadata": {
        "id": "rTd6Y_wFoWVH"
      }
    },
    {
      "cell_type": "markdown",
      "source": [
        "# **SUMMARY**"
      ],
      "metadata": {
        "id": "PeJM5nDBoIUc"
      }
    },
    {
      "cell_type": "markdown",
      "source": [
        "Summary:\n",
        "\n",
        "* We performed preliminary data preprocessing, handling missing values and outliers, and constructed new features such as retirement status, age, and years of work.\n",
        "\n",
        "* We explored the data and visualized the results. For this dataset, the majority of credit card applications were approved, with only a small portion being rejected.\n",
        "\n",
        "* Income distribution was right-skewed, with most people having low to moderate incomes but some with high incomes.\n",
        "\n",
        "* Age distribution was close to normal, with fewer people around 20 years old and 70 years old.\n",
        "\n",
        "* There were more males than females.\n",
        "\n",
        "* Most people had a working income type, followed by pensioners and commercial associates.\n",
        "\n",
        "* The majority had a secondary education level, with fewer having higher or lower education levels.\n",
        "\n",
        "We created profiles for approved and rejected applicants and conducted differential analysis. We found that among approved applicants, the proportion of females was slightly higher, whereas among rejected applicants, the proportion of females was lower than among approved applicants, indicating that male users were relatively more likely to be rejected.\n",
        "\n",
        "* Applicants with a bachelor's degree had no credit card rejections.\n",
        "\n",
        "We built multiple models and optimized their parameters. Because the optimized Random Forest model performed well overall, we ultimately chose it.\n",
        "\n",
        "Through this model, we found that the most important features were income > age > years of work > family size > education.\n",
        "\n",
        "* This can help the bank's future work, such as prioritizing these features and using the model to predict whether users can be approved for applications, as the optimized Random Forest model achieved an accuracy rate of up to 91%.\n",
        "\n",
        "\n",
        "\n",
        "\n",
        "\n"
      ],
      "metadata": {
        "id": "jBbDGU5_o0aL"
      }
    },
    {
      "cell_type": "markdown",
      "source": [
        "# **SQL QUERIES**"
      ],
      "metadata": {
        "id": "vt2-b7NLroi0"
      }
    },
    {
      "cell_type": "markdown",
      "source": [
        "\n",
        "\n",
        "---\n",
        "\n"
      ],
      "metadata": {
        "id": "zc9x_K99pnze"
      }
    },
    {
      "cell_type": "code",
      "source": [
        "import duckdb\n",
        "conn=duckdb.connect()\n",
        "conn.register('df',df)\n"
      ],
      "metadata": {
        "colab": {
          "base_uri": "https://localhost:8080/"
        },
        "id": "N38-FkLlrVGJ",
        "outputId": "5461baa6-8d8e-46d4-c987-85e810d9d1ea"
      },
      "execution_count": null,
      "outputs": [
        {
          "output_type": "execute_result",
          "data": {
            "text/plain": [
              "<duckdb.duckdb.DuckDBPyConnection at 0x78b1e095b1b0>"
            ]
          },
          "metadata": {},
          "execution_count": 60
        }
      ]
    },
    {
      "cell_type": "markdown",
      "source": [
        "1. Group the customers based on their income type and find the average of their annual income."
      ],
      "metadata": {
        "id": "x_KCgjHaaxHH"
      }
    },
    {
      "cell_type": "code",
      "source": [
        "query = \"\"\"\n",
        "    SELECT Type_Income, AVG(Annual_income) AS average_income\n",
        "    FROM df\n",
        "    GROUP BY Type_Income;\n",
        "\"\"\"\n",
        "conn.execute(query)\n",
        "\n",
        "# Fetch the results\n",
        "results = conn.fetchall()\n",
        "\n",
        "# Print the results\n",
        "for row in results:\n",
        "    print(\"Income Type:\", row[0])\n",
        "    print(\"Average Annual Income:\", row[1])\n",
        "    print()\n"
      ],
      "metadata": {
        "colab": {
          "base_uri": "https://localhost:8080/"
        },
        "id": "BRDMR8Guslvd",
        "outputId": "8eb76f10-dc13-4bfd-f217-34dc1988f37c"
      },
      "execution_count": null,
      "outputs": [
        {
          "output_type": "stream",
          "name": "stdout",
          "text": [
            "Income Type: Pensioner\n",
            "Average Annual Income: 155343.4962825279\n",
            "\n",
            "Income Type: Working\n",
            "Average Annual Income: 180848.2105263158\n",
            "\n",
            "Income Type: State servant\n",
            "Average Annual Income: 211422.41379310345\n",
            "\n",
            "Income Type: Commercial associate\n",
            "Average Annual Income: 233107.39726027398\n",
            "\n"
          ]
        }
      ]
    },
    {
      "cell_type": "code",
      "source": [
        "df.head()"
      ],
      "metadata": {
        "colab": {
          "base_uri": "https://localhost:8080/",
          "height": 313
        },
        "id": "NjK4VaxJchE2",
        "outputId": "71e391a9-2de3-4e59-b661-b5c7d6ec99d3"
      },
      "execution_count": null,
      "outputs": [
        {
          "output_type": "execute_result",
          "data": {
            "text/plain": [
              "   GENDER  Car_Owner  Propert_Owner  CHILDREN  Annual_income  \\\n",
              "0       0          1              1         0       180000.0   \n",
              "1       1          1              0         0       315000.0   \n",
              "2       1          1              0         0       315000.0   \n",
              "3       1          1              0         0       166500.0   \n",
              "4       1          1              0         0       315000.0   \n",
              "\n",
              "            Type_Income  EDUCATION Marital_status       Housing_type  \\\n",
              "0             Pensioner          3        Married  House / apartment   \n",
              "1  Commercial associate          3        Married  House / apartment   \n",
              "2  Commercial associate          3        Married  House / apartment   \n",
              "3  Commercial associate          3        Married  House / apartment   \n",
              "4  Commercial associate          3        Married  House / apartment   \n",
              "\n",
              "   Mobile_phone  Work_Phone  Phone  EMAIL_ID Type_Occupation  Family_Members  \\\n",
              "0             1           0      0         0       Pensioner               2   \n",
              "1             1           1      1         0         Unknown               2   \n",
              "2             1           1      1         0         Unknown               2   \n",
              "3             1           1      1         0         Unknown               2   \n",
              "4             1           1      1         0         Unknown               2   \n",
              "\n",
              "   label  Age  Is_Retired  Employed_years  \n",
              "0      1   51           1               0  \n",
              "1      1   37           0               1  \n",
              "2      1   42           0               1  \n",
              "3      1   37           0               1  \n",
              "4      1   37           0               1  "
            ],
            "text/html": [
              "\n",
              "  <div id=\"df-8a41a0b4-29f7-421f-818e-aede168c6a05\" class=\"colab-df-container\">\n",
              "    <div>\n",
              "<style scoped>\n",
              "    .dataframe tbody tr th:only-of-type {\n",
              "        vertical-align: middle;\n",
              "    }\n",
              "\n",
              "    .dataframe tbody tr th {\n",
              "        vertical-align: top;\n",
              "    }\n",
              "\n",
              "    .dataframe thead th {\n",
              "        text-align: right;\n",
              "    }\n",
              "</style>\n",
              "<table border=\"1\" class=\"dataframe\">\n",
              "  <thead>\n",
              "    <tr style=\"text-align: right;\">\n",
              "      <th></th>\n",
              "      <th>GENDER</th>\n",
              "      <th>Car_Owner</th>\n",
              "      <th>Propert_Owner</th>\n",
              "      <th>CHILDREN</th>\n",
              "      <th>Annual_income</th>\n",
              "      <th>Type_Income</th>\n",
              "      <th>EDUCATION</th>\n",
              "      <th>Marital_status</th>\n",
              "      <th>Housing_type</th>\n",
              "      <th>Mobile_phone</th>\n",
              "      <th>Work_Phone</th>\n",
              "      <th>Phone</th>\n",
              "      <th>EMAIL_ID</th>\n",
              "      <th>Type_Occupation</th>\n",
              "      <th>Family_Members</th>\n",
              "      <th>label</th>\n",
              "      <th>Age</th>\n",
              "      <th>Is_Retired</th>\n",
              "      <th>Employed_years</th>\n",
              "    </tr>\n",
              "  </thead>\n",
              "  <tbody>\n",
              "    <tr>\n",
              "      <th>0</th>\n",
              "      <td>0</td>\n",
              "      <td>1</td>\n",
              "      <td>1</td>\n",
              "      <td>0</td>\n",
              "      <td>180000.0</td>\n",
              "      <td>Pensioner</td>\n",
              "      <td>3</td>\n",
              "      <td>Married</td>\n",
              "      <td>House / apartment</td>\n",
              "      <td>1</td>\n",
              "      <td>0</td>\n",
              "      <td>0</td>\n",
              "      <td>0</td>\n",
              "      <td>Pensioner</td>\n",
              "      <td>2</td>\n",
              "      <td>1</td>\n",
              "      <td>51</td>\n",
              "      <td>1</td>\n",
              "      <td>0</td>\n",
              "    </tr>\n",
              "    <tr>\n",
              "      <th>1</th>\n",
              "      <td>1</td>\n",
              "      <td>1</td>\n",
              "      <td>0</td>\n",
              "      <td>0</td>\n",
              "      <td>315000.0</td>\n",
              "      <td>Commercial associate</td>\n",
              "      <td>3</td>\n",
              "      <td>Married</td>\n",
              "      <td>House / apartment</td>\n",
              "      <td>1</td>\n",
              "      <td>1</td>\n",
              "      <td>1</td>\n",
              "      <td>0</td>\n",
              "      <td>Unknown</td>\n",
              "      <td>2</td>\n",
              "      <td>1</td>\n",
              "      <td>37</td>\n",
              "      <td>0</td>\n",
              "      <td>1</td>\n",
              "    </tr>\n",
              "    <tr>\n",
              "      <th>2</th>\n",
              "      <td>1</td>\n",
              "      <td>1</td>\n",
              "      <td>0</td>\n",
              "      <td>0</td>\n",
              "      <td>315000.0</td>\n",
              "      <td>Commercial associate</td>\n",
              "      <td>3</td>\n",
              "      <td>Married</td>\n",
              "      <td>House / apartment</td>\n",
              "      <td>1</td>\n",
              "      <td>1</td>\n",
              "      <td>1</td>\n",
              "      <td>0</td>\n",
              "      <td>Unknown</td>\n",
              "      <td>2</td>\n",
              "      <td>1</td>\n",
              "      <td>42</td>\n",
              "      <td>0</td>\n",
              "      <td>1</td>\n",
              "    </tr>\n",
              "    <tr>\n",
              "      <th>3</th>\n",
              "      <td>1</td>\n",
              "      <td>1</td>\n",
              "      <td>0</td>\n",
              "      <td>0</td>\n",
              "      <td>166500.0</td>\n",
              "      <td>Commercial associate</td>\n",
              "      <td>3</td>\n",
              "      <td>Married</td>\n",
              "      <td>House / apartment</td>\n",
              "      <td>1</td>\n",
              "      <td>1</td>\n",
              "      <td>1</td>\n",
              "      <td>0</td>\n",
              "      <td>Unknown</td>\n",
              "      <td>2</td>\n",
              "      <td>1</td>\n",
              "      <td>37</td>\n",
              "      <td>0</td>\n",
              "      <td>1</td>\n",
              "    </tr>\n",
              "    <tr>\n",
              "      <th>4</th>\n",
              "      <td>1</td>\n",
              "      <td>1</td>\n",
              "      <td>0</td>\n",
              "      <td>0</td>\n",
              "      <td>315000.0</td>\n",
              "      <td>Commercial associate</td>\n",
              "      <td>3</td>\n",
              "      <td>Married</td>\n",
              "      <td>House / apartment</td>\n",
              "      <td>1</td>\n",
              "      <td>1</td>\n",
              "      <td>1</td>\n",
              "      <td>0</td>\n",
              "      <td>Unknown</td>\n",
              "      <td>2</td>\n",
              "      <td>1</td>\n",
              "      <td>37</td>\n",
              "      <td>0</td>\n",
              "      <td>1</td>\n",
              "    </tr>\n",
              "  </tbody>\n",
              "</table>\n",
              "</div>\n",
              "    <div class=\"colab-df-buttons\">\n",
              "\n",
              "  <div class=\"colab-df-container\">\n",
              "    <button class=\"colab-df-convert\" onclick=\"convertToInteractive('df-8a41a0b4-29f7-421f-818e-aede168c6a05')\"\n",
              "            title=\"Convert this dataframe to an interactive table.\"\n",
              "            style=\"display:none;\">\n",
              "\n",
              "  <svg xmlns=\"http://www.w3.org/2000/svg\" height=\"24px\" viewBox=\"0 -960 960 960\">\n",
              "    <path d=\"M120-120v-720h720v720H120Zm60-500h600v-160H180v160Zm220 220h160v-160H400v160Zm0 220h160v-160H400v160ZM180-400h160v-160H180v160Zm440 0h160v-160H620v160ZM180-180h160v-160H180v160Zm440 0h160v-160H620v160Z\"/>\n",
              "  </svg>\n",
              "    </button>\n",
              "\n",
              "  <style>\n",
              "    .colab-df-container {\n",
              "      display:flex;\n",
              "      gap: 12px;\n",
              "    }\n",
              "\n",
              "    .colab-df-convert {\n",
              "      background-color: #E8F0FE;\n",
              "      border: none;\n",
              "      border-radius: 50%;\n",
              "      cursor: pointer;\n",
              "      display: none;\n",
              "      fill: #1967D2;\n",
              "      height: 32px;\n",
              "      padding: 0 0 0 0;\n",
              "      width: 32px;\n",
              "    }\n",
              "\n",
              "    .colab-df-convert:hover {\n",
              "      background-color: #E2EBFA;\n",
              "      box-shadow: 0px 1px 2px rgba(60, 64, 67, 0.3), 0px 1px 3px 1px rgba(60, 64, 67, 0.15);\n",
              "      fill: #174EA6;\n",
              "    }\n",
              "\n",
              "    .colab-df-buttons div {\n",
              "      margin-bottom: 4px;\n",
              "    }\n",
              "\n",
              "    [theme=dark] .colab-df-convert {\n",
              "      background-color: #3B4455;\n",
              "      fill: #D2E3FC;\n",
              "    }\n",
              "\n",
              "    [theme=dark] .colab-df-convert:hover {\n",
              "      background-color: #434B5C;\n",
              "      box-shadow: 0px 1px 3px 1px rgba(0, 0, 0, 0.15);\n",
              "      filter: drop-shadow(0px 1px 2px rgba(0, 0, 0, 0.3));\n",
              "      fill: #FFFFFF;\n",
              "    }\n",
              "  </style>\n",
              "\n",
              "    <script>\n",
              "      const buttonEl =\n",
              "        document.querySelector('#df-8a41a0b4-29f7-421f-818e-aede168c6a05 button.colab-df-convert');\n",
              "      buttonEl.style.display =\n",
              "        google.colab.kernel.accessAllowed ? 'block' : 'none';\n",
              "\n",
              "      async function convertToInteractive(key) {\n",
              "        const element = document.querySelector('#df-8a41a0b4-29f7-421f-818e-aede168c6a05');\n",
              "        const dataTable =\n",
              "          await google.colab.kernel.invokeFunction('convertToInteractive',\n",
              "                                                    [key], {});\n",
              "        if (!dataTable) return;\n",
              "\n",
              "        const docLinkHtml = 'Like what you see? Visit the ' +\n",
              "          '<a target=\"_blank\" href=https://colab.research.google.com/notebooks/data_table.ipynb>data table notebook</a>'\n",
              "          + ' to learn more about interactive tables.';\n",
              "        element.innerHTML = '';\n",
              "        dataTable['output_type'] = 'display_data';\n",
              "        await google.colab.output.renderOutput(dataTable, element);\n",
              "        const docLink = document.createElement('div');\n",
              "        docLink.innerHTML = docLinkHtml;\n",
              "        element.appendChild(docLink);\n",
              "      }\n",
              "    </script>\n",
              "  </div>\n",
              "\n",
              "\n",
              "<div id=\"df-f9ad5ea7-42ec-44b0-b005-24999d258d39\">\n",
              "  <button class=\"colab-df-quickchart\" onclick=\"quickchart('df-f9ad5ea7-42ec-44b0-b005-24999d258d39')\"\n",
              "            title=\"Suggest charts\"\n",
              "            style=\"display:none;\">\n",
              "\n",
              "<svg xmlns=\"http://www.w3.org/2000/svg\" height=\"24px\"viewBox=\"0 0 24 24\"\n",
              "     width=\"24px\">\n",
              "    <g>\n",
              "        <path d=\"M19 3H5c-1.1 0-2 .9-2 2v14c0 1.1.9 2 2 2h14c1.1 0 2-.9 2-2V5c0-1.1-.9-2-2-2zM9 17H7v-7h2v7zm4 0h-2V7h2v10zm4 0h-2v-4h2v4z\"/>\n",
              "    </g>\n",
              "</svg>\n",
              "  </button>\n",
              "\n",
              "<style>\n",
              "  .colab-df-quickchart {\n",
              "      --bg-color: #E8F0FE;\n",
              "      --fill-color: #1967D2;\n",
              "      --hover-bg-color: #E2EBFA;\n",
              "      --hover-fill-color: #174EA6;\n",
              "      --disabled-fill-color: #AAA;\n",
              "      --disabled-bg-color: #DDD;\n",
              "  }\n",
              "\n",
              "  [theme=dark] .colab-df-quickchart {\n",
              "      --bg-color: #3B4455;\n",
              "      --fill-color: #D2E3FC;\n",
              "      --hover-bg-color: #434B5C;\n",
              "      --hover-fill-color: #FFFFFF;\n",
              "      --disabled-bg-color: #3B4455;\n",
              "      --disabled-fill-color: #666;\n",
              "  }\n",
              "\n",
              "  .colab-df-quickchart {\n",
              "    background-color: var(--bg-color);\n",
              "    border: none;\n",
              "    border-radius: 50%;\n",
              "    cursor: pointer;\n",
              "    display: none;\n",
              "    fill: var(--fill-color);\n",
              "    height: 32px;\n",
              "    padding: 0;\n",
              "    width: 32px;\n",
              "  }\n",
              "\n",
              "  .colab-df-quickchart:hover {\n",
              "    background-color: var(--hover-bg-color);\n",
              "    box-shadow: 0 1px 2px rgba(60, 64, 67, 0.3), 0 1px 3px 1px rgba(60, 64, 67, 0.15);\n",
              "    fill: var(--button-hover-fill-color);\n",
              "  }\n",
              "\n",
              "  .colab-df-quickchart-complete:disabled,\n",
              "  .colab-df-quickchart-complete:disabled:hover {\n",
              "    background-color: var(--disabled-bg-color);\n",
              "    fill: var(--disabled-fill-color);\n",
              "    box-shadow: none;\n",
              "  }\n",
              "\n",
              "  .colab-df-spinner {\n",
              "    border: 2px solid var(--fill-color);\n",
              "    border-color: transparent;\n",
              "    border-bottom-color: var(--fill-color);\n",
              "    animation:\n",
              "      spin 1s steps(1) infinite;\n",
              "  }\n",
              "\n",
              "  @keyframes spin {\n",
              "    0% {\n",
              "      border-color: transparent;\n",
              "      border-bottom-color: var(--fill-color);\n",
              "      border-left-color: var(--fill-color);\n",
              "    }\n",
              "    20% {\n",
              "      border-color: transparent;\n",
              "      border-left-color: var(--fill-color);\n",
              "      border-top-color: var(--fill-color);\n",
              "    }\n",
              "    30% {\n",
              "      border-color: transparent;\n",
              "      border-left-color: var(--fill-color);\n",
              "      border-top-color: var(--fill-color);\n",
              "      border-right-color: var(--fill-color);\n",
              "    }\n",
              "    40% {\n",
              "      border-color: transparent;\n",
              "      border-right-color: var(--fill-color);\n",
              "      border-top-color: var(--fill-color);\n",
              "    }\n",
              "    60% {\n",
              "      border-color: transparent;\n",
              "      border-right-color: var(--fill-color);\n",
              "    }\n",
              "    80% {\n",
              "      border-color: transparent;\n",
              "      border-right-color: var(--fill-color);\n",
              "      border-bottom-color: var(--fill-color);\n",
              "    }\n",
              "    90% {\n",
              "      border-color: transparent;\n",
              "      border-bottom-color: var(--fill-color);\n",
              "    }\n",
              "  }\n",
              "</style>\n",
              "\n",
              "  <script>\n",
              "    async function quickchart(key) {\n",
              "      const quickchartButtonEl =\n",
              "        document.querySelector('#' + key + ' button');\n",
              "      quickchartButtonEl.disabled = true;  // To prevent multiple clicks.\n",
              "      quickchartButtonEl.classList.add('colab-df-spinner');\n",
              "      try {\n",
              "        const charts = await google.colab.kernel.invokeFunction(\n",
              "            'suggestCharts', [key], {});\n",
              "      } catch (error) {\n",
              "        console.error('Error during call to suggestCharts:', error);\n",
              "      }\n",
              "      quickchartButtonEl.classList.remove('colab-df-spinner');\n",
              "      quickchartButtonEl.classList.add('colab-df-quickchart-complete');\n",
              "    }\n",
              "    (() => {\n",
              "      let quickchartButtonEl =\n",
              "        document.querySelector('#df-f9ad5ea7-42ec-44b0-b005-24999d258d39 button');\n",
              "      quickchartButtonEl.style.display =\n",
              "        google.colab.kernel.accessAllowed ? 'block' : 'none';\n",
              "    })();\n",
              "  </script>\n",
              "</div>\n",
              "\n",
              "    </div>\n",
              "  </div>\n"
            ]
          },
          "metadata": {},
          "execution_count": 53
        }
      ]
    },
    {
      "cell_type": "markdown",
      "source": [
        "2. Find the female owners of cars and property."
      ],
      "metadata": {
        "id": "x212aaKybDUO"
      }
    },
    {
      "cell_type": "code",
      "source": [
        "# Replace all 'Y' with 1, and all 'N' with 0\n",
        "df.replace({1: 'Y',0: 'N'}, inplace=True)\n",
        "\n",
        "# Replace 'M' with 0, and 'F' with 1 for gender\n",
        "df.replace({0: 'M', 1: 'F'}, inplace=True)\n"
      ],
      "metadata": {
        "id": "eGKSspSKjuLt"
      },
      "execution_count": null,
      "outputs": []
    },
    {
      "cell_type": "code",
      "source": [
        "df.head()"
      ],
      "metadata": {
        "colab": {
          "base_uri": "https://localhost:8080/",
          "height": 313
        },
        "id": "lvuG4ffPkVTW",
        "outputId": "1191addd-7480-4405-93c3-b401368815f1"
      },
      "execution_count": null,
      "outputs": [
        {
          "output_type": "execute_result",
          "data": {
            "text/plain": [
              "   GENDER Car_Owner Propert_Owner CHILDREN  Annual_income  \\\n",
              "0    Male         Y             Y        N       180000.0   \n",
              "1  Female         Y             N        N       315000.0   \n",
              "2  Female         Y             N        N       315000.0   \n",
              "3  Female         Y             N        N       166500.0   \n",
              "4  Female         Y             N        N       315000.0   \n",
              "\n",
              "            Type_Income EDUCATION Marital_status       Housing_type  \\\n",
              "0             Pensioner         3        Married  House / apartment   \n",
              "1  Commercial associate         3        Married  House / apartment   \n",
              "2  Commercial associate         3        Married  House / apartment   \n",
              "3  Commercial associate         3        Married  House / apartment   \n",
              "4  Commercial associate         3        Married  House / apartment   \n",
              "\n",
              "  Mobile_phone Work_Phone Phone EMAIL_ID Type_Occupation Family_Members label  \\\n",
              "0            Y          N     N        N       Pensioner              2     Y   \n",
              "1            Y          Y     Y        N         Unknown              2     Y   \n",
              "2            Y          Y     Y        N         Unknown              2     Y   \n",
              "3            Y          Y     Y        N         Unknown              2     Y   \n",
              "4            Y          Y     Y        N         Unknown              2     Y   \n",
              "\n",
              "   Age Is_Retired Employed_years  \n",
              "0   51          Y              N  \n",
              "1   37          N              Y  \n",
              "2   42          N              Y  \n",
              "3   37          N              Y  \n",
              "4   37          N              Y  "
            ],
            "text/html": [
              "\n",
              "  <div id=\"df-0a750f91-a35e-428c-a680-745da2355943\" class=\"colab-df-container\">\n",
              "    <div>\n",
              "<style scoped>\n",
              "    .dataframe tbody tr th:only-of-type {\n",
              "        vertical-align: middle;\n",
              "    }\n",
              "\n",
              "    .dataframe tbody tr th {\n",
              "        vertical-align: top;\n",
              "    }\n",
              "\n",
              "    .dataframe thead th {\n",
              "        text-align: right;\n",
              "    }\n",
              "</style>\n",
              "<table border=\"1\" class=\"dataframe\">\n",
              "  <thead>\n",
              "    <tr style=\"text-align: right;\">\n",
              "      <th></th>\n",
              "      <th>GENDER</th>\n",
              "      <th>Car_Owner</th>\n",
              "      <th>Propert_Owner</th>\n",
              "      <th>CHILDREN</th>\n",
              "      <th>Annual_income</th>\n",
              "      <th>Type_Income</th>\n",
              "      <th>EDUCATION</th>\n",
              "      <th>Marital_status</th>\n",
              "      <th>Housing_type</th>\n",
              "      <th>Mobile_phone</th>\n",
              "      <th>Work_Phone</th>\n",
              "      <th>Phone</th>\n",
              "      <th>EMAIL_ID</th>\n",
              "      <th>Type_Occupation</th>\n",
              "      <th>Family_Members</th>\n",
              "      <th>label</th>\n",
              "      <th>Age</th>\n",
              "      <th>Is_Retired</th>\n",
              "      <th>Employed_years</th>\n",
              "    </tr>\n",
              "  </thead>\n",
              "  <tbody>\n",
              "    <tr>\n",
              "      <th>0</th>\n",
              "      <td>Male</td>\n",
              "      <td>Y</td>\n",
              "      <td>Y</td>\n",
              "      <td>N</td>\n",
              "      <td>180000.0</td>\n",
              "      <td>Pensioner</td>\n",
              "      <td>3</td>\n",
              "      <td>Married</td>\n",
              "      <td>House / apartment</td>\n",
              "      <td>Y</td>\n",
              "      <td>N</td>\n",
              "      <td>N</td>\n",
              "      <td>N</td>\n",
              "      <td>Pensioner</td>\n",
              "      <td>2</td>\n",
              "      <td>Y</td>\n",
              "      <td>51</td>\n",
              "      <td>Y</td>\n",
              "      <td>N</td>\n",
              "    </tr>\n",
              "    <tr>\n",
              "      <th>1</th>\n",
              "      <td>Female</td>\n",
              "      <td>Y</td>\n",
              "      <td>N</td>\n",
              "      <td>N</td>\n",
              "      <td>315000.0</td>\n",
              "      <td>Commercial associate</td>\n",
              "      <td>3</td>\n",
              "      <td>Married</td>\n",
              "      <td>House / apartment</td>\n",
              "      <td>Y</td>\n",
              "      <td>Y</td>\n",
              "      <td>Y</td>\n",
              "      <td>N</td>\n",
              "      <td>Unknown</td>\n",
              "      <td>2</td>\n",
              "      <td>Y</td>\n",
              "      <td>37</td>\n",
              "      <td>N</td>\n",
              "      <td>Y</td>\n",
              "    </tr>\n",
              "    <tr>\n",
              "      <th>2</th>\n",
              "      <td>Female</td>\n",
              "      <td>Y</td>\n",
              "      <td>N</td>\n",
              "      <td>N</td>\n",
              "      <td>315000.0</td>\n",
              "      <td>Commercial associate</td>\n",
              "      <td>3</td>\n",
              "      <td>Married</td>\n",
              "      <td>House / apartment</td>\n",
              "      <td>Y</td>\n",
              "      <td>Y</td>\n",
              "      <td>Y</td>\n",
              "      <td>N</td>\n",
              "      <td>Unknown</td>\n",
              "      <td>2</td>\n",
              "      <td>Y</td>\n",
              "      <td>42</td>\n",
              "      <td>N</td>\n",
              "      <td>Y</td>\n",
              "    </tr>\n",
              "    <tr>\n",
              "      <th>3</th>\n",
              "      <td>Female</td>\n",
              "      <td>Y</td>\n",
              "      <td>N</td>\n",
              "      <td>N</td>\n",
              "      <td>166500.0</td>\n",
              "      <td>Commercial associate</td>\n",
              "      <td>3</td>\n",
              "      <td>Married</td>\n",
              "      <td>House / apartment</td>\n",
              "      <td>Y</td>\n",
              "      <td>Y</td>\n",
              "      <td>Y</td>\n",
              "      <td>N</td>\n",
              "      <td>Unknown</td>\n",
              "      <td>2</td>\n",
              "      <td>Y</td>\n",
              "      <td>37</td>\n",
              "      <td>N</td>\n",
              "      <td>Y</td>\n",
              "    </tr>\n",
              "    <tr>\n",
              "      <th>4</th>\n",
              "      <td>Female</td>\n",
              "      <td>Y</td>\n",
              "      <td>N</td>\n",
              "      <td>N</td>\n",
              "      <td>315000.0</td>\n",
              "      <td>Commercial associate</td>\n",
              "      <td>3</td>\n",
              "      <td>Married</td>\n",
              "      <td>House / apartment</td>\n",
              "      <td>Y</td>\n",
              "      <td>Y</td>\n",
              "      <td>Y</td>\n",
              "      <td>N</td>\n",
              "      <td>Unknown</td>\n",
              "      <td>2</td>\n",
              "      <td>Y</td>\n",
              "      <td>37</td>\n",
              "      <td>N</td>\n",
              "      <td>Y</td>\n",
              "    </tr>\n",
              "  </tbody>\n",
              "</table>\n",
              "</div>\n",
              "    <div class=\"colab-df-buttons\">\n",
              "\n",
              "  <div class=\"colab-df-container\">\n",
              "    <button class=\"colab-df-convert\" onclick=\"convertToInteractive('df-0a750f91-a35e-428c-a680-745da2355943')\"\n",
              "            title=\"Convert this dataframe to an interactive table.\"\n",
              "            style=\"display:none;\">\n",
              "\n",
              "  <svg xmlns=\"http://www.w3.org/2000/svg\" height=\"24px\" viewBox=\"0 -960 960 960\">\n",
              "    <path d=\"M120-120v-720h720v720H120Zm60-500h600v-160H180v160Zm220 220h160v-160H400v160Zm0 220h160v-160H400v160ZM180-400h160v-160H180v160Zm440 0h160v-160H620v160ZM180-180h160v-160H180v160Zm440 0h160v-160H620v160Z\"/>\n",
              "  </svg>\n",
              "    </button>\n",
              "\n",
              "  <style>\n",
              "    .colab-df-container {\n",
              "      display:flex;\n",
              "      gap: 12px;\n",
              "    }\n",
              "\n",
              "    .colab-df-convert {\n",
              "      background-color: #E8F0FE;\n",
              "      border: none;\n",
              "      border-radius: 50%;\n",
              "      cursor: pointer;\n",
              "      display: none;\n",
              "      fill: #1967D2;\n",
              "      height: 32px;\n",
              "      padding: 0 0 0 0;\n",
              "      width: 32px;\n",
              "    }\n",
              "\n",
              "    .colab-df-convert:hover {\n",
              "      background-color: #E2EBFA;\n",
              "      box-shadow: 0px 1px 2px rgba(60, 64, 67, 0.3), 0px 1px 3px 1px rgba(60, 64, 67, 0.15);\n",
              "      fill: #174EA6;\n",
              "    }\n",
              "\n",
              "    .colab-df-buttons div {\n",
              "      margin-bottom: 4px;\n",
              "    }\n",
              "\n",
              "    [theme=dark] .colab-df-convert {\n",
              "      background-color: #3B4455;\n",
              "      fill: #D2E3FC;\n",
              "    }\n",
              "\n",
              "    [theme=dark] .colab-df-convert:hover {\n",
              "      background-color: #434B5C;\n",
              "      box-shadow: 0px 1px 3px 1px rgba(0, 0, 0, 0.15);\n",
              "      filter: drop-shadow(0px 1px 2px rgba(0, 0, 0, 0.3));\n",
              "      fill: #FFFFFF;\n",
              "    }\n",
              "  </style>\n",
              "\n",
              "    <script>\n",
              "      const buttonEl =\n",
              "        document.querySelector('#df-0a750f91-a35e-428c-a680-745da2355943 button.colab-df-convert');\n",
              "      buttonEl.style.display =\n",
              "        google.colab.kernel.accessAllowed ? 'block' : 'none';\n",
              "\n",
              "      async function convertToInteractive(key) {\n",
              "        const element = document.querySelector('#df-0a750f91-a35e-428c-a680-745da2355943');\n",
              "        const dataTable =\n",
              "          await google.colab.kernel.invokeFunction('convertToInteractive',\n",
              "                                                    [key], {});\n",
              "        if (!dataTable) return;\n",
              "\n",
              "        const docLinkHtml = 'Like what you see? Visit the ' +\n",
              "          '<a target=\"_blank\" href=https://colab.research.google.com/notebooks/data_table.ipynb>data table notebook</a>'\n",
              "          + ' to learn more about interactive tables.';\n",
              "        element.innerHTML = '';\n",
              "        dataTable['output_type'] = 'display_data';\n",
              "        await google.colab.output.renderOutput(dataTable, element);\n",
              "        const docLink = document.createElement('div');\n",
              "        docLink.innerHTML = docLinkHtml;\n",
              "        element.appendChild(docLink);\n",
              "      }\n",
              "    </script>\n",
              "  </div>\n",
              "\n",
              "\n",
              "<div id=\"df-9e597852-b126-4750-b4fe-fcc922875b85\">\n",
              "  <button class=\"colab-df-quickchart\" onclick=\"quickchart('df-9e597852-b126-4750-b4fe-fcc922875b85')\"\n",
              "            title=\"Suggest charts\"\n",
              "            style=\"display:none;\">\n",
              "\n",
              "<svg xmlns=\"http://www.w3.org/2000/svg\" height=\"24px\"viewBox=\"0 0 24 24\"\n",
              "     width=\"24px\">\n",
              "    <g>\n",
              "        <path d=\"M19 3H5c-1.1 0-2 .9-2 2v14c0 1.1.9 2 2 2h14c1.1 0 2-.9 2-2V5c0-1.1-.9-2-2-2zM9 17H7v-7h2v7zm4 0h-2V7h2v10zm4 0h-2v-4h2v4z\"/>\n",
              "    </g>\n",
              "</svg>\n",
              "  </button>\n",
              "\n",
              "<style>\n",
              "  .colab-df-quickchart {\n",
              "      --bg-color: #E8F0FE;\n",
              "      --fill-color: #1967D2;\n",
              "      --hover-bg-color: #E2EBFA;\n",
              "      --hover-fill-color: #174EA6;\n",
              "      --disabled-fill-color: #AAA;\n",
              "      --disabled-bg-color: #DDD;\n",
              "  }\n",
              "\n",
              "  [theme=dark] .colab-df-quickchart {\n",
              "      --bg-color: #3B4455;\n",
              "      --fill-color: #D2E3FC;\n",
              "      --hover-bg-color: #434B5C;\n",
              "      --hover-fill-color: #FFFFFF;\n",
              "      --disabled-bg-color: #3B4455;\n",
              "      --disabled-fill-color: #666;\n",
              "  }\n",
              "\n",
              "  .colab-df-quickchart {\n",
              "    background-color: var(--bg-color);\n",
              "    border: none;\n",
              "    border-radius: 50%;\n",
              "    cursor: pointer;\n",
              "    display: none;\n",
              "    fill: var(--fill-color);\n",
              "    height: 32px;\n",
              "    padding: 0;\n",
              "    width: 32px;\n",
              "  }\n",
              "\n",
              "  .colab-df-quickchart:hover {\n",
              "    background-color: var(--hover-bg-color);\n",
              "    box-shadow: 0 1px 2px rgba(60, 64, 67, 0.3), 0 1px 3px 1px rgba(60, 64, 67, 0.15);\n",
              "    fill: var(--button-hover-fill-color);\n",
              "  }\n",
              "\n",
              "  .colab-df-quickchart-complete:disabled,\n",
              "  .colab-df-quickchart-complete:disabled:hover {\n",
              "    background-color: var(--disabled-bg-color);\n",
              "    fill: var(--disabled-fill-color);\n",
              "    box-shadow: none;\n",
              "  }\n",
              "\n",
              "  .colab-df-spinner {\n",
              "    border: 2px solid var(--fill-color);\n",
              "    border-color: transparent;\n",
              "    border-bottom-color: var(--fill-color);\n",
              "    animation:\n",
              "      spin 1s steps(1) infinite;\n",
              "  }\n",
              "\n",
              "  @keyframes spin {\n",
              "    0% {\n",
              "      border-color: transparent;\n",
              "      border-bottom-color: var(--fill-color);\n",
              "      border-left-color: var(--fill-color);\n",
              "    }\n",
              "    20% {\n",
              "      border-color: transparent;\n",
              "      border-left-color: var(--fill-color);\n",
              "      border-top-color: var(--fill-color);\n",
              "    }\n",
              "    30% {\n",
              "      border-color: transparent;\n",
              "      border-left-color: var(--fill-color);\n",
              "      border-top-color: var(--fill-color);\n",
              "      border-right-color: var(--fill-color);\n",
              "    }\n",
              "    40% {\n",
              "      border-color: transparent;\n",
              "      border-right-color: var(--fill-color);\n",
              "      border-top-color: var(--fill-color);\n",
              "    }\n",
              "    60% {\n",
              "      border-color: transparent;\n",
              "      border-right-color: var(--fill-color);\n",
              "    }\n",
              "    80% {\n",
              "      border-color: transparent;\n",
              "      border-right-color: var(--fill-color);\n",
              "      border-bottom-color: var(--fill-color);\n",
              "    }\n",
              "    90% {\n",
              "      border-color: transparent;\n",
              "      border-bottom-color: var(--fill-color);\n",
              "    }\n",
              "  }\n",
              "</style>\n",
              "\n",
              "  <script>\n",
              "    async function quickchart(key) {\n",
              "      const quickchartButtonEl =\n",
              "        document.querySelector('#' + key + ' button');\n",
              "      quickchartButtonEl.disabled = true;  // To prevent multiple clicks.\n",
              "      quickchartButtonEl.classList.add('colab-df-spinner');\n",
              "      try {\n",
              "        const charts = await google.colab.kernel.invokeFunction(\n",
              "            'suggestCharts', [key], {});\n",
              "      } catch (error) {\n",
              "        console.error('Error during call to suggestCharts:', error);\n",
              "      }\n",
              "      quickchartButtonEl.classList.remove('colab-df-spinner');\n",
              "      quickchartButtonEl.classList.add('colab-df-quickchart-complete');\n",
              "    }\n",
              "    (() => {\n",
              "      let quickchartButtonEl =\n",
              "        document.querySelector('#df-9e597852-b126-4750-b4fe-fcc922875b85 button');\n",
              "      quickchartButtonEl.style.display =\n",
              "        google.colab.kernel.accessAllowed ? 'block' : 'none';\n",
              "    })();\n",
              "  </script>\n",
              "</div>\n",
              "\n",
              "    </div>\n",
              "  </div>\n"
            ]
          },
          "metadata": {},
          "execution_count": 94
        }
      ]
    },
    {
      "cell_type": "code",
      "source": [
        "import duckdb\n",
        "conn=duckdb.connect()\n",
        "conn.register('df',df)"
      ],
      "metadata": {
        "colab": {
          "base_uri": "https://localhost:8080/"
        },
        "id": "c1wIDJH0ePuJ",
        "outputId": "c7d73d17-abd6-419c-9d5a-2f278bf9acfa"
      },
      "execution_count": null,
      "outputs": [
        {
          "output_type": "execute_result",
          "data": {
            "text/plain": [
              "<duckdb.duckdb.DuckDBPyConnection at 0x78b1e08227b0>"
            ]
          },
          "metadata": {},
          "execution_count": 92
        }
      ]
    },
    {
      "cell_type": "code",
      "source": [
        "import duckdb\n",
        "import pandas as pd\n",
        "\n",
        "# Assuming you've already connected and registered 'df'\n",
        "\n",
        "# Write your SQL query\n",
        "query = \"\"\"\n",
        "SELECT\n",
        "    GENDER,\n",
        "    Car_Owner,\n",
        "    Propert_Owner\n",
        "FROM\n",
        "    df\n",
        "WHERE\n",
        "    GENDER = 'Female' AND (Car_Owner = 'Y' OR Propert_Owner = 'Y');\n",
        "\"\"\"\n",
        "\n",
        "# Execute the query and fetch the results into a DataFrame\n",
        "df_result = conn.execute(query).fetch_df()\n",
        "\n",
        "# Display the DataFrame\n",
        "print(df_result)\n"
      ],
      "metadata": {
        "colab": {
          "base_uri": "https://localhost:8080/"
        },
        "id": "uSDM0VOUgqaH",
        "outputId": "f5c6d4cc-4c3c-4ef3-ae08-79b5ed0a71f0"
      },
      "execution_count": null,
      "outputs": [
        {
          "output_type": "stream",
          "name": "stdout",
          "text": [
            "     GENDER Car_Owner Propert_Owner\n",
            "0    Female         Y             N\n",
            "1    Female         Y             N\n",
            "2    Female         Y             N\n",
            "3    Female         Y             N\n",
            "4    Female         Y             N\n",
            "..      ...       ...           ...\n",
            "730  Female         N             Y\n",
            "731  Female         N             Y\n",
            "732  Female         N             Y\n",
            "733  Female         N             Y\n",
            "734  Female         N             Y\n",
            "\n",
            "[735 rows x 3 columns]\n"
          ]
        }
      ]
    },
    {
      "cell_type": "markdown",
      "source": [
        "3. Find the male customers who are staying with their families."
      ],
      "metadata": {
        "id": "wuXZm8hkk0lN"
      }
    },
    {
      "cell_type": "code",
      "source": [
        "\n",
        "query = \"\"\"\n",
        "SELECT GENDER, Marital_status\n",
        "FROM df\n",
        "WHERE GENDER = 'Male' AND Marital_status = 'Married';\n",
        "\"\"\"\n",
        "\n",
        "# Execute the query and fetch the results into a DataFrame\n",
        "df_result = conn.execute(query).fetch_df()\n",
        "\n",
        "# Display the DataFrame\n",
        "print(df_result)\n",
        "print(df_result.count())"
      ],
      "metadata": {
        "colab": {
          "base_uri": "https://localhost:8080/"
        },
        "id": "AN6DMkTxk9tN",
        "outputId": "d464ad31-a6ed-4001-efb2-28e128c90fee"
      },
      "execution_count": null,
      "outputs": [
        {
          "output_type": "stream",
          "name": "stdout",
          "text": [
            "    GENDER Marital_status\n",
            "0     Male        Married\n",
            "1     Male        Married\n",
            "2     Male        Married\n",
            "3     Male        Married\n",
            "4     Male        Married\n",
            "..     ...            ...\n",
            "414   Male        Married\n",
            "415   Male        Married\n",
            "416   Male        Married\n",
            "417   Male        Married\n",
            "418   Male        Married\n",
            "\n",
            "[419 rows x 2 columns]\n",
            "GENDER            419\n",
            "Marital_status    419\n",
            "dtype: int64\n"
          ]
        }
      ]
    },
    {
      "cell_type": "markdown",
      "source": [
        "4. Please list the top five people having the highest income."
      ],
      "metadata": {
        "id": "C6jCwWAOmY92"
      }
    },
    {
      "cell_type": "code",
      "source": [
        "query = \"\"\"\n",
        "SELECT GENDER, Annual_income\n",
        "FROM df\n",
        "ORDER BY Annual_income DESC\n",
        "LIMIT 5;\n",
        "\n",
        "\"\"\"\n",
        "\n",
        "# Execute the query and fetch the results into a DataFrame\n",
        "df_result = conn.execute(query).fetch_df()\n",
        "\n",
        "# Display the DataFrame\n",
        "print(df_result)\n"
      ],
      "metadata": {
        "colab": {
          "base_uri": "https://localhost:8080/"
        },
        "id": "pl6HGx4smi0c",
        "outputId": "9fa0f3a4-536d-4b70-9baf-ac1302c030dd"
      },
      "execution_count": null,
      "outputs": [
        {
          "output_type": "stream",
          "name": "stdout",
          "text": [
            "   GENDER  Annual_income\n",
            "0  Female      1575000.0\n",
            "1  Female      1575000.0\n",
            "2    Male       900000.0\n",
            "3    Male       900000.0\n",
            "4    Male       900000.0\n"
          ]
        }
      ]
    },
    {
      "cell_type": "markdown",
      "source": [
        "5.How many married people are having bad credit?"
      ],
      "metadata": {
        "id": "LrfAAFiGnzlO"
      }
    },
    {
      "cell_type": "code",
      "source": [
        "query = \"\"\"\n",
        "SELECT  Marital_status, label\n",
        "FROM df\n",
        "WHERE Marital_status = 'Married' AND label= 'Y';\n",
        "\"\"\"\n",
        "\n",
        "# Execute the query and fetch the results into a DataFrame\n",
        "df_result = conn.execute(query).fetch_df()\n",
        "\n",
        "# Display the DataFrame\n",
        "print(df_result.count())\n",
        "print(f\"People who are married and have bad credit score: {df_result}\")\n"
      ],
      "metadata": {
        "colab": {
          "base_uri": "https://localhost:8080/"
        },
        "id": "6bChMxSmn-kX",
        "outputId": "d336d407-2343-409f-e541-fb6eac3b52ae"
      },
      "execution_count": null,
      "outputs": [
        {
          "output_type": "stream",
          "name": "stdout",
          "text": [
            "Marital_status    114\n",
            "label             114\n",
            "dtype: int64\n",
            "People who are married and have bad credit score:     Marital_status label\n",
            "0          Married     Y\n",
            "1          Married     Y\n",
            "2          Married     Y\n",
            "3          Married     Y\n",
            "4          Married     Y\n",
            "..             ...   ...\n",
            "109        Married     Y\n",
            "110        Married     Y\n",
            "111        Married     Y\n",
            "112        Married     Y\n",
            "113        Married     Y\n",
            "\n",
            "[114 rows x 2 columns]\n"
          ]
        }
      ]
    },
    {
      "cell_type": "markdown",
      "source": [
        "6. What is the highest education level and what is the total count?"
      ],
      "metadata": {
        "id": "3hT4duOzp7cu"
      }
    },
    {
      "cell_type": "code",
      "source": [
        "# # Process the 'EDUCATION' column by converting it to education level from encoded value\n",
        "# education_mapping = {\n",
        "#     'Lower secondary': 0,\n",
        "#     'Secondary / secondary special': 1,\n",
        "#     'Incomplete higher': 2,\n",
        "#     'Higher education': 3,\n",
        "#     'Academic degree': 4\n",
        "# }\n",
        "# df['EDUCATION'] = df['EDUCATION'].map(education_mapping)\n"
      ],
      "metadata": {
        "id": "UXqwW0rRqR_C"
      },
      "execution_count": null,
      "outputs": []
    },
    {
      "cell_type": "code",
      "source": [
        "query = \"\"\"\n",
        "SELECT EDUCATION, COUNT(EDUCATION) AS highest_education\n",
        "FROM df\n",
        "GROUP BY EDUCATION\n",
        "ORDER BY highest_education DESC\n",
        "LIMIT 5;\n",
        "\"\"\"\n",
        "\n",
        "# Execute the query and fetch the results into a DataFrame\n",
        "df_result = conn.execute(query).fetch_df()\n",
        "\n",
        "# Display the DataFrame\n",
        "print(df_result)"
      ],
      "metadata": {
        "colab": {
          "base_uri": "https://localhost:8080/"
        },
        "id": "Mk7fxkMGp-aF",
        "outputId": "90db00f4-8364-4686-dcbf-6a5dc4f2b80a"
      },
      "execution_count": null,
      "outputs": [
        {
          "output_type": "stream",
          "name": "stdout",
          "text": [
            "  EDUCATION  highest_education\n",
            "0         Y               1031\n",
            "1         3                426\n",
            "2         2                 68\n",
            "3         N                 21\n",
            "4         4                  2\n"
          ]
        }
      ]
    },
    {
      "cell_type": "markdown",
      "source": [
        "7. Between married males and females, who is having more bad credit?"
      ],
      "metadata": {
        "id": "mSexy9kKrbh0"
      }
    },
    {
      "cell_type": "code",
      "source": [
        "query = \"\"\"\n",
        "SELECT GENDER, COUNT(*) AS bad_credit_count\n",
        "FROM df\n",
        "WHERE Marital_status = 'Married' AND label = 'Y'\n",
        "GROUP BY GENDER;\n",
        "\"\"\"\n",
        "\n",
        "# Execute the query and fetch the results into a DataFrame\n",
        "df_result = conn.execute(query).fetch_df()\n",
        "\n",
        "# Display the DataFrame\n",
        "print(df_result)"
      ],
      "metadata": {
        "colab": {
          "base_uri": "https://localhost:8080/"
        },
        "id": "blRw5Pgerz3P",
        "outputId": "470ced73-2548-42db-d5cd-ada632b997ec"
      },
      "execution_count": null,
      "outputs": [
        {
          "output_type": "stream",
          "name": "stdout",
          "text": [
            "   GENDER  bad_credit_count\n",
            "0    Male                51\n",
            "1  Female                63\n"
          ]
        }
      ]
    },
    {
      "cell_type": "markdown",
      "source": [
        "\n",
        "\n",
        "---\n",
        "\n"
      ],
      "metadata": {
        "id": "QO--6ECBsPlZ"
      }
    }
  ]
}